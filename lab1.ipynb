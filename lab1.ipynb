{
  "nbformat": 4,
  "nbformat_minor": 0,
  "metadata": {
    "colab": {
      "provenance": [],
      "authorship_tag": "ABX9TyNtb29RZTo5mtFqQkT86PNV",
      "include_colab_link": true
    },
    "kernelspec": {
      "name": "ir",
      "display_name": "R"
    },
    "language_info": {
      "name": "R"
    }
  },
  "cells": [
    {
      "cell_type": "markdown",
      "metadata": {
        "id": "view-in-github",
        "colab_type": "text"
      },
      "source": [
        "<a href=\"https://colab.research.google.com/github/ViktoriaZaremba/DataScienceCourseKNU/blob/main/lab1.ipynb\" target=\"_parent\"><img src=\"https://colab.research.google.com/assets/colab-badge.svg\" alt=\"Open In Colab\"/></a>"
      ]
    },
    {
      "cell_type": "markdown",
      "source": [
        "**Лабораторна робота №1**"
      ],
      "metadata": {
        "id": "h84jrY4-AmeX"
      }
    },
    {
      "cell_type": "markdown",
      "source": [
        "1. Створити змінні базових (atomic) типів. Базові типи: character, numeric, integer, complex, logical."
      ],
      "metadata": {
        "id": "EHz7SDHwAvhA"
      }
    },
    {
      "cell_type": "code",
      "execution_count": null,
      "metadata": {
        "id": "kOQBNZ6LAEEH"
      },
      "outputs": [],
      "source": [
        "my_chararacter <- 'Viktoria Zaremba, UP-11'\n",
        "my_numeric <- 2022\n",
        "my_integer <- 1L\n",
        "my_complex <- 1 + 5i\n",
        "my_logical <- TRUE"
      ]
    },
    {
      "cell_type": "code",
      "source": [
        "my_chararacter"
      ],
      "metadata": {
        "colab": {
          "base_uri": "https://localhost:8080/",
          "height": 34
        },
        "id": "NkDxQbH0Bry2",
        "outputId": "ea07b5ff-0351-4336-c9fd-cd4a5d8fd168"
      },
      "execution_count": null,
      "outputs": [
        {
          "output_type": "display_data",
          "data": {
            "text/html": [
              "'Viktoria Zaremba, UP-11'"
            ],
            "text/markdown": "'Viktoria Zaremba, UP-11'",
            "text/latex": "'Viktoria Zaremba, UP-11'",
            "text/plain": [
              "[1] \"Viktoria Zaremba, UP-11\""
            ]
          },
          "metadata": {}
        }
      ]
    },
    {
      "cell_type": "code",
      "source": [
        "sprintf(\"my_chararacter = %s; class: %s\", my_chararacter, class(my_chararacter))\n",
        "sprintf(\"my_numeric = %s; class: %s\", my_numeric, class(my_numeric))\n",
        "sprintf(\"my_integer = %s; class: %s\", my_integer, class(my_integer))\n",
        "sprintf(\"my_complex = %s; class: %s\", my_complex, class(my_complex))\n",
        "sprintf(\"my_logical = %s; class: %s\", my_logical, class(my_logical))"
      ],
      "metadata": {
        "colab": {
          "base_uri": "https://localhost:8080/",
          "height": 104
        },
        "id": "KTnnKFBEBwRE",
        "outputId": "3d4449a4-e42a-44de-a4a4-e7b8964380a9"
      },
      "execution_count": null,
      "outputs": [
        {
          "output_type": "display_data",
          "data": {
            "text/html": [
              "'my_chararacter = Viktoria Zaremba, UP-11; class: character'"
            ],
            "text/markdown": "'my_chararacter = Viktoria Zaremba, UP-11; class: character'",
            "text/latex": "'my\\_chararacter = Viktoria Zaremba, UP-11; class: character'",
            "text/plain": [
              "[1] \"my_chararacter = Viktoria Zaremba, UP-11; class: character\""
            ]
          },
          "metadata": {}
        },
        {
          "output_type": "display_data",
          "data": {
            "text/html": [
              "'my_numeric = 2022; class: numeric'"
            ],
            "text/markdown": "'my_numeric = 2022; class: numeric'",
            "text/latex": "'my\\_numeric = 2022; class: numeric'",
            "text/plain": [
              "[1] \"my_numeric = 2022; class: numeric\""
            ]
          },
          "metadata": {}
        },
        {
          "output_type": "display_data",
          "data": {
            "text/html": [
              "'my_integer = 1; class: integer'"
            ],
            "text/markdown": "'my_integer = 1; class: integer'",
            "text/latex": "'my\\_integer = 1; class: integer'",
            "text/plain": [
              "[1] \"my_integer = 1; class: integer\""
            ]
          },
          "metadata": {}
        },
        {
          "output_type": "display_data",
          "data": {
            "text/html": [
              "'my_complex = 1+5i; class: complex'"
            ],
            "text/markdown": "'my_complex = 1+5i; class: complex'",
            "text/latex": "'my\\_complex = 1+5i; class: complex'",
            "text/plain": [
              "[1] \"my_complex = 1+5i; class: complex\""
            ]
          },
          "metadata": {}
        },
        {
          "output_type": "display_data",
          "data": {
            "text/html": [
              "'my_logical = TRUE; class: logical'"
            ],
            "text/markdown": "'my_logical = TRUE; class: logical'",
            "text/latex": "'my\\_logical = TRUE; class: logical'",
            "text/plain": [
              "[1] \"my_logical = TRUE; class: logical\""
            ]
          },
          "metadata": {}
        }
      ]
    },
    {
      "cell_type": "markdown",
      "source": [
        "2. Створити вектори, які: містить послідовність з 5 до 75; містить числа 3.14, 2.71, 0, 13; 100 значень TRUE."
      ],
      "metadata": {
        "id": "zRbGOP52FpMF"
      }
    },
    {
      "cell_type": "code",
      "source": [
        "my_vec1 <- 5:75\n",
        "my_vec1\n",
        "class(my_vec1)"
      ],
      "metadata": {
        "colab": {
          "base_uri": "https://localhost:8080/",
          "height": 104
        },
        "id": "VafaP51MDhNy",
        "outputId": "f10b0bfb-bf5d-4573-ca04-e451056a9cd0"
      },
      "execution_count": null,
      "outputs": [
        {
          "output_type": "display_data",
          "data": {
            "text/html": [
              "<style>\n",
              ".list-inline {list-style: none; margin:0; padding: 0}\n",
              ".list-inline>li {display: inline-block}\n",
              ".list-inline>li:not(:last-child)::after {content: \"\\00b7\"; padding: 0 .5ex}\n",
              "</style>\n",
              "<ol class=list-inline><li>5</li><li>6</li><li>7</li><li>8</li><li>9</li><li>10</li><li>11</li><li>12</li><li>13</li><li>14</li><li>15</li><li>16</li><li>17</li><li>18</li><li>19</li><li>20</li><li>21</li><li>22</li><li>23</li><li>24</li><li>25</li><li>26</li><li>27</li><li>28</li><li>29</li><li>30</li><li>31</li><li>32</li><li>33</li><li>34</li><li>35</li><li>36</li><li>37</li><li>38</li><li>39</li><li>40</li><li>41</li><li>42</li><li>43</li><li>44</li><li>45</li><li>46</li><li>47</li><li>48</li><li>49</li><li>50</li><li>51</li><li>52</li><li>53</li><li>54</li><li>55</li><li>56</li><li>57</li><li>58</li><li>59</li><li>60</li><li>61</li><li>62</li><li>63</li><li>64</li><li>65</li><li>66</li><li>67</li><li>68</li><li>69</li><li>70</li><li>71</li><li>72</li><li>73</li><li>74</li><li>75</li></ol>\n"
            ],
            "text/markdown": "1. 5\n2. 6\n3. 7\n4. 8\n5. 9\n6. 10\n7. 11\n8. 12\n9. 13\n10. 14\n11. 15\n12. 16\n13. 17\n14. 18\n15. 19\n16. 20\n17. 21\n18. 22\n19. 23\n20. 24\n21. 25\n22. 26\n23. 27\n24. 28\n25. 29\n26. 30\n27. 31\n28. 32\n29. 33\n30. 34\n31. 35\n32. 36\n33. 37\n34. 38\n35. 39\n36. 40\n37. 41\n38. 42\n39. 43\n40. 44\n41. 45\n42. 46\n43. 47\n44. 48\n45. 49\n46. 50\n47. 51\n48. 52\n49. 53\n50. 54\n51. 55\n52. 56\n53. 57\n54. 58\n55. 59\n56. 60\n57. 61\n58. 62\n59. 63\n60. 64\n61. 65\n62. 66\n63. 67\n64. 68\n65. 69\n66. 70\n67. 71\n68. 72\n69. 73\n70. 74\n71. 75\n\n\n",
            "text/latex": "\\begin{enumerate*}\n\\item 5\n\\item 6\n\\item 7\n\\item 8\n\\item 9\n\\item 10\n\\item 11\n\\item 12\n\\item 13\n\\item 14\n\\item 15\n\\item 16\n\\item 17\n\\item 18\n\\item 19\n\\item 20\n\\item 21\n\\item 22\n\\item 23\n\\item 24\n\\item 25\n\\item 26\n\\item 27\n\\item 28\n\\item 29\n\\item 30\n\\item 31\n\\item 32\n\\item 33\n\\item 34\n\\item 35\n\\item 36\n\\item 37\n\\item 38\n\\item 39\n\\item 40\n\\item 41\n\\item 42\n\\item 43\n\\item 44\n\\item 45\n\\item 46\n\\item 47\n\\item 48\n\\item 49\n\\item 50\n\\item 51\n\\item 52\n\\item 53\n\\item 54\n\\item 55\n\\item 56\n\\item 57\n\\item 58\n\\item 59\n\\item 60\n\\item 61\n\\item 62\n\\item 63\n\\item 64\n\\item 65\n\\item 66\n\\item 67\n\\item 68\n\\item 69\n\\item 70\n\\item 71\n\\item 72\n\\item 73\n\\item 74\n\\item 75\n\\end{enumerate*}\n",
            "text/plain": [
              " [1]  5  6  7  8  9 10 11 12 13 14 15 16 17 18 19 20 21 22 23 24 25 26 27 28 29\n",
              "[26] 30 31 32 33 34 35 36 37 38 39 40 41 42 43 44 45 46 47 48 49 50 51 52 53 54\n",
              "[51] 55 56 57 58 59 60 61 62 63 64 65 66 67 68 69 70 71 72 73 74 75"
            ]
          },
          "metadata": {}
        },
        {
          "output_type": "display_data",
          "data": {
            "text/html": [
              "'integer'"
            ],
            "text/markdown": "'integer'",
            "text/latex": "'integer'",
            "text/plain": [
              "[1] \"integer\""
            ]
          },
          "metadata": {}
        }
      ]
    },
    {
      "cell_type": "code",
      "source": [
        "my_vec2 <- c(3.14, 2.71, 0, 13) \n",
        "my_vec2"
      ],
      "metadata": {
        "colab": {
          "base_uri": "https://localhost:8080/",
          "height": 34
        },
        "id": "92MTlZyLGh58",
        "outputId": "a9de4c2b-5a79-4656-a49c-c9de0effae8a"
      },
      "execution_count": null,
      "outputs": [
        {
          "output_type": "display_data",
          "data": {
            "text/html": [
              "<style>\n",
              ".list-inline {list-style: none; margin:0; padding: 0}\n",
              ".list-inline>li {display: inline-block}\n",
              ".list-inline>li:not(:last-child)::after {content: \"\\00b7\"; padding: 0 .5ex}\n",
              "</style>\n",
              "<ol class=list-inline><li>3.14</li><li>2.71</li><li>0</li><li>13</li></ol>\n"
            ],
            "text/markdown": "1. 3.14\n2. 2.71\n3. 0\n4. 13\n\n\n",
            "text/latex": "\\begin{enumerate*}\n\\item 3.14\n\\item 2.71\n\\item 0\n\\item 13\n\\end{enumerate*}\n",
            "text/plain": [
              "[1]  3.14  2.71  0.00 13.00"
            ]
          },
          "metadata": {}
        }
      ]
    },
    {
      "cell_type": "code",
      "source": [
        "my_vec3_v1 <- rep(c(TRUE), 100)\n",
        "my_vec3_v1"
      ],
      "metadata": {
        "colab": {
          "base_uri": "https://localhost:8080/",
          "height": 173
        },
        "id": "xU9r1MS2GxyE",
        "outputId": "e3535c4b-483e-4b0d-db7a-22088d41ded4"
      },
      "execution_count": null,
      "outputs": [
        {
          "output_type": "display_data",
          "data": {
            "text/html": [
              "<style>\n",
              ".list-inline {list-style: none; margin:0; padding: 0}\n",
              ".list-inline>li {display: inline-block}\n",
              ".list-inline>li:not(:last-child)::after {content: \"\\00b7\"; padding: 0 .5ex}\n",
              "</style>\n",
              "<ol class=list-inline><li>TRUE</li><li>TRUE</li><li>TRUE</li><li>TRUE</li><li>TRUE</li><li>TRUE</li><li>TRUE</li><li>TRUE</li><li>TRUE</li><li>TRUE</li><li>TRUE</li><li>TRUE</li><li>TRUE</li><li>TRUE</li><li>TRUE</li><li>TRUE</li><li>TRUE</li><li>TRUE</li><li>TRUE</li><li>TRUE</li><li>TRUE</li><li>TRUE</li><li>TRUE</li><li>TRUE</li><li>TRUE</li><li>TRUE</li><li>TRUE</li><li>TRUE</li><li>TRUE</li><li>TRUE</li><li>TRUE</li><li>TRUE</li><li>TRUE</li><li>TRUE</li><li>TRUE</li><li>TRUE</li><li>TRUE</li><li>TRUE</li><li>TRUE</li><li>TRUE</li><li>TRUE</li><li>TRUE</li><li>TRUE</li><li>TRUE</li><li>TRUE</li><li>TRUE</li><li>TRUE</li><li>TRUE</li><li>TRUE</li><li>TRUE</li><li>TRUE</li><li>TRUE</li><li>TRUE</li><li>TRUE</li><li>TRUE</li><li>TRUE</li><li>TRUE</li><li>TRUE</li><li>TRUE</li><li>TRUE</li><li>TRUE</li><li>TRUE</li><li>TRUE</li><li>TRUE</li><li>TRUE</li><li>TRUE</li><li>TRUE</li><li>TRUE</li><li>TRUE</li><li>TRUE</li><li>TRUE</li><li>TRUE</li><li>TRUE</li><li>TRUE</li><li>TRUE</li><li>TRUE</li><li>TRUE</li><li>TRUE</li><li>TRUE</li><li>TRUE</li><li>TRUE</li><li>TRUE</li><li>TRUE</li><li>TRUE</li><li>TRUE</li><li>TRUE</li><li>TRUE</li><li>TRUE</li><li>TRUE</li><li>TRUE</li><li>TRUE</li><li>TRUE</li><li>TRUE</li><li>TRUE</li><li>TRUE</li><li>TRUE</li><li>TRUE</li><li>TRUE</li><li>TRUE</li><li>TRUE</li></ol>\n"
            ],
            "text/markdown": "1. TRUE\n2. TRUE\n3. TRUE\n4. TRUE\n5. TRUE\n6. TRUE\n7. TRUE\n8. TRUE\n9. TRUE\n10. TRUE\n11. TRUE\n12. TRUE\n13. TRUE\n14. TRUE\n15. TRUE\n16. TRUE\n17. TRUE\n18. TRUE\n19. TRUE\n20. TRUE\n21. TRUE\n22. TRUE\n23. TRUE\n24. TRUE\n25. TRUE\n26. TRUE\n27. TRUE\n28. TRUE\n29. TRUE\n30. TRUE\n31. TRUE\n32. TRUE\n33. TRUE\n34. TRUE\n35. TRUE\n36. TRUE\n37. TRUE\n38. TRUE\n39. TRUE\n40. TRUE\n41. TRUE\n42. TRUE\n43. TRUE\n44. TRUE\n45. TRUE\n46. TRUE\n47. TRUE\n48. TRUE\n49. TRUE\n50. TRUE\n51. TRUE\n52. TRUE\n53. TRUE\n54. TRUE\n55. TRUE\n56. TRUE\n57. TRUE\n58. TRUE\n59. TRUE\n60. TRUE\n61. TRUE\n62. TRUE\n63. TRUE\n64. TRUE\n65. TRUE\n66. TRUE\n67. TRUE\n68. TRUE\n69. TRUE\n70. TRUE\n71. TRUE\n72. TRUE\n73. TRUE\n74. TRUE\n75. TRUE\n76. TRUE\n77. TRUE\n78. TRUE\n79. TRUE\n80. TRUE\n81. TRUE\n82. TRUE\n83. TRUE\n84. TRUE\n85. TRUE\n86. TRUE\n87. TRUE\n88. TRUE\n89. TRUE\n90. TRUE\n91. TRUE\n92. TRUE\n93. TRUE\n94. TRUE\n95. TRUE\n96. TRUE\n97. TRUE\n98. TRUE\n99. TRUE\n100. TRUE\n\n\n",
            "text/latex": "\\begin{enumerate*}\n\\item TRUE\n\\item TRUE\n\\item TRUE\n\\item TRUE\n\\item TRUE\n\\item TRUE\n\\item TRUE\n\\item TRUE\n\\item TRUE\n\\item TRUE\n\\item TRUE\n\\item TRUE\n\\item TRUE\n\\item TRUE\n\\item TRUE\n\\item TRUE\n\\item TRUE\n\\item TRUE\n\\item TRUE\n\\item TRUE\n\\item TRUE\n\\item TRUE\n\\item TRUE\n\\item TRUE\n\\item TRUE\n\\item TRUE\n\\item TRUE\n\\item TRUE\n\\item TRUE\n\\item TRUE\n\\item TRUE\n\\item TRUE\n\\item TRUE\n\\item TRUE\n\\item TRUE\n\\item TRUE\n\\item TRUE\n\\item TRUE\n\\item TRUE\n\\item TRUE\n\\item TRUE\n\\item TRUE\n\\item TRUE\n\\item TRUE\n\\item TRUE\n\\item TRUE\n\\item TRUE\n\\item TRUE\n\\item TRUE\n\\item TRUE\n\\item TRUE\n\\item TRUE\n\\item TRUE\n\\item TRUE\n\\item TRUE\n\\item TRUE\n\\item TRUE\n\\item TRUE\n\\item TRUE\n\\item TRUE\n\\item TRUE\n\\item TRUE\n\\item TRUE\n\\item TRUE\n\\item TRUE\n\\item TRUE\n\\item TRUE\n\\item TRUE\n\\item TRUE\n\\item TRUE\n\\item TRUE\n\\item TRUE\n\\item TRUE\n\\item TRUE\n\\item TRUE\n\\item TRUE\n\\item TRUE\n\\item TRUE\n\\item TRUE\n\\item TRUE\n\\item TRUE\n\\item TRUE\n\\item TRUE\n\\item TRUE\n\\item TRUE\n\\item TRUE\n\\item TRUE\n\\item TRUE\n\\item TRUE\n\\item TRUE\n\\item TRUE\n\\item TRUE\n\\item TRUE\n\\item TRUE\n\\item TRUE\n\\item TRUE\n\\item TRUE\n\\item TRUE\n\\item TRUE\n\\item TRUE\n\\end{enumerate*}\n",
            "text/plain": [
              "  [1] TRUE TRUE TRUE TRUE TRUE TRUE TRUE TRUE TRUE TRUE TRUE TRUE TRUE TRUE TRUE\n",
              " [16] TRUE TRUE TRUE TRUE TRUE TRUE TRUE TRUE TRUE TRUE TRUE TRUE TRUE TRUE TRUE\n",
              " [31] TRUE TRUE TRUE TRUE TRUE TRUE TRUE TRUE TRUE TRUE TRUE TRUE TRUE TRUE TRUE\n",
              " [46] TRUE TRUE TRUE TRUE TRUE TRUE TRUE TRUE TRUE TRUE TRUE TRUE TRUE TRUE TRUE\n",
              " [61] TRUE TRUE TRUE TRUE TRUE TRUE TRUE TRUE TRUE TRUE TRUE TRUE TRUE TRUE TRUE\n",
              " [76] TRUE TRUE TRUE TRUE TRUE TRUE TRUE TRUE TRUE TRUE TRUE TRUE TRUE TRUE TRUE\n",
              " [91] TRUE TRUE TRUE TRUE TRUE TRUE TRUE TRUE TRUE TRUE"
            ]
          },
          "metadata": {}
        }
      ]
    },
    {
      "cell_type": "code",
      "source": [
        "my_vec3_v2 <- replicate(100, c(TRUE))\n",
        "my_vec3_v2"
      ],
      "metadata": {
        "colab": {
          "base_uri": "https://localhost:8080/",
          "height": 173
        },
        "id": "p7DEoNoGHKDh",
        "outputId": "afd279d8-303f-464a-9304-0065143d7093"
      },
      "execution_count": null,
      "outputs": [
        {
          "output_type": "display_data",
          "data": {
            "text/html": [
              "<style>\n",
              ".list-inline {list-style: none; margin:0; padding: 0}\n",
              ".list-inline>li {display: inline-block}\n",
              ".list-inline>li:not(:last-child)::after {content: \"\\00b7\"; padding: 0 .5ex}\n",
              "</style>\n",
              "<ol class=list-inline><li>TRUE</li><li>TRUE</li><li>TRUE</li><li>TRUE</li><li>TRUE</li><li>TRUE</li><li>TRUE</li><li>TRUE</li><li>TRUE</li><li>TRUE</li><li>TRUE</li><li>TRUE</li><li>TRUE</li><li>TRUE</li><li>TRUE</li><li>TRUE</li><li>TRUE</li><li>TRUE</li><li>TRUE</li><li>TRUE</li><li>TRUE</li><li>TRUE</li><li>TRUE</li><li>TRUE</li><li>TRUE</li><li>TRUE</li><li>TRUE</li><li>TRUE</li><li>TRUE</li><li>TRUE</li><li>TRUE</li><li>TRUE</li><li>TRUE</li><li>TRUE</li><li>TRUE</li><li>TRUE</li><li>TRUE</li><li>TRUE</li><li>TRUE</li><li>TRUE</li><li>TRUE</li><li>TRUE</li><li>TRUE</li><li>TRUE</li><li>TRUE</li><li>TRUE</li><li>TRUE</li><li>TRUE</li><li>TRUE</li><li>TRUE</li><li>TRUE</li><li>TRUE</li><li>TRUE</li><li>TRUE</li><li>TRUE</li><li>TRUE</li><li>TRUE</li><li>TRUE</li><li>TRUE</li><li>TRUE</li><li>TRUE</li><li>TRUE</li><li>TRUE</li><li>TRUE</li><li>TRUE</li><li>TRUE</li><li>TRUE</li><li>TRUE</li><li>TRUE</li><li>TRUE</li><li>TRUE</li><li>TRUE</li><li>TRUE</li><li>TRUE</li><li>TRUE</li><li>TRUE</li><li>TRUE</li><li>TRUE</li><li>TRUE</li><li>TRUE</li><li>TRUE</li><li>TRUE</li><li>TRUE</li><li>TRUE</li><li>TRUE</li><li>TRUE</li><li>TRUE</li><li>TRUE</li><li>TRUE</li><li>TRUE</li><li>TRUE</li><li>TRUE</li><li>TRUE</li><li>TRUE</li><li>TRUE</li><li>TRUE</li><li>TRUE</li><li>TRUE</li><li>TRUE</li><li>TRUE</li></ol>\n"
            ],
            "text/markdown": "1. TRUE\n2. TRUE\n3. TRUE\n4. TRUE\n5. TRUE\n6. TRUE\n7. TRUE\n8. TRUE\n9. TRUE\n10. TRUE\n11. TRUE\n12. TRUE\n13. TRUE\n14. TRUE\n15. TRUE\n16. TRUE\n17. TRUE\n18. TRUE\n19. TRUE\n20. TRUE\n21. TRUE\n22. TRUE\n23. TRUE\n24. TRUE\n25. TRUE\n26. TRUE\n27. TRUE\n28. TRUE\n29. TRUE\n30. TRUE\n31. TRUE\n32. TRUE\n33. TRUE\n34. TRUE\n35. TRUE\n36. TRUE\n37. TRUE\n38. TRUE\n39. TRUE\n40. TRUE\n41. TRUE\n42. TRUE\n43. TRUE\n44. TRUE\n45. TRUE\n46. TRUE\n47. TRUE\n48. TRUE\n49. TRUE\n50. TRUE\n51. TRUE\n52. TRUE\n53. TRUE\n54. TRUE\n55. TRUE\n56. TRUE\n57. TRUE\n58. TRUE\n59. TRUE\n60. TRUE\n61. TRUE\n62. TRUE\n63. TRUE\n64. TRUE\n65. TRUE\n66. TRUE\n67. TRUE\n68. TRUE\n69. TRUE\n70. TRUE\n71. TRUE\n72. TRUE\n73. TRUE\n74. TRUE\n75. TRUE\n76. TRUE\n77. TRUE\n78. TRUE\n79. TRUE\n80. TRUE\n81. TRUE\n82. TRUE\n83. TRUE\n84. TRUE\n85. TRUE\n86. TRUE\n87. TRUE\n88. TRUE\n89. TRUE\n90. TRUE\n91. TRUE\n92. TRUE\n93. TRUE\n94. TRUE\n95. TRUE\n96. TRUE\n97. TRUE\n98. TRUE\n99. TRUE\n100. TRUE\n\n\n",
            "text/latex": "\\begin{enumerate*}\n\\item TRUE\n\\item TRUE\n\\item TRUE\n\\item TRUE\n\\item TRUE\n\\item TRUE\n\\item TRUE\n\\item TRUE\n\\item TRUE\n\\item TRUE\n\\item TRUE\n\\item TRUE\n\\item TRUE\n\\item TRUE\n\\item TRUE\n\\item TRUE\n\\item TRUE\n\\item TRUE\n\\item TRUE\n\\item TRUE\n\\item TRUE\n\\item TRUE\n\\item TRUE\n\\item TRUE\n\\item TRUE\n\\item TRUE\n\\item TRUE\n\\item TRUE\n\\item TRUE\n\\item TRUE\n\\item TRUE\n\\item TRUE\n\\item TRUE\n\\item TRUE\n\\item TRUE\n\\item TRUE\n\\item TRUE\n\\item TRUE\n\\item TRUE\n\\item TRUE\n\\item TRUE\n\\item TRUE\n\\item TRUE\n\\item TRUE\n\\item TRUE\n\\item TRUE\n\\item TRUE\n\\item TRUE\n\\item TRUE\n\\item TRUE\n\\item TRUE\n\\item TRUE\n\\item TRUE\n\\item TRUE\n\\item TRUE\n\\item TRUE\n\\item TRUE\n\\item TRUE\n\\item TRUE\n\\item TRUE\n\\item TRUE\n\\item TRUE\n\\item TRUE\n\\item TRUE\n\\item TRUE\n\\item TRUE\n\\item TRUE\n\\item TRUE\n\\item TRUE\n\\item TRUE\n\\item TRUE\n\\item TRUE\n\\item TRUE\n\\item TRUE\n\\item TRUE\n\\item TRUE\n\\item TRUE\n\\item TRUE\n\\item TRUE\n\\item TRUE\n\\item TRUE\n\\item TRUE\n\\item TRUE\n\\item TRUE\n\\item TRUE\n\\item TRUE\n\\item TRUE\n\\item TRUE\n\\item TRUE\n\\item TRUE\n\\item TRUE\n\\item TRUE\n\\item TRUE\n\\item TRUE\n\\item TRUE\n\\item TRUE\n\\item TRUE\n\\item TRUE\n\\item TRUE\n\\item TRUE\n\\end{enumerate*}\n",
            "text/plain": [
              "  [1] TRUE TRUE TRUE TRUE TRUE TRUE TRUE TRUE TRUE TRUE TRUE TRUE TRUE TRUE TRUE\n",
              " [16] TRUE TRUE TRUE TRUE TRUE TRUE TRUE TRUE TRUE TRUE TRUE TRUE TRUE TRUE TRUE\n",
              " [31] TRUE TRUE TRUE TRUE TRUE TRUE TRUE TRUE TRUE TRUE TRUE TRUE TRUE TRUE TRUE\n",
              " [46] TRUE TRUE TRUE TRUE TRUE TRUE TRUE TRUE TRUE TRUE TRUE TRUE TRUE TRUE TRUE\n",
              " [61] TRUE TRUE TRUE TRUE TRUE TRUE TRUE TRUE TRUE TRUE TRUE TRUE TRUE TRUE TRUE\n",
              " [76] TRUE TRUE TRUE TRUE TRUE TRUE TRUE TRUE TRUE TRUE TRUE TRUE TRUE TRUE TRUE\n",
              " [91] TRUE TRUE TRUE TRUE TRUE TRUE TRUE TRUE TRUE TRUE"
            ]
          },
          "metadata": {}
        }
      ]
    },
    {
      "cell_type": "code",
      "source": [
        "my_vec3_v3 <- rep(c(TRUE), times = 100)\n",
        "my_vec3_v3"
      ],
      "metadata": {
        "colab": {
          "base_uri": "https://localhost:8080/",
          "height": 173
        },
        "id": "4BIiJeVRHT_w",
        "outputId": "e9283a05-d072-422f-9497-5831659c7981"
      },
      "execution_count": null,
      "outputs": [
        {
          "output_type": "display_data",
          "data": {
            "text/html": [
              "<style>\n",
              ".list-inline {list-style: none; margin:0; padding: 0}\n",
              ".list-inline>li {display: inline-block}\n",
              ".list-inline>li:not(:last-child)::after {content: \"\\00b7\"; padding: 0 .5ex}\n",
              "</style>\n",
              "<ol class=list-inline><li>TRUE</li><li>TRUE</li><li>TRUE</li><li>TRUE</li><li>TRUE</li><li>TRUE</li><li>TRUE</li><li>TRUE</li><li>TRUE</li><li>TRUE</li><li>TRUE</li><li>TRUE</li><li>TRUE</li><li>TRUE</li><li>TRUE</li><li>TRUE</li><li>TRUE</li><li>TRUE</li><li>TRUE</li><li>TRUE</li><li>TRUE</li><li>TRUE</li><li>TRUE</li><li>TRUE</li><li>TRUE</li><li>TRUE</li><li>TRUE</li><li>TRUE</li><li>TRUE</li><li>TRUE</li><li>TRUE</li><li>TRUE</li><li>TRUE</li><li>TRUE</li><li>TRUE</li><li>TRUE</li><li>TRUE</li><li>TRUE</li><li>TRUE</li><li>TRUE</li><li>TRUE</li><li>TRUE</li><li>TRUE</li><li>TRUE</li><li>TRUE</li><li>TRUE</li><li>TRUE</li><li>TRUE</li><li>TRUE</li><li>TRUE</li><li>TRUE</li><li>TRUE</li><li>TRUE</li><li>TRUE</li><li>TRUE</li><li>TRUE</li><li>TRUE</li><li>TRUE</li><li>TRUE</li><li>TRUE</li><li>TRUE</li><li>TRUE</li><li>TRUE</li><li>TRUE</li><li>TRUE</li><li>TRUE</li><li>TRUE</li><li>TRUE</li><li>TRUE</li><li>TRUE</li><li>TRUE</li><li>TRUE</li><li>TRUE</li><li>TRUE</li><li>TRUE</li><li>TRUE</li><li>TRUE</li><li>TRUE</li><li>TRUE</li><li>TRUE</li><li>TRUE</li><li>TRUE</li><li>TRUE</li><li>TRUE</li><li>TRUE</li><li>TRUE</li><li>TRUE</li><li>TRUE</li><li>TRUE</li><li>TRUE</li><li>TRUE</li><li>TRUE</li><li>TRUE</li><li>TRUE</li><li>TRUE</li><li>TRUE</li><li>TRUE</li><li>TRUE</li><li>TRUE</li><li>TRUE</li></ol>\n"
            ],
            "text/markdown": "1. TRUE\n2. TRUE\n3. TRUE\n4. TRUE\n5. TRUE\n6. TRUE\n7. TRUE\n8. TRUE\n9. TRUE\n10. TRUE\n11. TRUE\n12. TRUE\n13. TRUE\n14. TRUE\n15. TRUE\n16. TRUE\n17. TRUE\n18. TRUE\n19. TRUE\n20. TRUE\n21. TRUE\n22. TRUE\n23. TRUE\n24. TRUE\n25. TRUE\n26. TRUE\n27. TRUE\n28. TRUE\n29. TRUE\n30. TRUE\n31. TRUE\n32. TRUE\n33. TRUE\n34. TRUE\n35. TRUE\n36. TRUE\n37. TRUE\n38. TRUE\n39. TRUE\n40. TRUE\n41. TRUE\n42. TRUE\n43. TRUE\n44. TRUE\n45. TRUE\n46. TRUE\n47. TRUE\n48. TRUE\n49. TRUE\n50. TRUE\n51. TRUE\n52. TRUE\n53. TRUE\n54. TRUE\n55. TRUE\n56. TRUE\n57. TRUE\n58. TRUE\n59. TRUE\n60. TRUE\n61. TRUE\n62. TRUE\n63. TRUE\n64. TRUE\n65. TRUE\n66. TRUE\n67. TRUE\n68. TRUE\n69. TRUE\n70. TRUE\n71. TRUE\n72. TRUE\n73. TRUE\n74. TRUE\n75. TRUE\n76. TRUE\n77. TRUE\n78. TRUE\n79. TRUE\n80. TRUE\n81. TRUE\n82. TRUE\n83. TRUE\n84. TRUE\n85. TRUE\n86. TRUE\n87. TRUE\n88. TRUE\n89. TRUE\n90. TRUE\n91. TRUE\n92. TRUE\n93. TRUE\n94. TRUE\n95. TRUE\n96. TRUE\n97. TRUE\n98. TRUE\n99. TRUE\n100. TRUE\n\n\n",
            "text/latex": "\\begin{enumerate*}\n\\item TRUE\n\\item TRUE\n\\item TRUE\n\\item TRUE\n\\item TRUE\n\\item TRUE\n\\item TRUE\n\\item TRUE\n\\item TRUE\n\\item TRUE\n\\item TRUE\n\\item TRUE\n\\item TRUE\n\\item TRUE\n\\item TRUE\n\\item TRUE\n\\item TRUE\n\\item TRUE\n\\item TRUE\n\\item TRUE\n\\item TRUE\n\\item TRUE\n\\item TRUE\n\\item TRUE\n\\item TRUE\n\\item TRUE\n\\item TRUE\n\\item TRUE\n\\item TRUE\n\\item TRUE\n\\item TRUE\n\\item TRUE\n\\item TRUE\n\\item TRUE\n\\item TRUE\n\\item TRUE\n\\item TRUE\n\\item TRUE\n\\item TRUE\n\\item TRUE\n\\item TRUE\n\\item TRUE\n\\item TRUE\n\\item TRUE\n\\item TRUE\n\\item TRUE\n\\item TRUE\n\\item TRUE\n\\item TRUE\n\\item TRUE\n\\item TRUE\n\\item TRUE\n\\item TRUE\n\\item TRUE\n\\item TRUE\n\\item TRUE\n\\item TRUE\n\\item TRUE\n\\item TRUE\n\\item TRUE\n\\item TRUE\n\\item TRUE\n\\item TRUE\n\\item TRUE\n\\item TRUE\n\\item TRUE\n\\item TRUE\n\\item TRUE\n\\item TRUE\n\\item TRUE\n\\item TRUE\n\\item TRUE\n\\item TRUE\n\\item TRUE\n\\item TRUE\n\\item TRUE\n\\item TRUE\n\\item TRUE\n\\item TRUE\n\\item TRUE\n\\item TRUE\n\\item TRUE\n\\item TRUE\n\\item TRUE\n\\item TRUE\n\\item TRUE\n\\item TRUE\n\\item TRUE\n\\item TRUE\n\\item TRUE\n\\item TRUE\n\\item TRUE\n\\item TRUE\n\\item TRUE\n\\item TRUE\n\\item TRUE\n\\item TRUE\n\\item TRUE\n\\item TRUE\n\\item TRUE\n\\end{enumerate*}\n",
            "text/plain": [
              "  [1] TRUE TRUE TRUE TRUE TRUE TRUE TRUE TRUE TRUE TRUE TRUE TRUE TRUE TRUE TRUE\n",
              " [16] TRUE TRUE TRUE TRUE TRUE TRUE TRUE TRUE TRUE TRUE TRUE TRUE TRUE TRUE TRUE\n",
              " [31] TRUE TRUE TRUE TRUE TRUE TRUE TRUE TRUE TRUE TRUE TRUE TRUE TRUE TRUE TRUE\n",
              " [46] TRUE TRUE TRUE TRUE TRUE TRUE TRUE TRUE TRUE TRUE TRUE TRUE TRUE TRUE TRUE\n",
              " [61] TRUE TRUE TRUE TRUE TRUE TRUE TRUE TRUE TRUE TRUE TRUE TRUE TRUE TRUE TRUE\n",
              " [76] TRUE TRUE TRUE TRUE TRUE TRUE TRUE TRUE TRUE TRUE TRUE TRUE TRUE TRUE TRUE\n",
              " [91] TRUE TRUE TRUE TRUE TRUE TRUE TRUE TRUE TRUE TRUE"
            ]
          },
          "metadata": {}
        }
      ]
    },
    {
      "cell_type": "markdown",
      "source": [
        "3. Створити наступну матрицю за допомогою matrix, та за допомогою cbind або rbind\n"
      ],
      "metadata": {
        "id": "csDMcw7YHvGo"
      }
    },
    {
      "cell_type": "code",
      "source": [
        "my_matrix <- matrix(c(0.5, 3.9, 0, 2, 1.3, 131, 2.2, 7, 3.5, 2.8, 4.6, 5.1), nrow = 4, ncol = 3)\n",
        "my_matrix"
      ],
      "metadata": {
        "colab": {
          "base_uri": "https://localhost:8080/",
          "height": 177
        },
        "id": "yMCSRTp2HhKP",
        "outputId": "ef4e7ed0-0faa-427e-a421-528d16754c23"
      },
      "execution_count": null,
      "outputs": [
        {
          "output_type": "display_data",
          "data": {
            "text/html": [
              "<table class=\"dataframe\">\n",
              "<caption>A matrix: 4 × 3 of type dbl</caption>\n",
              "<tbody>\n",
              "\t<tr><td>0.5</td><td>  1.3</td><td>3.5</td></tr>\n",
              "\t<tr><td>3.9</td><td>131.0</td><td>2.8</td></tr>\n",
              "\t<tr><td>0.0</td><td>  2.2</td><td>4.6</td></tr>\n",
              "\t<tr><td>2.0</td><td>  7.0</td><td>5.1</td></tr>\n",
              "</tbody>\n",
              "</table>\n"
            ],
            "text/markdown": "\nA matrix: 4 × 3 of type dbl\n\n| 0.5 |   1.3 | 3.5 |\n| 3.9 | 131.0 | 2.8 |\n| 0.0 |   2.2 | 4.6 |\n| 2.0 |   7.0 | 5.1 |\n\n",
            "text/latex": "A matrix: 4 × 3 of type dbl\n\\begin{tabular}{lll}\n\t 0.5 &   1.3 & 3.5\\\\\n\t 3.9 & 131.0 & 2.8\\\\\n\t 0.0 &   2.2 & 4.6\\\\\n\t 2.0 &   7.0 & 5.1\\\\\n\\end{tabular}\n",
            "text/plain": [
              "     [,1] [,2]  [,3]\n",
              "[1,] 0.5    1.3 3.5 \n",
              "[2,] 3.9  131.0 2.8 \n",
              "[3,] 0.0    2.2 4.6 \n",
              "[4,] 2.0    7.0 5.1 "
            ]
          },
          "metadata": {}
        }
      ]
    },
    {
      "cell_type": "code",
      "source": [
        "new_matrix <- matrix(c(0.5, 3.9, 1.3, 131.0), nrow = 2, ncol = 2)\n",
        "new_matrix\n"
      ],
      "metadata": {
        "colab": {
          "base_uri": "https://localhost:8080/",
          "height": 114
        },
        "id": "WmheZbFFIjq-",
        "outputId": "f35e464c-8a21-407e-ddec-b35777114c00"
      },
      "execution_count": null,
      "outputs": [
        {
          "output_type": "display_data",
          "data": {
            "text/html": [
              "<table class=\"dataframe\">\n",
              "<caption>A matrix: 2 × 2 of type dbl</caption>\n",
              "<tbody>\n",
              "\t<tr><td>0.5</td><td>  1.3</td></tr>\n",
              "\t<tr><td>3.9</td><td>131.0</td></tr>\n",
              "</tbody>\n",
              "</table>\n"
            ],
            "text/markdown": "\nA matrix: 2 × 2 of type dbl\n\n| 0.5 |   1.3 |\n| 3.9 | 131.0 |\n\n",
            "text/latex": "A matrix: 2 × 2 of type dbl\n\\begin{tabular}{ll}\n\t 0.5 &   1.3\\\\\n\t 3.9 & 131.0\\\\\n\\end{tabular}\n",
            "text/plain": [
              "     [,1] [,2] \n",
              "[1,] 0.5    1.3\n",
              "[2,] 3.9  131.0"
            ]
          },
          "metadata": {}
        }
      ]
    },
    {
      "cell_type": "code",
      "source": [
        "new_matrix <- cbind(new_matrix, c(3.5, 2.8))\n",
        "new_matrix"
      ],
      "metadata": {
        "colab": {
          "base_uri": "https://localhost:8080/",
          "height": 114
        },
        "id": "tqQIMHAhJG1W",
        "outputId": "51c0c6f4-dabe-4227-d9fb-c228cca7f31d"
      },
      "execution_count": null,
      "outputs": [
        {
          "output_type": "display_data",
          "data": {
            "text/html": [
              "<table class=\"dataframe\">\n",
              "<caption>A matrix: 2 × 3 of type dbl</caption>\n",
              "<tbody>\n",
              "\t<tr><td>0.5</td><td>  1.3</td><td>3.5</td></tr>\n",
              "\t<tr><td>3.9</td><td>131.0</td><td>2.8</td></tr>\n",
              "</tbody>\n",
              "</table>\n"
            ],
            "text/markdown": "\nA matrix: 2 × 3 of type dbl\n\n| 0.5 |   1.3 | 3.5 |\n| 3.9 | 131.0 | 2.8 |\n\n",
            "text/latex": "A matrix: 2 × 3 of type dbl\n\\begin{tabular}{lll}\n\t 0.5 &   1.3 & 3.5\\\\\n\t 3.9 & 131.0 & 2.8\\\\\n\\end{tabular}\n",
            "text/plain": [
              "     [,1] [,2]  [,3]\n",
              "[1,] 0.5    1.3 3.5 \n",
              "[2,] 3.9  131.0 2.8 "
            ]
          },
          "metadata": {}
        }
      ]
    },
    {
      "cell_type": "code",
      "source": [
        "new_matrix <- rbind(new_matrix, c(0, 2.2, 4.6))\n",
        "new_matrix <- rbind(new_matrix, c(2, 7, 5.1))\n",
        "new_matrix"
      ],
      "metadata": {
        "colab": {
          "base_uri": "https://localhost:8080/",
          "height": 177
        },
        "id": "nZNOp0wsJf0x",
        "outputId": "b924dbc5-4ae5-444c-c6ba-ff9e9bbac7a5"
      },
      "execution_count": null,
      "outputs": [
        {
          "output_type": "display_data",
          "data": {
            "text/html": [
              "<table class=\"dataframe\">\n",
              "<caption>A matrix: 4 × 3 of type dbl</caption>\n",
              "<tbody>\n",
              "\t<tr><td>0.5</td><td>  1.3</td><td>3.5</td></tr>\n",
              "\t<tr><td>3.9</td><td>131.0</td><td>2.8</td></tr>\n",
              "\t<tr><td>0.0</td><td>  2.2</td><td>4.6</td></tr>\n",
              "\t<tr><td>2.0</td><td>  7.0</td><td>5.1</td></tr>\n",
              "</tbody>\n",
              "</table>\n"
            ],
            "text/markdown": "\nA matrix: 4 × 3 of type dbl\n\n| 0.5 |   1.3 | 3.5 |\n| 3.9 | 131.0 | 2.8 |\n| 0.0 |   2.2 | 4.6 |\n| 2.0 |   7.0 | 5.1 |\n\n",
            "text/latex": "A matrix: 4 × 3 of type dbl\n\\begin{tabular}{lll}\n\t 0.5 &   1.3 & 3.5\\\\\n\t 3.9 & 131.0 & 2.8\\\\\n\t 0.0 &   2.2 & 4.6\\\\\n\t 2.0 &   7.0 & 5.1\\\\\n\\end{tabular}\n",
            "text/plain": [
              "     [,1] [,2]  [,3]\n",
              "[1,] 0.5    1.3 3.5 \n",
              "[2,] 3.9  131.0 2.8 \n",
              "[3,] 0.0    2.2 4.6 \n",
              "[4,] 2.0    7.0 5.1 "
            ]
          },
          "metadata": {}
        }
      ]
    },
    {
      "cell_type": "code",
      "source": [
        "my_matrix == new_matrix"
      ],
      "metadata": {
        "colab": {
          "base_uri": "https://localhost:8080/",
          "height": 160
        },
        "id": "xpobULdsJ_hY",
        "outputId": "b33f3010-cbe6-473c-8c1d-278d054cee5a"
      },
      "execution_count": null,
      "outputs": [
        {
          "output_type": "display_data",
          "data": {
            "text/html": [
              "<table class=\"dataframe\">\n",
              "<caption>A matrix: 4 × 3 of type lgl</caption>\n",
              "<tbody>\n",
              "\t<tr><td>TRUE</td><td>TRUE</td><td>TRUE</td></tr>\n",
              "\t<tr><td>TRUE</td><td>TRUE</td><td>TRUE</td></tr>\n",
              "\t<tr><td>TRUE</td><td>TRUE</td><td>TRUE</td></tr>\n",
              "\t<tr><td>TRUE</td><td>TRUE</td><td>TRUE</td></tr>\n",
              "</tbody>\n",
              "</table>\n"
            ],
            "text/markdown": "\nA matrix: 4 × 3 of type lgl\n\n| TRUE | TRUE | TRUE |\n| TRUE | TRUE | TRUE |\n| TRUE | TRUE | TRUE |\n| TRUE | TRUE | TRUE |\n\n",
            "text/latex": "A matrix: 4 × 3 of type lgl\n\\begin{tabular}{lll}\n\t TRUE & TRUE & TRUE\\\\\n\t TRUE & TRUE & TRUE\\\\\n\t TRUE & TRUE & TRUE\\\\\n\t TRUE & TRUE & TRUE\\\\\n\\end{tabular}\n",
            "text/plain": [
              "     [,1] [,2] [,3]\n",
              "[1,] TRUE TRUE TRUE\n",
              "[2,] TRUE TRUE TRUE\n",
              "[3,] TRUE TRUE TRUE\n",
              "[4,] TRUE TRUE TRUE"
            ]
          },
          "metadata": {}
        }
      ]
    },
    {
      "cell_type": "markdown",
      "source": [
        "4. Створити довільний список (list), в який включити всі базові типи.\n"
      ],
      "metadata": {
        "id": "5_tWuZ5uKb2o"
      }
    },
    {
      "cell_type": "code",
      "source": [
        "my_list <- list(my_chararacter, my_complex, my_integer, my_logical, my_numeric)"
      ],
      "metadata": {
        "id": "b-XfNrH9KFVf"
      },
      "execution_count": null,
      "outputs": []
    },
    {
      "cell_type": "code",
      "source": [
        "my_list"
      ],
      "metadata": {
        "colab": {
          "base_uri": "https://localhost:8080/",
          "height": 132
        },
        "id": "N7UQFLpkKpBZ",
        "outputId": "8882628c-2232-46be-ae16-860a11de75da"
      },
      "execution_count": null,
      "outputs": [
        {
          "output_type": "display_data",
          "data": {
            "text/html": [
              "<ol>\n",
              "\t<li>'Viktoria Zaremba, UP-11'</li>\n",
              "\t<li>1+5i</li>\n",
              "\t<li>1</li>\n",
              "\t<li>TRUE</li>\n",
              "\t<li>2022</li>\n",
              "</ol>\n"
            ],
            "text/markdown": "1. 'Viktoria Zaremba, UP-11'\n2. 1+5i\n3. 1\n4. TRUE\n5. 2022\n\n\n",
            "text/latex": "\\begin{enumerate}\n\\item 'Viktoria Zaremba, UP-11'\n\\item 1+5i\n\\item 1\n\\item TRUE\n\\item 2022\n\\end{enumerate}\n",
            "text/plain": [
              "[[1]]\n",
              "[1] \"Viktoria Zaremba, UP-11\"\n",
              "\n",
              "[[2]]\n",
              "[1] 1+5i\n",
              "\n",
              "[[3]]\n",
              "[1] 1\n",
              "\n",
              "[[4]]\n",
              "[1] TRUE\n",
              "\n",
              "[[5]]\n",
              "[1] 2022\n"
            ]
          },
          "metadata": {}
        }
      ]
    },
    {
      "cell_type": "markdown",
      "source": [
        "5. Створити фактор з трьома рівнями «baby», «child», «adult».\n"
      ],
      "metadata": {
        "id": "ksZWP1PbKtxS"
      }
    },
    {
      "cell_type": "code",
      "source": [
        "my_factor <- factor(c(\"baby\", \"child\",\"baby\", \"adult\", \"child\", \"child\", \"adult\", \"adult\", \"adult\", \"child\" ))\n",
        "my_factor"
      ],
      "metadata": {
        "colab": {
          "base_uri": "https://localhost:8080/",
          "height": 69
        },
        "id": "pwqTez7EKqlk",
        "outputId": "734ea3f6-7b58-41ba-f68f-59140f24f202"
      },
      "execution_count": null,
      "outputs": [
        {
          "output_type": "display_data",
          "data": {
            "text/html": [
              "<style>\n",
              ".list-inline {list-style: none; margin:0; padding: 0}\n",
              ".list-inline>li {display: inline-block}\n",
              ".list-inline>li:not(:last-child)::after {content: \"\\00b7\"; padding: 0 .5ex}\n",
              "</style>\n",
              "<ol class=list-inline><li>baby</li><li>child</li><li>baby</li><li>adult</li><li>child</li><li>child</li><li>adult</li><li>adult</li><li>adult</li><li>child</li></ol>\n",
              "\n",
              "<details>\n",
              "\t<summary style=display:list-item;cursor:pointer>\n",
              "\t\t<strong>Levels</strong>:\n",
              "\t</summary>\n",
              "\t<style>\n",
              "\t.list-inline {list-style: none; margin:0; padding: 0}\n",
              "\t.list-inline>li {display: inline-block}\n",
              "\t.list-inline>li:not(:last-child)::after {content: \"\\00b7\"; padding: 0 .5ex}\n",
              "\t</style>\n",
              "\t<ol class=list-inline><li>'adult'</li><li>'baby'</li><li>'child'</li></ol>\n",
              "</details>"
            ],
            "text/markdown": "1. baby\n2. child\n3. baby\n4. adult\n5. child\n6. child\n7. adult\n8. adult\n9. adult\n10. child\n\n\n\n**Levels**: 1. 'adult'\n2. 'baby'\n3. 'child'\n\n\n",
            "text/latex": "\\begin{enumerate*}\n\\item baby\n\\item child\n\\item baby\n\\item adult\n\\item child\n\\item child\n\\item adult\n\\item adult\n\\item adult\n\\item child\n\\end{enumerate*}\n\n\\emph{Levels}: \\begin{enumerate*}\n\\item 'adult'\n\\item 'baby'\n\\item 'child'\n\\end{enumerate*}\n",
            "text/plain": [
              " [1] baby  child baby  adult child child adult adult adult child\n",
              "Levels: adult baby child"
            ]
          },
          "metadata": {}
        }
      ]
    },
    {
      "cell_type": "code",
      "source": [
        "my_factor2 <- factor(c(\"baby\", \"child\",\"baby\", \"child\", \"child\", \"child\" ), levels = c(\"baby\", \"child\", \"adult\"))\n",
        "my_factor2"
      ],
      "metadata": {
        "colab": {
          "base_uri": "https://localhost:8080/",
          "height": 69
        },
        "id": "BSj8DDFRLlhi",
        "outputId": "b1c003f8-c253-4f58-99c4-46c7f9088b3c"
      },
      "execution_count": null,
      "outputs": [
        {
          "output_type": "display_data",
          "data": {
            "text/html": [
              "<style>\n",
              ".list-inline {list-style: none; margin:0; padding: 0}\n",
              ".list-inline>li {display: inline-block}\n",
              ".list-inline>li:not(:last-child)::after {content: \"\\00b7\"; padding: 0 .5ex}\n",
              "</style>\n",
              "<ol class=list-inline><li>baby</li><li>child</li><li>baby</li><li>child</li><li>child</li><li>child</li></ol>\n",
              "\n",
              "<details>\n",
              "\t<summary style=display:list-item;cursor:pointer>\n",
              "\t\t<strong>Levels</strong>:\n",
              "\t</summary>\n",
              "\t<style>\n",
              "\t.list-inline {list-style: none; margin:0; padding: 0}\n",
              "\t.list-inline>li {display: inline-block}\n",
              "\t.list-inline>li:not(:last-child)::after {content: \"\\00b7\"; padding: 0 .5ex}\n",
              "\t</style>\n",
              "\t<ol class=list-inline><li>'baby'</li><li>'child'</li><li>'adult'</li></ol>\n",
              "</details>"
            ],
            "text/markdown": "1. baby\n2. child\n3. baby\n4. child\n5. child\n6. child\n\n\n\n**Levels**: 1. 'baby'\n2. 'child'\n3. 'adult'\n\n\n",
            "text/latex": "\\begin{enumerate*}\n\\item baby\n\\item child\n\\item baby\n\\item child\n\\item child\n\\item child\n\\end{enumerate*}\n\n\\emph{Levels}: \\begin{enumerate*}\n\\item 'baby'\n\\item 'child'\n\\item 'adult'\n\\end{enumerate*}\n",
            "text/plain": [
              "[1] baby  child baby  child child child\n",
              "Levels: baby child adult"
            ]
          },
          "metadata": {}
        }
      ]
    },
    {
      "cell_type": "code",
      "source": [
        "length(my_factor)\n",
        "length(my_factor2)\n"
      ],
      "metadata": {
        "colab": {
          "base_uri": "https://localhost:8080/",
          "height": 52
        },
        "id": "vM-moMXML92c",
        "outputId": "8b4086ef-5407-44fb-8ac5-7e85c41b4fb6"
      },
      "execution_count": null,
      "outputs": [
        {
          "output_type": "display_data",
          "data": {
            "text/html": [
              "10"
            ],
            "text/markdown": "10",
            "text/latex": "10",
            "text/plain": [
              "[1] 10"
            ]
          },
          "metadata": {}
        },
        {
          "output_type": "display_data",
          "data": {
            "text/html": [
              "6"
            ],
            "text/markdown": "6",
            "text/latex": "6",
            "text/plain": [
              "[1] 6"
            ]
          },
          "metadata": {}
        }
      ]
    },
    {
      "cell_type": "code",
      "source": [
        "my_factor[4]"
      ],
      "metadata": {
        "colab": {
          "base_uri": "https://localhost:8080/",
          "height": 52
        },
        "id": "3AcdbCS6MGMn",
        "outputId": "9d6f4f96-20b7-4169-cb58-ba3453f32689"
      },
      "execution_count": null,
      "outputs": [
        {
          "output_type": "display_data",
          "data": {
            "text/html": [
              "adult\n",
              "<details>\n",
              "\t<summary style=display:list-item;cursor:pointer>\n",
              "\t\t<strong>Levels</strong>:\n",
              "\t</summary>\n",
              "\t<style>\n",
              "\t.list-inline {list-style: none; margin:0; padding: 0}\n",
              "\t.list-inline>li {display: inline-block}\n",
              "\t.list-inline>li:not(:last-child)::after {content: \"\\00b7\"; padding: 0 .5ex}\n",
              "\t</style>\n",
              "\t<ol class=list-inline><li>'adult'</li><li>'baby'</li><li>'child'</li></ol>\n",
              "</details>"
            ],
            "text/markdown": "adult\n**Levels**: 1. 'adult'\n2. 'baby'\n3. 'child'\n\n\n",
            "text/latex": "adult\n\\emph{Levels}: \\begin{enumerate*}\n\\item 'adult'\n\\item 'baby'\n\\item 'child'\n\\end{enumerate*}\n",
            "text/plain": [
              "[1] adult\n",
              "Levels: adult baby child"
            ]
          },
          "metadata": {}
        }
      ]
    },
    {
      "cell_type": "markdown",
      "source": [
        "6. Знайти індекс першого значення NA в векторі 1, 2, 3, 4, NA, 6, 7, NA, 9, NA, 11. Знайти кількість значень NA."
      ],
      "metadata": {
        "id": "WatBB1QpMUxq"
      }
    },
    {
      "cell_type": "code",
      "source": [
        "new_vec = c(1, 2, 3, 4, NA, 6, 7, NA, 9, NA, 11)\n",
        "new_vec"
      ],
      "metadata": {
        "colab": {
          "base_uri": "https://localhost:8080/",
          "height": 34
        },
        "id": "ofbs2URMMOl6",
        "outputId": "7d8bef45-aec6-4b1b-c348-7f20741e11ef"
      },
      "execution_count": null,
      "outputs": [
        {
          "output_type": "display_data",
          "data": {
            "text/html": [
              "<style>\n",
              ".list-inline {list-style: none; margin:0; padding: 0}\n",
              ".list-inline>li {display: inline-block}\n",
              ".list-inline>li:not(:last-child)::after {content: \"\\00b7\"; padding: 0 .5ex}\n",
              "</style>\n",
              "<ol class=list-inline><li>1</li><li>2</li><li>3</li><li>4</li><li>&lt;NA&gt;</li><li>6</li><li>7</li><li>&lt;NA&gt;</li><li>9</li><li>&lt;NA&gt;</li><li>11</li></ol>\n"
            ],
            "text/markdown": "1. 1\n2. 2\n3. 3\n4. 4\n5. &lt;NA&gt;\n6. 6\n7. 7\n8. &lt;NA&gt;\n9. 9\n10. &lt;NA&gt;\n11. 11\n\n\n",
            "text/latex": "\\begin{enumerate*}\n\\item 1\n\\item 2\n\\item 3\n\\item 4\n\\item <NA>\n\\item 6\n\\item 7\n\\item <NA>\n\\item 9\n\\item <NA>\n\\item 11\n\\end{enumerate*}\n",
            "text/plain": [
              " [1]  1  2  3  4 NA  6  7 NA  9 NA 11"
            ]
          },
          "metadata": {}
        }
      ]
    },
    {
      "cell_type": "code",
      "source": [
        "match(NA, new_vec)"
      ],
      "metadata": {
        "colab": {
          "base_uri": "https://localhost:8080/",
          "height": 34
        },
        "id": "f_oJ3l8gMkOg",
        "outputId": "0e558bfd-4fe1-4132-e681-6824c502f8dc"
      },
      "execution_count": null,
      "outputs": [
        {
          "output_type": "display_data",
          "data": {
            "text/html": [
              "5"
            ],
            "text/markdown": "5",
            "text/latex": "5",
            "text/plain": [
              "[1] 5"
            ]
          },
          "metadata": {}
        }
      ]
    },
    {
      "cell_type": "code",
      "source": [
        "sum(is.na(new_vec))"
      ],
      "metadata": {
        "colab": {
          "base_uri": "https://localhost:8080/",
          "height": 34
        },
        "id": "wbh0EKz8Mlxh",
        "outputId": "8e3032fa-c71b-4ed1-edb6-2276e3e08ef1"
      },
      "execution_count": null,
      "outputs": [
        {
          "output_type": "display_data",
          "data": {
            "text/html": [
              "3"
            ],
            "text/markdown": "3",
            "text/latex": "3",
            "text/plain": [
              "[1] 3"
            ]
          },
          "metadata": {}
        }
      ]
    },
    {
      "cell_type": "markdown",
      "source": [
        "7. Створити довільний data frame та вивести в консоль.\n"
      ],
      "metadata": {
        "id": "kZyrFpN7MvGG"
      }
    },
    {
      "cell_type": "code",
      "source": [
        "df <- data.frame (\n",
        "  Date = c(\"2022-09-09\", \"2022-09-10\", \"2022-09-11\"),\n",
        "  Liquidated_personnel = c(51250, 52250, 52650),\n",
        "  Tanks = c(2122, 2136, 2154),\n",
        "  Armoured_personnel_vehicle = c(4557, 4584, 4617)\n",
        ")\n",
        "df"
      ],
      "metadata": {
        "colab": {
          "base_uri": "https://localhost:8080/",
          "height": 192
        },
        "id": "lgFPWkg6MsVN",
        "outputId": "0f52ec28-f545-4b59-8ba1-8fd4959831f0"
      },
      "execution_count": null,
      "outputs": [
        {
          "output_type": "display_data",
          "data": {
            "text/html": [
              "<table class=\"dataframe\">\n",
              "<caption>A data.frame: 3 × 4</caption>\n",
              "<thead>\n",
              "\t<tr><th scope=col>Date</th><th scope=col>Liquidated_personnel</th><th scope=col>Tanks</th><th scope=col>Armoured_personnel_vehicle</th></tr>\n",
              "\t<tr><th scope=col>&lt;chr&gt;</th><th scope=col>&lt;dbl&gt;</th><th scope=col>&lt;dbl&gt;</th><th scope=col>&lt;dbl&gt;</th></tr>\n",
              "</thead>\n",
              "<tbody>\n",
              "\t<tr><td>2022-09-09</td><td>51250</td><td>2122</td><td>4557</td></tr>\n",
              "\t<tr><td>2022-09-10</td><td>52250</td><td>2136</td><td>4584</td></tr>\n",
              "\t<tr><td>2022-09-11</td><td>52650</td><td>2154</td><td>4617</td></tr>\n",
              "</tbody>\n",
              "</table>\n"
            ],
            "text/markdown": "\nA data.frame: 3 × 4\n\n| Date &lt;chr&gt; | Liquidated_personnel &lt;dbl&gt; | Tanks &lt;dbl&gt; | Armoured_personnel_vehicle &lt;dbl&gt; |\n|---|---|---|---|\n| 2022-09-09 | 51250 | 2122 | 4557 |\n| 2022-09-10 | 52250 | 2136 | 4584 |\n| 2022-09-11 | 52650 | 2154 | 4617 |\n\n",
            "text/latex": "A data.frame: 3 × 4\n\\begin{tabular}{llll}\n Date & Liquidated\\_personnel & Tanks & Armoured\\_personnel\\_vehicle\\\\\n <chr> & <dbl> & <dbl> & <dbl>\\\\\n\\hline\n\t 2022-09-09 & 51250 & 2122 & 4557\\\\\n\t 2022-09-10 & 52250 & 2136 & 4584\\\\\n\t 2022-09-11 & 52650 & 2154 & 4617\\\\\n\\end{tabular}\n",
            "text/plain": [
              "  Date       Liquidated_personnel Tanks Armoured_personnel_vehicle\n",
              "1 2022-09-09 51250                2122  4557                      \n",
              "2 2022-09-10 52250                2136  4584                      \n",
              "3 2022-09-11 52650                2154  4617                      "
            ]
          },
          "metadata": {}
        }
      ]
    },
    {
      "cell_type": "markdown",
      "source": [
        "8. Змінити імена стовпців цього data frame.\n"
      ],
      "metadata": {
        "id": "MxdvD4bhQWf3"
      }
    },
    {
      "cell_type": "code",
      "source": [
        "colnames(df) <- c(\"Дата\", \"Особовий склад\", \"Танки\", \"Бойові броньовані машини\")\n",
        "df\n"
      ],
      "metadata": {
        "colab": {
          "base_uri": "https://localhost:8080/",
          "height": 192
        },
        "id": "L8_VQZDyOyLd",
        "outputId": "fde86219-4326-44c7-c5b2-aed488523b3c"
      },
      "execution_count": null,
      "outputs": [
        {
          "output_type": "display_data",
          "data": {
            "text/html": [
              "<table class=\"dataframe\">\n",
              "<caption>A data.frame: 3 × 4</caption>\n",
              "<thead>\n",
              "\t<tr><th scope=col>Дата</th><th scope=col>Особовий склад</th><th scope=col>Танки</th><th scope=col>Бойові броньовані машини</th></tr>\n",
              "\t<tr><th scope=col>&lt;chr&gt;</th><th scope=col>&lt;dbl&gt;</th><th scope=col>&lt;dbl&gt;</th><th scope=col>&lt;dbl&gt;</th></tr>\n",
              "</thead>\n",
              "<tbody>\n",
              "\t<tr><td>2022-09-09</td><td>51250</td><td>2122</td><td>4557</td></tr>\n",
              "\t<tr><td>2022-09-10</td><td>52250</td><td>2136</td><td>4584</td></tr>\n",
              "\t<tr><td>2022-09-11</td><td>52650</td><td>2154</td><td>4617</td></tr>\n",
              "</tbody>\n",
              "</table>\n"
            ],
            "text/markdown": "\nA data.frame: 3 × 4\n\n| Дата &lt;chr&gt; | Особовий склад &lt;dbl&gt; | Танки &lt;dbl&gt; | Бойові броньовані машини &lt;dbl&gt; |\n|---|---|---|---|\n| 2022-09-09 | 51250 | 2122 | 4557 |\n| 2022-09-10 | 52250 | 2136 | 4584 |\n| 2022-09-11 | 52650 | 2154 | 4617 |\n\n",
            "text/latex": "A data.frame: 3 × 4\n\\begin{tabular}{llll}\n Дата & Особовий склад & Танки & Бойові броньовані машини\\\\\n <chr> & <dbl> & <dbl> & <dbl>\\\\\n\\hline\n\t 2022-09-09 & 51250 & 2122 & 4557\\\\\n\t 2022-09-10 & 52250 & 2136 & 4584\\\\\n\t 2022-09-11 & 52650 & 2154 & 4617\\\\\n\\end{tabular}\n",
            "text/plain": [
              "  Дата       Особовий склад Танки Бойові броньовані машини\n",
              "1 2022-09-09 51250          2122  4557                    \n",
              "2 2022-09-10 52250          2136  4584                    \n",
              "3 2022-09-11 52650          2154  4617                    "
            ]
          },
          "metadata": {}
        }
      ]
    },
    {
      "cell_type": "code",
      "source": [],
      "metadata": {
        "id": "3H1m2wD8Q5Rj"
      },
      "execution_count": null,
      "outputs": []
    }
  ]
}