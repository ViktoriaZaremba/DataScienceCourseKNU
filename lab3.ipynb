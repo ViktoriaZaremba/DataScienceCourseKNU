{
  "nbformat": 4,
  "nbformat_minor": 0,
  "metadata": {
    "colab": {
      "provenance": [],
      "authorship_tag": "ABX9TyMl7m1kgZVMSLJKhB3490js",
      "include_colab_link": true
    },
    "kernelspec": {
      "name": "ir",
      "display_name": "R"
    },
    "language_info": {
      "name": "R"
    }
  },
  "cells": [
    {
      "cell_type": "markdown",
      "metadata": {
        "id": "view-in-github",
        "colab_type": "text"
      },
      "source": [
        "<a href=\"https://colab.research.google.com/github/ViktoriaZaremba/DataScienceCourseKNU/blob/main/lab3.ipynb\" target=\"_parent\"><img src=\"https://colab.research.google.com/assets/colab-badge.svg\" alt=\"Open In Colab\"/></a>"
      ]
    },
    {
      "cell_type": "markdown",
      "source": [
        "**Лабораторна робота №3**"
      ],
      "metadata": {
        "id": "h84jrY4-AmeX"
      }
    },
    {
      "cell_type": "markdown",
      "source": [
        "В лабораторній роботі необхідно написати наступні функції на мові R та вивести результат роботи цих функцій на довільних даних:\n"
      ],
      "metadata": {
        "id": "gfESl6zoZ4gC"
      }
    },
    {
      "cell_type": "markdown",
      "source": [
        "1. Функція add2(x, y), яка повертає суму двох чисел.\n"
      ],
      "metadata": {
        "id": "OdkvbUPYZ1Ir"
      }
    },
    {
      "cell_type": "code",
      "source": [
        "func_sum <- function(a, b){\n",
        "  return(a+b)\n",
        "}"
      ],
      "metadata": {
        "id": "h4_8ohQuZ8oj"
      },
      "execution_count": 2,
      "outputs": []
    },
    {
      "cell_type": "code",
      "source": [
        "func_sum(2,8)"
      ],
      "metadata": {
        "colab": {
          "base_uri": "https://localhost:8080/",
          "height": 34
        },
        "id": "4XfUdYlZaLg5",
        "outputId": "1ff99468-d68b-4499-f52c-d7f96f6b973a"
      },
      "execution_count": 3,
      "outputs": [
        {
          "output_type": "display_data",
          "data": {
            "text/html": [
              "10"
            ],
            "text/markdown": "10",
            "text/latex": "10",
            "text/plain": [
              "[1] 10"
            ]
          },
          "metadata": {}
        }
      ]
    },
    {
      "cell_type": "markdown",
      "source": [
        "2. Функція above(x, n), яка приймає вектор та число n, та повертає всі елементі вектору, які більше n. По замовчуванню n = 10."
      ],
      "metadata": {
        "id": "szttfddTaZ8y"
      }
    },
    {
      "cell_type": "code",
      "source": [
        "above <- function(x, n=10){\n",
        "  return(x[x>n])\n",
        "}"
      ],
      "metadata": {
        "id": "jYj51rhIaSIp"
      },
      "execution_count": 5,
      "outputs": []
    },
    {
      "cell_type": "code",
      "source": [
        "above(c(1,2,3,4,5,6,7), 4)"
      ],
      "metadata": {
        "colab": {
          "base_uri": "https://localhost:8080/",
          "height": 34
        },
        "id": "M4mjwN29a_ff",
        "outputId": "f7f6706b-d398-45e4-8367-2dbcab50f213"
      },
      "execution_count": 6,
      "outputs": [
        {
          "output_type": "display_data",
          "data": {
            "text/html": [
              "<style>\n",
              ".list-inline {list-style: none; margin:0; padding: 0}\n",
              ".list-inline>li {display: inline-block}\n",
              ".list-inline>li:not(:last-child)::after {content: \"\\00b7\"; padding: 0 .5ex}\n",
              "</style>\n",
              "<ol class=list-inline><li>5</li><li>6</li><li>7</li></ol>\n"
            ],
            "text/markdown": "1. 5\n2. 6\n3. 7\n\n\n",
            "text/latex": "\\begin{enumerate*}\n\\item 5\n\\item 6\n\\item 7\n\\end{enumerate*}\n",
            "text/plain": [
              "[1] 5 6 7"
            ]
          },
          "metadata": {}
        }
      ]
    },
    {
      "cell_type": "code",
      "source": [
        "above(c(5,6,10,15,30))"
      ],
      "metadata": {
        "colab": {
          "base_uri": "https://localhost:8080/",
          "height": 34
        },
        "id": "Tjf-W-Q1bDEW",
        "outputId": "e3237f01-bba8-4854-9c38-fa3bb6aad4e7"
      },
      "execution_count": 7,
      "outputs": [
        {
          "output_type": "display_data",
          "data": {
            "text/html": [
              "<style>\n",
              ".list-inline {list-style: none; margin:0; padding: 0}\n",
              ".list-inline>li {display: inline-block}\n",
              ".list-inline>li:not(:last-child)::after {content: \"\\00b7\"; padding: 0 .5ex}\n",
              "</style>\n",
              "<ol class=list-inline><li>15</li><li>30</li></ol>\n"
            ],
            "text/markdown": "1. 15\n2. 30\n\n\n",
            "text/latex": "\\begin{enumerate*}\n\\item 15\n\\item 30\n\\end{enumerate*}\n",
            "text/plain": [
              "[1] 15 30"
            ]
          },
          "metadata": {}
        }
      ]
    },
    {
      "cell_type": "markdown",
      "source": [
        "3. Функція my_ifelse(x, exp, n), яка приймає вектор x, порівнює всі його елементи за допомогою exp з n, та повертає елементи вектору, які відповідають умові expression. Наприклад, my_ifelse(x, “>”, 0) повертає всі елементи x, які більші 0. Exp може дорівнювати “<”, “>”, “<=”, “>=”, “==”. Якщо exp не співпадає ні з одним з цих виразів, повертається вектор x.\n"
      ],
      "metadata": {
        "id": "KA_t_RCRbJRC"
      }
    },
    {
      "cell_type": "code",
      "source": [
        "my_ifelse = function(x, exp, n){\n",
        "  if (exp == \"<\"){\n",
        "    return(x[x<n])\n",
        "  } else if (exp == \">\"){\n",
        "    return(x[x>n])\n",
        "  } else if (exp == \"<=\"){\n",
        "    return(x[x<=n])\n",
        "  } else if (exp == \">=\"){\n",
        "    return(x[x>=n])\n",
        "  } else if (exp == \"==\"){\n",
        "    return(x[x==n])\n",
        "  } else{\n",
        "    return(x)\n",
        "  }\n",
        "}"
      ],
      "metadata": {
        "id": "tBDQry4ubHUb"
      },
      "execution_count": 17,
      "outputs": []
    },
    {
      "cell_type": "code",
      "source": [
        "x = c(1,2,3,4,5,5,6,7,8,9)"
      ],
      "metadata": {
        "id": "i6J5fTLcblkB"
      },
      "execution_count": 19,
      "outputs": []
    },
    {
      "cell_type": "code",
      "source": [
        "my_ifelse(x, \"<\", 5)"
      ],
      "metadata": {
        "colab": {
          "base_uri": "https://localhost:8080/",
          "height": 34
        },
        "id": "WF0qI4m-cGlC",
        "outputId": "68d21a84-d490-403a-fb44-d57ef9aa41a0"
      },
      "execution_count": 20,
      "outputs": [
        {
          "output_type": "display_data",
          "data": {
            "text/html": [
              "<style>\n",
              ".list-inline {list-style: none; margin:0; padding: 0}\n",
              ".list-inline>li {display: inline-block}\n",
              ".list-inline>li:not(:last-child)::after {content: \"\\00b7\"; padding: 0 .5ex}\n",
              "</style>\n",
              "<ol class=list-inline><li>1</li><li>2</li><li>3</li><li>4</li></ol>\n"
            ],
            "text/markdown": "1. 1\n2. 2\n3. 3\n4. 4\n\n\n",
            "text/latex": "\\begin{enumerate*}\n\\item 1\n\\item 2\n\\item 3\n\\item 4\n\\end{enumerate*}\n",
            "text/plain": [
              "[1] 1 2 3 4"
            ]
          },
          "metadata": {}
        }
      ]
    },
    {
      "cell_type": "code",
      "source": [
        "my_ifelse(x, \">\", 5)"
      ],
      "metadata": {
        "colab": {
          "base_uri": "https://localhost:8080/",
          "height": 34
        },
        "id": "-u0NM3-QcRND",
        "outputId": "948f44a6-be10-496e-b2d9-9c6a0898844d"
      },
      "execution_count": 21,
      "outputs": [
        {
          "output_type": "display_data",
          "data": {
            "text/html": [
              "<style>\n",
              ".list-inline {list-style: none; margin:0; padding: 0}\n",
              ".list-inline>li {display: inline-block}\n",
              ".list-inline>li:not(:last-child)::after {content: \"\\00b7\"; padding: 0 .5ex}\n",
              "</style>\n",
              "<ol class=list-inline><li>6</li><li>7</li><li>8</li><li>9</li></ol>\n"
            ],
            "text/markdown": "1. 6\n2. 7\n3. 8\n4. 9\n\n\n",
            "text/latex": "\\begin{enumerate*}\n\\item 6\n\\item 7\n\\item 8\n\\item 9\n\\end{enumerate*}\n",
            "text/plain": [
              "[1] 6 7 8 9"
            ]
          },
          "metadata": {}
        }
      ]
    },
    {
      "cell_type": "code",
      "source": [
        "my_ifelse(x, \"<=\", 5)"
      ],
      "metadata": {
        "colab": {
          "base_uri": "https://localhost:8080/",
          "height": 34
        },
        "id": "t5N3BTYBcRcU",
        "outputId": "f2729425-3568-49ae-d663-bde5cda7ccdb"
      },
      "execution_count": 22,
      "outputs": [
        {
          "output_type": "display_data",
          "data": {
            "text/html": [
              "<style>\n",
              ".list-inline {list-style: none; margin:0; padding: 0}\n",
              ".list-inline>li {display: inline-block}\n",
              ".list-inline>li:not(:last-child)::after {content: \"\\00b7\"; padding: 0 .5ex}\n",
              "</style>\n",
              "<ol class=list-inline><li>1</li><li>2</li><li>3</li><li>4</li><li>5</li><li>5</li></ol>\n"
            ],
            "text/markdown": "1. 1\n2. 2\n3. 3\n4. 4\n5. 5\n6. 5\n\n\n",
            "text/latex": "\\begin{enumerate*}\n\\item 1\n\\item 2\n\\item 3\n\\item 4\n\\item 5\n\\item 5\n\\end{enumerate*}\n",
            "text/plain": [
              "[1] 1 2 3 4 5 5"
            ]
          },
          "metadata": {}
        }
      ]
    },
    {
      "cell_type": "code",
      "source": [
        "my_ifelse(x, \">=\", 5)"
      ],
      "metadata": {
        "colab": {
          "base_uri": "https://localhost:8080/",
          "height": 34
        },
        "id": "pd2iqrcJcRkh",
        "outputId": "6021c274-6b3c-49f8-8428-f8aaf627cd3d"
      },
      "execution_count": 23,
      "outputs": [
        {
          "output_type": "display_data",
          "data": {
            "text/html": [
              "<style>\n",
              ".list-inline {list-style: none; margin:0; padding: 0}\n",
              ".list-inline>li {display: inline-block}\n",
              ".list-inline>li:not(:last-child)::after {content: \"\\00b7\"; padding: 0 .5ex}\n",
              "</style>\n",
              "<ol class=list-inline><li>5</li><li>5</li><li>6</li><li>7</li><li>8</li><li>9</li></ol>\n"
            ],
            "text/markdown": "1. 5\n2. 5\n3. 6\n4. 7\n5. 8\n6. 9\n\n\n",
            "text/latex": "\\begin{enumerate*}\n\\item 5\n\\item 5\n\\item 6\n\\item 7\n\\item 8\n\\item 9\n\\end{enumerate*}\n",
            "text/plain": [
              "[1] 5 5 6 7 8 9"
            ]
          },
          "metadata": {}
        }
      ]
    },
    {
      "cell_type": "code",
      "source": [
        "my_ifelse(x, \"==\", 5)"
      ],
      "metadata": {
        "colab": {
          "base_uri": "https://localhost:8080/",
          "height": 34
        },
        "id": "WZD4JgCAcRr_",
        "outputId": "a1c599b9-e4ab-4ed2-9d7f-d72212f052cb"
      },
      "execution_count": 24,
      "outputs": [
        {
          "output_type": "display_data",
          "data": {
            "text/html": [
              "<style>\n",
              ".list-inline {list-style: none; margin:0; padding: 0}\n",
              ".list-inline>li {display: inline-block}\n",
              ".list-inline>li:not(:last-child)::after {content: \"\\00b7\"; padding: 0 .5ex}\n",
              "</style>\n",
              "<ol class=list-inline><li>5</li><li>5</li></ol>\n"
            ],
            "text/markdown": "1. 5\n2. 5\n\n\n",
            "text/latex": "\\begin{enumerate*}\n\\item 5\n\\item 5\n\\end{enumerate*}\n",
            "text/plain": [
              "[1] 5 5"
            ]
          },
          "metadata": {}
        }
      ]
    },
    {
      "cell_type": "code",
      "source": [
        "my_ifelse(x, \"?\", 5)"
      ],
      "metadata": {
        "colab": {
          "base_uri": "https://localhost:8080/",
          "height": 34
        },
        "id": "bvkIQj4ocRz6",
        "outputId": "a40351a9-8f0e-4ad3-eddd-e5e6e56b258c"
      },
      "execution_count": 25,
      "outputs": [
        {
          "output_type": "display_data",
          "data": {
            "text/html": [
              "<style>\n",
              ".list-inline {list-style: none; margin:0; padding: 0}\n",
              ".list-inline>li {display: inline-block}\n",
              ".list-inline>li:not(:last-child)::after {content: \"\\00b7\"; padding: 0 .5ex}\n",
              "</style>\n",
              "<ol class=list-inline><li>1</li><li>2</li><li>3</li><li>4</li><li>5</li><li>5</li><li>6</li><li>7</li><li>8</li><li>9</li></ol>\n"
            ],
            "text/markdown": "1. 1\n2. 2\n3. 3\n4. 4\n5. 5\n6. 5\n7. 6\n8. 7\n9. 8\n10. 9\n\n\n",
            "text/latex": "\\begin{enumerate*}\n\\item 1\n\\item 2\n\\item 3\n\\item 4\n\\item 5\n\\item 5\n\\item 6\n\\item 7\n\\item 8\n\\item 9\n\\end{enumerate*}\n",
            "text/plain": [
              " [1] 1 2 3 4 5 5 6 7 8 9"
            ]
          },
          "metadata": {}
        }
      ]
    },
    {
      "cell_type": "markdown",
      "source": [
        "4. Функція columnmean(x, removeNA), яка розраховує середнє значення (mean) по кожному стовпцю матриці, або data frame. Логічний параметр removeNA вказує, чи видаляти NA значення. По замовчуванню він\n",
        "дорівнює TRUE."
      ],
      "metadata": {
        "id": "URHXcwvCcsyZ"
      }
    },
    {
      "cell_type": "code",
      "source": [
        "columnmean <- function(x, removeNA=TRUE){\n",
        "  for (i in 1:ncol(x)){\n",
        "    print(paste('col#', i))\n",
        "    print(mean(x[,i], na.rm=removeNA))\n",
        "    }\n",
        "}"
      ],
      "metadata": {
        "id": "aFiwW1_UcZ98"
      },
      "execution_count": 78,
      "outputs": []
    },
    {
      "cell_type": "code",
      "source": [
        "my_matrix <- matrix(c(1,2,3,NA,5,6,NA,8,9,10,11,12), nrow = 4, ncol = 3)\n",
        "my_matrix"
      ],
      "metadata": {
        "colab": {
          "base_uri": "https://localhost:8080/",
          "height": 177
        },
        "id": "80e-i86ddy9u",
        "outputId": "f1b7b670-771e-48e4-b1f4-3c04693d85f1"
      },
      "execution_count": 79,
      "outputs": [
        {
          "output_type": "display_data",
          "data": {
            "text/html": [
              "<table class=\"dataframe\">\n",
              "<caption>A matrix: 4 × 3 of type dbl</caption>\n",
              "<tbody>\n",
              "\t<tr><td> 1</td><td> 5</td><td> 9</td></tr>\n",
              "\t<tr><td> 2</td><td> 6</td><td>10</td></tr>\n",
              "\t<tr><td> 3</td><td>NA</td><td>11</td></tr>\n",
              "\t<tr><td>NA</td><td> 8</td><td>12</td></tr>\n",
              "</tbody>\n",
              "</table>\n"
            ],
            "text/markdown": "\nA matrix: 4 × 3 of type dbl\n\n|  1 |  5 |  9 |\n|  2 |  6 | 10 |\n|  3 | NA | 11 |\n| NA |  8 | 12 |\n\n",
            "text/latex": "A matrix: 4 × 3 of type dbl\n\\begin{tabular}{lll}\n\t  1 &  5 &  9\\\\\n\t  2 &  6 & 10\\\\\n\t  3 & NA & 11\\\\\n\t NA &  8 & 12\\\\\n\\end{tabular}\n",
            "text/plain": [
              "     [,1] [,2] [,3]\n",
              "[1,]  1    5    9  \n",
              "[2,]  2    6   10  \n",
              "[3,]  3   NA   11  \n",
              "[4,] NA    8   12  "
            ]
          },
          "metadata": {}
        }
      ]
    },
    {
      "cell_type": "code",
      "source": [
        "columnmean(my_matrix)"
      ],
      "metadata": {
        "colab": {
          "base_uri": "https://localhost:8080/"
        },
        "id": "LTaSTWUId9lj",
        "outputId": "fd48ab51-d5a2-406a-e275-cdedc071232c"
      },
      "execution_count": 80,
      "outputs": [
        {
          "output_type": "stream",
          "name": "stdout",
          "text": [
            "[1] \"col# 1\"\n",
            "[1] 2\n",
            "[1] \"col# 2\"\n",
            "[1] 6.333333\n",
            "[1] \"col# 3\"\n",
            "[1] 10.5\n"
          ]
        }
      ]
    },
    {
      "cell_type": "code",
      "source": [
        "columnmean(my_matrix, FALSE)"
      ],
      "metadata": {
        "colab": {
          "base_uri": "https://localhost:8080/"
        },
        "id": "JYNjzOjbeFQa",
        "outputId": "850dcfc9-287d-4b2e-f685-c0f8cc77c868"
      },
      "execution_count": 81,
      "outputs": [
        {
          "output_type": "stream",
          "name": "stdout",
          "text": [
            "[1] \"col# 1\"\n",
            "[1] NA\n",
            "[1] \"col# 2\"\n",
            "[1] NA\n",
            "[1] \"col# 3\"\n",
            "[1] 10.5\n"
          ]
        }
      ]
    },
    {
      "cell_type": "code",
      "source": [
        "df = as.data.frame(my_matrix)\n",
        "df"
      ],
      "metadata": {
        "colab": {
          "base_uri": "https://localhost:8080/",
          "height": 223
        },
        "id": "iPgU7Doggw70",
        "outputId": "a6e731cc-ed5c-4417-9631-f1c78f437c65"
      },
      "execution_count": 82,
      "outputs": [
        {
          "output_type": "display_data",
          "data": {
            "text/html": [
              "<table class=\"dataframe\">\n",
              "<caption>A data.frame: 4 × 3</caption>\n",
              "<thead>\n",
              "\t<tr><th scope=col>V1</th><th scope=col>V2</th><th scope=col>V3</th></tr>\n",
              "\t<tr><th scope=col>&lt;dbl&gt;</th><th scope=col>&lt;dbl&gt;</th><th scope=col>&lt;dbl&gt;</th></tr>\n",
              "</thead>\n",
              "<tbody>\n",
              "\t<tr><td> 1</td><td> 5</td><td> 9</td></tr>\n",
              "\t<tr><td> 2</td><td> 6</td><td>10</td></tr>\n",
              "\t<tr><td> 3</td><td>NA</td><td>11</td></tr>\n",
              "\t<tr><td>NA</td><td> 8</td><td>12</td></tr>\n",
              "</tbody>\n",
              "</table>\n"
            ],
            "text/markdown": "\nA data.frame: 4 × 3\n\n| V1 &lt;dbl&gt; | V2 &lt;dbl&gt; | V3 &lt;dbl&gt; |\n|---|---|---|\n|  1 |  5 |  9 |\n|  2 |  6 | 10 |\n|  3 | NA | 11 |\n| NA |  8 | 12 |\n\n",
            "text/latex": "A data.frame: 4 × 3\n\\begin{tabular}{lll}\n V1 & V2 & V3\\\\\n <dbl> & <dbl> & <dbl>\\\\\n\\hline\n\t  1 &  5 &  9\\\\\n\t  2 &  6 & 10\\\\\n\t  3 & NA & 11\\\\\n\t NA &  8 & 12\\\\\n\\end{tabular}\n",
            "text/plain": [
              "  V1 V2 V3\n",
              "1  1  5  9\n",
              "2  2  6 10\n",
              "3  3 NA 11\n",
              "4 NA  8 12"
            ]
          },
          "metadata": {}
        }
      ]
    },
    {
      "cell_type": "code",
      "source": [
        "columnmean(df)"
      ],
      "metadata": {
        "colab": {
          "base_uri": "https://localhost:8080/"
        },
        "id": "K7xy5Cwhg83c",
        "outputId": "59efbd1a-471f-4b8f-eb1b-89996fa9ba46"
      },
      "execution_count": 84,
      "outputs": [
        {
          "output_type": "stream",
          "name": "stdout",
          "text": [
            "[1] \"col# 1\"\n",
            "[1] 2\n",
            "[1] \"col# 2\"\n",
            "[1] 6.333333\n",
            "[1] \"col# 3\"\n",
            "[1] 10.5\n"
          ]
        }
      ]
    },
    {
      "cell_type": "code",
      "source": [
        "columnmean(df, FALSE)"
      ],
      "metadata": {
        "colab": {
          "base_uri": "https://localhost:8080/"
        },
        "id": "uDdphe-Xg6an",
        "outputId": "7c5f005e-ce9e-45fb-b06b-a16b227f4304"
      },
      "execution_count": 85,
      "outputs": [
        {
          "output_type": "stream",
          "name": "stdout",
          "text": [
            "[1] \"col# 1\"\n",
            "[1] NA\n",
            "[1] \"col# 2\"\n",
            "[1] NA\n",
            "[1] \"col# 3\"\n",
            "[1] 10.5\n"
          ]
        }
      ]
    },
    {
      "cell_type": "code",
      "source": [],
      "metadata": {
        "id": "iIH9eqR3g_As"
      },
      "execution_count": null,
      "outputs": []
    }
  ]
}