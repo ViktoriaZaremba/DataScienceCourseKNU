{
  "nbformat": 4,
  "nbformat_minor": 0,
  "metadata": {
    "colab": {
      "provenance": [],
      "authorship_tag": "ABX9TyMto/lVg4wEbaKQYJW/CbSJ",
      "include_colab_link": true
    },
    "kernelspec": {
      "name": "ir",
      "display_name": "R"
    },
    "language_info": {
      "name": "R"
    }
  },
  "cells": [
    {
      "cell_type": "markdown",
      "metadata": {
        "id": "view-in-github",
        "colab_type": "text"
      },
      "source": [
        "<a href=\"https://colab.research.google.com/github/ViktoriaZaremba/DataScienceCourseKNU/blob/main/lab4.ipynb\" target=\"_parent\"><img src=\"https://colab.research.google.com/assets/colab-badge.svg\" alt=\"Open In Colab\"/></a>"
      ]
    },
    {
      "cell_type": "markdown",
      "source": [
        "**Лабораторна робота №4**"
      ],
      "metadata": {
        "id": "h84jrY4-AmeX"
      }
    },
    {
      "cell_type": "markdown",
      "source": [
        "Для лабораторної роботи необхідно завантажити файл з даними "
      ],
      "metadata": {
        "id": "kEXwaHCEhyHM"
      }
    },
    {
      "cell_type": "code",
      "source": [
        "df = read.csv(\"hw1_data.csv\")\n",
        "df"
      ],
      "metadata": {
        "colab": {
          "base_uri": "https://localhost:8080/",
          "height": 1000
        },
        "id": "OLXEvgZ2hx0r",
        "outputId": "0f0c5797-beca-490c-fd5f-c135d29298b5"
      },
      "execution_count": 1,
      "outputs": [
        {
          "output_type": "display_data",
          "data": {
            "text/html": [
              "<table class=\"dataframe\">\n",
              "<caption>A data.frame: 153 × 6</caption>\n",
              "<thead>\n",
              "\t<tr><th scope=col>Ozone</th><th scope=col>Solar.R</th><th scope=col>Wind</th><th scope=col>Temp</th><th scope=col>Month</th><th scope=col>Day</th></tr>\n",
              "\t<tr><th scope=col>&lt;int&gt;</th><th scope=col>&lt;int&gt;</th><th scope=col>&lt;dbl&gt;</th><th scope=col>&lt;int&gt;</th><th scope=col>&lt;int&gt;</th><th scope=col>&lt;int&gt;</th></tr>\n",
              "</thead>\n",
              "<tbody>\n",
              "\t<tr><td> 41</td><td>190</td><td> 7.4</td><td>67</td><td>5</td><td> 1</td></tr>\n",
              "\t<tr><td> 36</td><td>118</td><td> 8.0</td><td>72</td><td>5</td><td> 2</td></tr>\n",
              "\t<tr><td> 12</td><td>149</td><td>12.6</td><td>74</td><td>5</td><td> 3</td></tr>\n",
              "\t<tr><td> 18</td><td>313</td><td>11.5</td><td>62</td><td>5</td><td> 4</td></tr>\n",
              "\t<tr><td> NA</td><td> NA</td><td>14.3</td><td>56</td><td>5</td><td> 5</td></tr>\n",
              "\t<tr><td> 28</td><td> NA</td><td>14.9</td><td>66</td><td>5</td><td> 6</td></tr>\n",
              "\t<tr><td> 23</td><td>299</td><td> 8.6</td><td>65</td><td>5</td><td> 7</td></tr>\n",
              "\t<tr><td> 19</td><td> 99</td><td>13.8</td><td>59</td><td>5</td><td> 8</td></tr>\n",
              "\t<tr><td>  8</td><td> 19</td><td>20.1</td><td>61</td><td>5</td><td> 9</td></tr>\n",
              "\t<tr><td> NA</td><td>194</td><td> 8.6</td><td>69</td><td>5</td><td>10</td></tr>\n",
              "\t<tr><td>  7</td><td> NA</td><td> 6.9</td><td>74</td><td>5</td><td>11</td></tr>\n",
              "\t<tr><td> 16</td><td>256</td><td> 9.7</td><td>69</td><td>5</td><td>12</td></tr>\n",
              "\t<tr><td> 11</td><td>290</td><td> 9.2</td><td>66</td><td>5</td><td>13</td></tr>\n",
              "\t<tr><td> 14</td><td>274</td><td>10.9</td><td>68</td><td>5</td><td>14</td></tr>\n",
              "\t<tr><td> 18</td><td> 65</td><td>13.2</td><td>58</td><td>5</td><td>15</td></tr>\n",
              "\t<tr><td> 14</td><td>334</td><td>11.5</td><td>64</td><td>5</td><td>16</td></tr>\n",
              "\t<tr><td> 34</td><td>307</td><td>12.0</td><td>66</td><td>5</td><td>17</td></tr>\n",
              "\t<tr><td>  6</td><td> 78</td><td>18.4</td><td>57</td><td>5</td><td>18</td></tr>\n",
              "\t<tr><td> 30</td><td>322</td><td>11.5</td><td>68</td><td>5</td><td>19</td></tr>\n",
              "\t<tr><td> 11</td><td> 44</td><td> 9.7</td><td>62</td><td>5</td><td>20</td></tr>\n",
              "\t<tr><td>  1</td><td>  8</td><td> 9.7</td><td>59</td><td>5</td><td>21</td></tr>\n",
              "\t<tr><td> 11</td><td>320</td><td>16.6</td><td>73</td><td>5</td><td>22</td></tr>\n",
              "\t<tr><td>  4</td><td> 25</td><td> 9.7</td><td>61</td><td>5</td><td>23</td></tr>\n",
              "\t<tr><td> 32</td><td> 92</td><td>12.0</td><td>61</td><td>5</td><td>24</td></tr>\n",
              "\t<tr><td> NA</td><td> 66</td><td>16.6</td><td>57</td><td>5</td><td>25</td></tr>\n",
              "\t<tr><td> NA</td><td>266</td><td>14.9</td><td>58</td><td>5</td><td>26</td></tr>\n",
              "\t<tr><td> NA</td><td> NA</td><td> 8.0</td><td>57</td><td>5</td><td>27</td></tr>\n",
              "\t<tr><td> 23</td><td> 13</td><td>12.0</td><td>67</td><td>5</td><td>28</td></tr>\n",
              "\t<tr><td> 45</td><td>252</td><td>14.9</td><td>81</td><td>5</td><td>29</td></tr>\n",
              "\t<tr><td>115</td><td>223</td><td> 5.7</td><td>79</td><td>5</td><td>30</td></tr>\n",
              "\t<tr><td>⋮</td><td>⋮</td><td>⋮</td><td>⋮</td><td>⋮</td><td>⋮</td></tr>\n",
              "\t<tr><td>96</td><td>167</td><td> 6.9</td><td>91</td><td>9</td><td> 1</td></tr>\n",
              "\t<tr><td>78</td><td>197</td><td> 5.1</td><td>92</td><td>9</td><td> 2</td></tr>\n",
              "\t<tr><td>73</td><td>183</td><td> 2.8</td><td>93</td><td>9</td><td> 3</td></tr>\n",
              "\t<tr><td>91</td><td>189</td><td> 4.6</td><td>93</td><td>9</td><td> 4</td></tr>\n",
              "\t<tr><td>47</td><td> 95</td><td> 7.4</td><td>87</td><td>9</td><td> 5</td></tr>\n",
              "\t<tr><td>32</td><td> 92</td><td>15.5</td><td>84</td><td>9</td><td> 6</td></tr>\n",
              "\t<tr><td>20</td><td>252</td><td>10.9</td><td>80</td><td>9</td><td> 7</td></tr>\n",
              "\t<tr><td>23</td><td>220</td><td>10.3</td><td>78</td><td>9</td><td> 8</td></tr>\n",
              "\t<tr><td>21</td><td>230</td><td>10.9</td><td>75</td><td>9</td><td> 9</td></tr>\n",
              "\t<tr><td>24</td><td>259</td><td> 9.7</td><td>73</td><td>9</td><td>10</td></tr>\n",
              "\t<tr><td>44</td><td>236</td><td>14.9</td><td>81</td><td>9</td><td>11</td></tr>\n",
              "\t<tr><td>21</td><td>259</td><td>15.5</td><td>76</td><td>9</td><td>12</td></tr>\n",
              "\t<tr><td>28</td><td>238</td><td> 6.3</td><td>77</td><td>9</td><td>13</td></tr>\n",
              "\t<tr><td> 9</td><td> 24</td><td>10.9</td><td>71</td><td>9</td><td>14</td></tr>\n",
              "\t<tr><td>13</td><td>112</td><td>11.5</td><td>71</td><td>9</td><td>15</td></tr>\n",
              "\t<tr><td>46</td><td>237</td><td> 6.9</td><td>78</td><td>9</td><td>16</td></tr>\n",
              "\t<tr><td>18</td><td>224</td><td>13.8</td><td>67</td><td>9</td><td>17</td></tr>\n",
              "\t<tr><td>13</td><td> 27</td><td>10.3</td><td>76</td><td>9</td><td>18</td></tr>\n",
              "\t<tr><td>24</td><td>238</td><td>10.3</td><td>68</td><td>9</td><td>19</td></tr>\n",
              "\t<tr><td>16</td><td>201</td><td> 8.0</td><td>82</td><td>9</td><td>20</td></tr>\n",
              "\t<tr><td>13</td><td>238</td><td>12.6</td><td>64</td><td>9</td><td>21</td></tr>\n",
              "\t<tr><td>23</td><td> 14</td><td> 9.2</td><td>71</td><td>9</td><td>22</td></tr>\n",
              "\t<tr><td>36</td><td>139</td><td>10.3</td><td>81</td><td>9</td><td>23</td></tr>\n",
              "\t<tr><td> 7</td><td> 49</td><td>10.3</td><td>69</td><td>9</td><td>24</td></tr>\n",
              "\t<tr><td>14</td><td> 20</td><td>16.6</td><td>63</td><td>9</td><td>25</td></tr>\n",
              "\t<tr><td>30</td><td>193</td><td> 6.9</td><td>70</td><td>9</td><td>26</td></tr>\n",
              "\t<tr><td>NA</td><td>145</td><td>13.2</td><td>77</td><td>9</td><td>27</td></tr>\n",
              "\t<tr><td>14</td><td>191</td><td>14.3</td><td>75</td><td>9</td><td>28</td></tr>\n",
              "\t<tr><td>18</td><td>131</td><td> 8.0</td><td>76</td><td>9</td><td>29</td></tr>\n",
              "\t<tr><td>20</td><td>223</td><td>11.5</td><td>68</td><td>9</td><td>30</td></tr>\n",
              "</tbody>\n",
              "</table>\n"
            ],
            "text/markdown": "\nA data.frame: 153 × 6\n\n| Ozone &lt;int&gt; | Solar.R &lt;int&gt; | Wind &lt;dbl&gt; | Temp &lt;int&gt; | Month &lt;int&gt; | Day &lt;int&gt; |\n|---|---|---|---|---|---|\n|  41 | 190 |  7.4 | 67 | 5 |  1 |\n|  36 | 118 |  8.0 | 72 | 5 |  2 |\n|  12 | 149 | 12.6 | 74 | 5 |  3 |\n|  18 | 313 | 11.5 | 62 | 5 |  4 |\n|  NA |  NA | 14.3 | 56 | 5 |  5 |\n|  28 |  NA | 14.9 | 66 | 5 |  6 |\n|  23 | 299 |  8.6 | 65 | 5 |  7 |\n|  19 |  99 | 13.8 | 59 | 5 |  8 |\n|   8 |  19 | 20.1 | 61 | 5 |  9 |\n|  NA | 194 |  8.6 | 69 | 5 | 10 |\n|   7 |  NA |  6.9 | 74 | 5 | 11 |\n|  16 | 256 |  9.7 | 69 | 5 | 12 |\n|  11 | 290 |  9.2 | 66 | 5 | 13 |\n|  14 | 274 | 10.9 | 68 | 5 | 14 |\n|  18 |  65 | 13.2 | 58 | 5 | 15 |\n|  14 | 334 | 11.5 | 64 | 5 | 16 |\n|  34 | 307 | 12.0 | 66 | 5 | 17 |\n|   6 |  78 | 18.4 | 57 | 5 | 18 |\n|  30 | 322 | 11.5 | 68 | 5 | 19 |\n|  11 |  44 |  9.7 | 62 | 5 | 20 |\n|   1 |   8 |  9.7 | 59 | 5 | 21 |\n|  11 | 320 | 16.6 | 73 | 5 | 22 |\n|   4 |  25 |  9.7 | 61 | 5 | 23 |\n|  32 |  92 | 12.0 | 61 | 5 | 24 |\n|  NA |  66 | 16.6 | 57 | 5 | 25 |\n|  NA | 266 | 14.9 | 58 | 5 | 26 |\n|  NA |  NA |  8.0 | 57 | 5 | 27 |\n|  23 |  13 | 12.0 | 67 | 5 | 28 |\n|  45 | 252 | 14.9 | 81 | 5 | 29 |\n| 115 | 223 |  5.7 | 79 | 5 | 30 |\n| ⋮ | ⋮ | ⋮ | ⋮ | ⋮ | ⋮ |\n| 96 | 167 |  6.9 | 91 | 9 |  1 |\n| 78 | 197 |  5.1 | 92 | 9 |  2 |\n| 73 | 183 |  2.8 | 93 | 9 |  3 |\n| 91 | 189 |  4.6 | 93 | 9 |  4 |\n| 47 |  95 |  7.4 | 87 | 9 |  5 |\n| 32 |  92 | 15.5 | 84 | 9 |  6 |\n| 20 | 252 | 10.9 | 80 | 9 |  7 |\n| 23 | 220 | 10.3 | 78 | 9 |  8 |\n| 21 | 230 | 10.9 | 75 | 9 |  9 |\n| 24 | 259 |  9.7 | 73 | 9 | 10 |\n| 44 | 236 | 14.9 | 81 | 9 | 11 |\n| 21 | 259 | 15.5 | 76 | 9 | 12 |\n| 28 | 238 |  6.3 | 77 | 9 | 13 |\n|  9 |  24 | 10.9 | 71 | 9 | 14 |\n| 13 | 112 | 11.5 | 71 | 9 | 15 |\n| 46 | 237 |  6.9 | 78 | 9 | 16 |\n| 18 | 224 | 13.8 | 67 | 9 | 17 |\n| 13 |  27 | 10.3 | 76 | 9 | 18 |\n| 24 | 238 | 10.3 | 68 | 9 | 19 |\n| 16 | 201 |  8.0 | 82 | 9 | 20 |\n| 13 | 238 | 12.6 | 64 | 9 | 21 |\n| 23 |  14 |  9.2 | 71 | 9 | 22 |\n| 36 | 139 | 10.3 | 81 | 9 | 23 |\n|  7 |  49 | 10.3 | 69 | 9 | 24 |\n| 14 |  20 | 16.6 | 63 | 9 | 25 |\n| 30 | 193 |  6.9 | 70 | 9 | 26 |\n| NA | 145 | 13.2 | 77 | 9 | 27 |\n| 14 | 191 | 14.3 | 75 | 9 | 28 |\n| 18 | 131 |  8.0 | 76 | 9 | 29 |\n| 20 | 223 | 11.5 | 68 | 9 | 30 |\n\n",
            "text/latex": "A data.frame: 153 × 6\n\\begin{tabular}{llllll}\n Ozone & Solar.R & Wind & Temp & Month & Day\\\\\n <int> & <int> & <dbl> & <int> & <int> & <int>\\\\\n\\hline\n\t  41 & 190 &  7.4 & 67 & 5 &  1\\\\\n\t  36 & 118 &  8.0 & 72 & 5 &  2\\\\\n\t  12 & 149 & 12.6 & 74 & 5 &  3\\\\\n\t  18 & 313 & 11.5 & 62 & 5 &  4\\\\\n\t  NA &  NA & 14.3 & 56 & 5 &  5\\\\\n\t  28 &  NA & 14.9 & 66 & 5 &  6\\\\\n\t  23 & 299 &  8.6 & 65 & 5 &  7\\\\\n\t  19 &  99 & 13.8 & 59 & 5 &  8\\\\\n\t   8 &  19 & 20.1 & 61 & 5 &  9\\\\\n\t  NA & 194 &  8.6 & 69 & 5 & 10\\\\\n\t   7 &  NA &  6.9 & 74 & 5 & 11\\\\\n\t  16 & 256 &  9.7 & 69 & 5 & 12\\\\\n\t  11 & 290 &  9.2 & 66 & 5 & 13\\\\\n\t  14 & 274 & 10.9 & 68 & 5 & 14\\\\\n\t  18 &  65 & 13.2 & 58 & 5 & 15\\\\\n\t  14 & 334 & 11.5 & 64 & 5 & 16\\\\\n\t  34 & 307 & 12.0 & 66 & 5 & 17\\\\\n\t   6 &  78 & 18.4 & 57 & 5 & 18\\\\\n\t  30 & 322 & 11.5 & 68 & 5 & 19\\\\\n\t  11 &  44 &  9.7 & 62 & 5 & 20\\\\\n\t   1 &   8 &  9.7 & 59 & 5 & 21\\\\\n\t  11 & 320 & 16.6 & 73 & 5 & 22\\\\\n\t   4 &  25 &  9.7 & 61 & 5 & 23\\\\\n\t  32 &  92 & 12.0 & 61 & 5 & 24\\\\\n\t  NA &  66 & 16.6 & 57 & 5 & 25\\\\\n\t  NA & 266 & 14.9 & 58 & 5 & 26\\\\\n\t  NA &  NA &  8.0 & 57 & 5 & 27\\\\\n\t  23 &  13 & 12.0 & 67 & 5 & 28\\\\\n\t  45 & 252 & 14.9 & 81 & 5 & 29\\\\\n\t 115 & 223 &  5.7 & 79 & 5 & 30\\\\\n\t ⋮ & ⋮ & ⋮ & ⋮ & ⋮ & ⋮\\\\\n\t 96 & 167 &  6.9 & 91 & 9 &  1\\\\\n\t 78 & 197 &  5.1 & 92 & 9 &  2\\\\\n\t 73 & 183 &  2.8 & 93 & 9 &  3\\\\\n\t 91 & 189 &  4.6 & 93 & 9 &  4\\\\\n\t 47 &  95 &  7.4 & 87 & 9 &  5\\\\\n\t 32 &  92 & 15.5 & 84 & 9 &  6\\\\\n\t 20 & 252 & 10.9 & 80 & 9 &  7\\\\\n\t 23 & 220 & 10.3 & 78 & 9 &  8\\\\\n\t 21 & 230 & 10.9 & 75 & 9 &  9\\\\\n\t 24 & 259 &  9.7 & 73 & 9 & 10\\\\\n\t 44 & 236 & 14.9 & 81 & 9 & 11\\\\\n\t 21 & 259 & 15.5 & 76 & 9 & 12\\\\\n\t 28 & 238 &  6.3 & 77 & 9 & 13\\\\\n\t  9 &  24 & 10.9 & 71 & 9 & 14\\\\\n\t 13 & 112 & 11.5 & 71 & 9 & 15\\\\\n\t 46 & 237 &  6.9 & 78 & 9 & 16\\\\\n\t 18 & 224 & 13.8 & 67 & 9 & 17\\\\\n\t 13 &  27 & 10.3 & 76 & 9 & 18\\\\\n\t 24 & 238 & 10.3 & 68 & 9 & 19\\\\\n\t 16 & 201 &  8.0 & 82 & 9 & 20\\\\\n\t 13 & 238 & 12.6 & 64 & 9 & 21\\\\\n\t 23 &  14 &  9.2 & 71 & 9 & 22\\\\\n\t 36 & 139 & 10.3 & 81 & 9 & 23\\\\\n\t  7 &  49 & 10.3 & 69 & 9 & 24\\\\\n\t 14 &  20 & 16.6 & 63 & 9 & 25\\\\\n\t 30 & 193 &  6.9 & 70 & 9 & 26\\\\\n\t NA & 145 & 13.2 & 77 & 9 & 27\\\\\n\t 14 & 191 & 14.3 & 75 & 9 & 28\\\\\n\t 18 & 131 &  8.0 & 76 & 9 & 29\\\\\n\t 20 & 223 & 11.5 & 68 & 9 & 30\\\\\n\\end{tabular}\n",
            "text/plain": [
              "    Ozone Solar.R Wind Temp Month Day\n",
              "1    41   190      7.4 67   5      1 \n",
              "2    36   118      8.0 72   5      2 \n",
              "3    12   149     12.6 74   5      3 \n",
              "4    18   313     11.5 62   5      4 \n",
              "5    NA    NA     14.3 56   5      5 \n",
              "6    28    NA     14.9 66   5      6 \n",
              "7    23   299      8.6 65   5      7 \n",
              "8    19    99     13.8 59   5      8 \n",
              "9     8    19     20.1 61   5      9 \n",
              "10   NA   194      8.6 69   5     10 \n",
              "11    7    NA      6.9 74   5     11 \n",
              "12   16   256      9.7 69   5     12 \n",
              "13   11   290      9.2 66   5     13 \n",
              "14   14   274     10.9 68   5     14 \n",
              "15   18    65     13.2 58   5     15 \n",
              "16   14   334     11.5 64   5     16 \n",
              "17   34   307     12.0 66   5     17 \n",
              "18    6    78     18.4 57   5     18 \n",
              "19   30   322     11.5 68   5     19 \n",
              "20   11    44      9.7 62   5     20 \n",
              "21    1     8      9.7 59   5     21 \n",
              "22   11   320     16.6 73   5     22 \n",
              "23    4    25      9.7 61   5     23 \n",
              "24   32    92     12.0 61   5     24 \n",
              "25   NA    66     16.6 57   5     25 \n",
              "26   NA   266     14.9 58   5     26 \n",
              "27   NA    NA      8.0 57   5     27 \n",
              "28   23    13     12.0 67   5     28 \n",
              "29   45   252     14.9 81   5     29 \n",
              "30  115   223      5.7 79   5     30 \n",
              "⋮   ⋮     ⋮       ⋮    ⋮    ⋮     ⋮  \n",
              "124 96    167      6.9 91   9      1 \n",
              "125 78    197      5.1 92   9      2 \n",
              "126 73    183      2.8 93   9      3 \n",
              "127 91    189      4.6 93   9      4 \n",
              "128 47     95      7.4 87   9      5 \n",
              "129 32     92     15.5 84   9      6 \n",
              "130 20    252     10.9 80   9      7 \n",
              "131 23    220     10.3 78   9      8 \n",
              "132 21    230     10.9 75   9      9 \n",
              "133 24    259      9.7 73   9     10 \n",
              "134 44    236     14.9 81   9     11 \n",
              "135 21    259     15.5 76   9     12 \n",
              "136 28    238      6.3 77   9     13 \n",
              "137  9     24     10.9 71   9     14 \n",
              "138 13    112     11.5 71   9     15 \n",
              "139 46    237      6.9 78   9     16 \n",
              "140 18    224     13.8 67   9     17 \n",
              "141 13     27     10.3 76   9     18 \n",
              "142 24    238     10.3 68   9     19 \n",
              "143 16    201      8.0 82   9     20 \n",
              "144 13    238     12.6 64   9     21 \n",
              "145 23     14      9.2 71   9     22 \n",
              "146 36    139     10.3 81   9     23 \n",
              "147  7     49     10.3 69   9     24 \n",
              "148 14     20     16.6 63   9     25 \n",
              "149 30    193      6.9 70   9     26 \n",
              "150 NA    145     13.2 77   9     27 \n",
              "151 14    191     14.3 75   9     28 \n",
              "152 18    131      8.0 76   9     29 \n",
              "153 20    223     11.5 68   9     30 "
            ]
          },
          "metadata": {}
        }
      ]
    },
    {
      "cell_type": "markdown",
      "source": [
        "1. Які назви стовпців файлу даних?\n"
      ],
      "metadata": {
        "id": "2X42fvFIixvH"
      }
    },
    {
      "cell_type": "code",
      "source": [
        "colnames(df)"
      ],
      "metadata": {
        "colab": {
          "base_uri": "https://localhost:8080/",
          "height": 34
        },
        "id": "Hg4LKpisirt2",
        "outputId": "ec644c90-578d-46df-8080-b88597260b59"
      },
      "execution_count": 3,
      "outputs": [
        {
          "output_type": "display_data",
          "data": {
            "text/html": [
              "<style>\n",
              ".list-inline {list-style: none; margin:0; padding: 0}\n",
              ".list-inline>li {display: inline-block}\n",
              ".list-inline>li:not(:last-child)::after {content: \"\\00b7\"; padding: 0 .5ex}\n",
              "</style>\n",
              "<ol class=list-inline><li>'Ozone'</li><li>'Solar.R'</li><li>'Wind'</li><li>'Temp'</li><li>'Month'</li><li>'Day'</li></ol>\n"
            ],
            "text/markdown": "1. 'Ozone'\n2. 'Solar.R'\n3. 'Wind'\n4. 'Temp'\n5. 'Month'\n6. 'Day'\n\n\n",
            "text/latex": "\\begin{enumerate*}\n\\item 'Ozone'\n\\item 'Solar.R'\n\\item 'Wind'\n\\item 'Temp'\n\\item 'Month'\n\\item 'Day'\n\\end{enumerate*}\n",
            "text/plain": [
              "[1] \"Ozone\"   \"Solar.R\" \"Wind\"    \"Temp\"    \"Month\"   \"Day\"    "
            ]
          },
          "metadata": {}
        }
      ]
    },
    {
      "cell_type": "markdown",
      "source": [
        "2. Виведіть перші 6 строк фрейму даних.\n"
      ],
      "metadata": {
        "id": "UYLZR57wi0Yz"
      }
    },
    {
      "cell_type": "code",
      "source": [
        "df[1:6, ]"
      ],
      "metadata": {
        "colab": {
          "base_uri": "https://localhost:8080/",
          "height": 286
        },
        "id": "2q3khyR7i2Go",
        "outputId": "53f3454f-8d69-4cb4-b8a1-0f030866aa52"
      },
      "execution_count": 6,
      "outputs": [
        {
          "output_type": "display_data",
          "data": {
            "text/html": [
              "<table class=\"dataframe\">\n",
              "<caption>A data.frame: 6 × 6</caption>\n",
              "<thead>\n",
              "\t<tr><th></th><th scope=col>Ozone</th><th scope=col>Solar.R</th><th scope=col>Wind</th><th scope=col>Temp</th><th scope=col>Month</th><th scope=col>Day</th></tr>\n",
              "\t<tr><th></th><th scope=col>&lt;int&gt;</th><th scope=col>&lt;int&gt;</th><th scope=col>&lt;dbl&gt;</th><th scope=col>&lt;int&gt;</th><th scope=col>&lt;int&gt;</th><th scope=col>&lt;int&gt;</th></tr>\n",
              "</thead>\n",
              "<tbody>\n",
              "\t<tr><th scope=row>1</th><td>41</td><td>190</td><td> 7.4</td><td>67</td><td>5</td><td>1</td></tr>\n",
              "\t<tr><th scope=row>2</th><td>36</td><td>118</td><td> 8.0</td><td>72</td><td>5</td><td>2</td></tr>\n",
              "\t<tr><th scope=row>3</th><td>12</td><td>149</td><td>12.6</td><td>74</td><td>5</td><td>3</td></tr>\n",
              "\t<tr><th scope=row>4</th><td>18</td><td>313</td><td>11.5</td><td>62</td><td>5</td><td>4</td></tr>\n",
              "\t<tr><th scope=row>5</th><td>NA</td><td> NA</td><td>14.3</td><td>56</td><td>5</td><td>5</td></tr>\n",
              "\t<tr><th scope=row>6</th><td>28</td><td> NA</td><td>14.9</td><td>66</td><td>5</td><td>6</td></tr>\n",
              "</tbody>\n",
              "</table>\n"
            ],
            "text/markdown": "\nA data.frame: 6 × 6\n\n| <!--/--> | Ozone &lt;int&gt; | Solar.R &lt;int&gt; | Wind &lt;dbl&gt; | Temp &lt;int&gt; | Month &lt;int&gt; | Day &lt;int&gt; |\n|---|---|---|---|---|---|---|\n| 1 | 41 | 190 |  7.4 | 67 | 5 | 1 |\n| 2 | 36 | 118 |  8.0 | 72 | 5 | 2 |\n| 3 | 12 | 149 | 12.6 | 74 | 5 | 3 |\n| 4 | 18 | 313 | 11.5 | 62 | 5 | 4 |\n| 5 | NA |  NA | 14.3 | 56 | 5 | 5 |\n| 6 | 28 |  NA | 14.9 | 66 | 5 | 6 |\n\n",
            "text/latex": "A data.frame: 6 × 6\n\\begin{tabular}{r|llllll}\n  & Ozone & Solar.R & Wind & Temp & Month & Day\\\\\n  & <int> & <int> & <dbl> & <int> & <int> & <int>\\\\\n\\hline\n\t1 & 41 & 190 &  7.4 & 67 & 5 & 1\\\\\n\t2 & 36 & 118 &  8.0 & 72 & 5 & 2\\\\\n\t3 & 12 & 149 & 12.6 & 74 & 5 & 3\\\\\n\t4 & 18 & 313 & 11.5 & 62 & 5 & 4\\\\\n\t5 & NA &  NA & 14.3 & 56 & 5 & 5\\\\\n\t6 & 28 &  NA & 14.9 & 66 & 5 & 6\\\\\n\\end{tabular}\n",
            "text/plain": [
              "  Ozone Solar.R Wind Temp Month Day\n",
              "1 41    190      7.4 67   5     1  \n",
              "2 36    118      8.0 72   5     2  \n",
              "3 12    149     12.6 74   5     3  \n",
              "4 18    313     11.5 62   5     4  \n",
              "5 NA     NA     14.3 56   5     5  \n",
              "6 28     NA     14.9 66   5     6  "
            ]
          },
          "metadata": {}
        }
      ]
    },
    {
      "cell_type": "markdown",
      "source": [
        "3. Скільки спостерігань (строк) в дата фреймі?\n"
      ],
      "metadata": {
        "id": "mPWXigIAi2b3"
      }
    },
    {
      "cell_type": "code",
      "source": [
        "print(paste(\" Кількість рядків в датафреймі: \", dim(df)[1]))"
      ],
      "metadata": {
        "colab": {
          "base_uri": "https://localhost:8080/"
        },
        "id": "pozAbjDzi4a6",
        "outputId": "c70c5f57-f4ee-4a35-c714-5ab2e3a15b5f"
      },
      "execution_count": 11,
      "outputs": [
        {
          "output_type": "stream",
          "name": "stdout",
          "text": [
            "[1] \" Кількість рядків в датафреймі:  153\"\n"
          ]
        }
      ]
    },
    {
      "cell_type": "markdown",
      "source": [
        "4. Виведіть останні 10 строк дата фрейму.\n"
      ],
      "metadata": {
        "id": "IL3Y6bwui5BL"
      }
    },
    {
      "cell_type": "code",
      "source": [
        "tail(df, n = 10)"
      ],
      "metadata": {
        "colab": {
          "base_uri": "https://localhost:8080/",
          "height": 412
        },
        "id": "G9YrrPjXi6jU",
        "outputId": "4161c1a3-9fd7-4516-9cd2-30fea8c6aae1"
      },
      "execution_count": 12,
      "outputs": [
        {
          "output_type": "display_data",
          "data": {
            "text/html": [
              "<table class=\"dataframe\">\n",
              "<caption>A data.frame: 10 × 6</caption>\n",
              "<thead>\n",
              "\t<tr><th></th><th scope=col>Ozone</th><th scope=col>Solar.R</th><th scope=col>Wind</th><th scope=col>Temp</th><th scope=col>Month</th><th scope=col>Day</th></tr>\n",
              "\t<tr><th></th><th scope=col>&lt;int&gt;</th><th scope=col>&lt;int&gt;</th><th scope=col>&lt;dbl&gt;</th><th scope=col>&lt;int&gt;</th><th scope=col>&lt;int&gt;</th><th scope=col>&lt;int&gt;</th></tr>\n",
              "</thead>\n",
              "<tbody>\n",
              "\t<tr><th scope=row>144</th><td>13</td><td>238</td><td>12.6</td><td>64</td><td>9</td><td>21</td></tr>\n",
              "\t<tr><th scope=row>145</th><td>23</td><td> 14</td><td> 9.2</td><td>71</td><td>9</td><td>22</td></tr>\n",
              "\t<tr><th scope=row>146</th><td>36</td><td>139</td><td>10.3</td><td>81</td><td>9</td><td>23</td></tr>\n",
              "\t<tr><th scope=row>147</th><td> 7</td><td> 49</td><td>10.3</td><td>69</td><td>9</td><td>24</td></tr>\n",
              "\t<tr><th scope=row>148</th><td>14</td><td> 20</td><td>16.6</td><td>63</td><td>9</td><td>25</td></tr>\n",
              "\t<tr><th scope=row>149</th><td>30</td><td>193</td><td> 6.9</td><td>70</td><td>9</td><td>26</td></tr>\n",
              "\t<tr><th scope=row>150</th><td>NA</td><td>145</td><td>13.2</td><td>77</td><td>9</td><td>27</td></tr>\n",
              "\t<tr><th scope=row>151</th><td>14</td><td>191</td><td>14.3</td><td>75</td><td>9</td><td>28</td></tr>\n",
              "\t<tr><th scope=row>152</th><td>18</td><td>131</td><td> 8.0</td><td>76</td><td>9</td><td>29</td></tr>\n",
              "\t<tr><th scope=row>153</th><td>20</td><td>223</td><td>11.5</td><td>68</td><td>9</td><td>30</td></tr>\n",
              "</tbody>\n",
              "</table>\n"
            ],
            "text/markdown": "\nA data.frame: 10 × 6\n\n| <!--/--> | Ozone &lt;int&gt; | Solar.R &lt;int&gt; | Wind &lt;dbl&gt; | Temp &lt;int&gt; | Month &lt;int&gt; | Day &lt;int&gt; |\n|---|---|---|---|---|---|---|\n| 144 | 13 | 238 | 12.6 | 64 | 9 | 21 |\n| 145 | 23 |  14 |  9.2 | 71 | 9 | 22 |\n| 146 | 36 | 139 | 10.3 | 81 | 9 | 23 |\n| 147 |  7 |  49 | 10.3 | 69 | 9 | 24 |\n| 148 | 14 |  20 | 16.6 | 63 | 9 | 25 |\n| 149 | 30 | 193 |  6.9 | 70 | 9 | 26 |\n| 150 | NA | 145 | 13.2 | 77 | 9 | 27 |\n| 151 | 14 | 191 | 14.3 | 75 | 9 | 28 |\n| 152 | 18 | 131 |  8.0 | 76 | 9 | 29 |\n| 153 | 20 | 223 | 11.5 | 68 | 9 | 30 |\n\n",
            "text/latex": "A data.frame: 10 × 6\n\\begin{tabular}{r|llllll}\n  & Ozone & Solar.R & Wind & Temp & Month & Day\\\\\n  & <int> & <int> & <dbl> & <int> & <int> & <int>\\\\\n\\hline\n\t144 & 13 & 238 & 12.6 & 64 & 9 & 21\\\\\n\t145 & 23 &  14 &  9.2 & 71 & 9 & 22\\\\\n\t146 & 36 & 139 & 10.3 & 81 & 9 & 23\\\\\n\t147 &  7 &  49 & 10.3 & 69 & 9 & 24\\\\\n\t148 & 14 &  20 & 16.6 & 63 & 9 & 25\\\\\n\t149 & 30 & 193 &  6.9 & 70 & 9 & 26\\\\\n\t150 & NA & 145 & 13.2 & 77 & 9 & 27\\\\\n\t151 & 14 & 191 & 14.3 & 75 & 9 & 28\\\\\n\t152 & 18 & 131 &  8.0 & 76 & 9 & 29\\\\\n\t153 & 20 & 223 & 11.5 & 68 & 9 & 30\\\\\n\\end{tabular}\n",
            "text/plain": [
              "    Ozone Solar.R Wind Temp Month Day\n",
              "144 13    238     12.6 64   9     21 \n",
              "145 23     14      9.2 71   9     22 \n",
              "146 36    139     10.3 81   9     23 \n",
              "147  7     49     10.3 69   9     24 \n",
              "148 14     20     16.6 63   9     25 \n",
              "149 30    193      6.9 70   9     26 \n",
              "150 NA    145     13.2 77   9     27 \n",
              "151 14    191     14.3 75   9     28 \n",
              "152 18    131      8.0 76   9     29 \n",
              "153 20    223     11.5 68   9     30 "
            ]
          },
          "metadata": {}
        }
      ]
    },
    {
      "cell_type": "markdown",
      "source": [
        "5. Як багато значень «NA» в стовпці «Ozone»?\n"
      ],
      "metadata": {
        "id": "NaozqDr6i66C"
      }
    },
    {
      "cell_type": "code",
      "source": [
        "print(paste(\"Nunber of NA in Ozone = \", sum(is.na(df$Ozone))))"
      ],
      "metadata": {
        "colab": {
          "base_uri": "https://localhost:8080/"
        },
        "id": "umSE8gtDi_i_",
        "outputId": "05326f89-3981-47e4-d085-5e9626a42382"
      },
      "execution_count": 19,
      "outputs": [
        {
          "output_type": "stream",
          "name": "stdout",
          "text": [
            "[1] \"Nunber of NA in Ozone =  37\"\n"
          ]
        }
      ]
    },
    {
      "cell_type": "markdown",
      "source": [
        "6. Яке середнє (mean) стовпця «Ozone». Виключити «NA» значення.\n"
      ],
      "metadata": {
        "id": "31v0l0HPjCmq"
      }
    },
    {
      "cell_type": "code",
      "source": [
        "print(paste(\"Mean of Ozone = \", (mean(df$Ozone, na.rm=TRUE))))"
      ],
      "metadata": {
        "colab": {
          "base_uri": "https://localhost:8080/"
        },
        "id": "9g_QQMtAjDGT",
        "outputId": "26e8d8e9-2d16-4dfb-9d06-eecd47f5f6b3"
      },
      "execution_count": 21,
      "outputs": [
        {
          "output_type": "stream",
          "name": "stdout",
          "text": [
            "[1] \"Mean of Ozone =  42.1293103448276\"\n"
          ]
        }
      ]
    },
    {
      "cell_type": "markdown",
      "source": [
        "7. Виведіть частину набору даних (subset) зі значенням «Ozone» > 31 та «Temp» > 90. Яке середнє (mean) значень «Solar.R» в цьому наборі даних (subset)?"
      ],
      "metadata": {
        "id": "43WARCE9jFdr"
      }
    },
    {
      "cell_type": "code",
      "source": [
        "s = subset(df, Ozone > 31 & Temp > 90)\n",
        "s"
      ],
      "metadata": {
        "colab": {
          "base_uri": "https://localhost:8080/",
          "height": 412
        },
        "id": "_YVu5L3djFM2",
        "outputId": "f3197f08-6514-483f-bdbe-ba6891575c2e"
      },
      "execution_count": 25,
      "outputs": [
        {
          "output_type": "display_data",
          "data": {
            "text/html": [
              "<table class=\"dataframe\">\n",
              "<caption>A data.frame: 10 × 6</caption>\n",
              "<thead>\n",
              "\t<tr><th></th><th scope=col>Ozone</th><th scope=col>Solar.R</th><th scope=col>Wind</th><th scope=col>Temp</th><th scope=col>Month</th><th scope=col>Day</th></tr>\n",
              "\t<tr><th></th><th scope=col>&lt;int&gt;</th><th scope=col>&lt;int&gt;</th><th scope=col>&lt;dbl&gt;</th><th scope=col>&lt;int&gt;</th><th scope=col>&lt;int&gt;</th><th scope=col>&lt;int&gt;</th></tr>\n",
              "</thead>\n",
              "<tbody>\n",
              "\t<tr><th scope=row>69</th><td> 97</td><td>267</td><td>6.3</td><td>92</td><td>7</td><td> 8</td></tr>\n",
              "\t<tr><th scope=row>70</th><td> 97</td><td>272</td><td>5.7</td><td>92</td><td>7</td><td> 9</td></tr>\n",
              "\t<tr><th scope=row>120</th><td> 76</td><td>203</td><td>9.7</td><td>97</td><td>8</td><td>28</td></tr>\n",
              "\t<tr><th scope=row>121</th><td>118</td><td>225</td><td>2.3</td><td>94</td><td>8</td><td>29</td></tr>\n",
              "\t<tr><th scope=row>122</th><td> 84</td><td>237</td><td>6.3</td><td>96</td><td>8</td><td>30</td></tr>\n",
              "\t<tr><th scope=row>123</th><td> 85</td><td>188</td><td>6.3</td><td>94</td><td>8</td><td>31</td></tr>\n",
              "\t<tr><th scope=row>124</th><td> 96</td><td>167</td><td>6.9</td><td>91</td><td>9</td><td> 1</td></tr>\n",
              "\t<tr><th scope=row>125</th><td> 78</td><td>197</td><td>5.1</td><td>92</td><td>9</td><td> 2</td></tr>\n",
              "\t<tr><th scope=row>126</th><td> 73</td><td>183</td><td>2.8</td><td>93</td><td>9</td><td> 3</td></tr>\n",
              "\t<tr><th scope=row>127</th><td> 91</td><td>189</td><td>4.6</td><td>93</td><td>9</td><td> 4</td></tr>\n",
              "</tbody>\n",
              "</table>\n"
            ],
            "text/markdown": "\nA data.frame: 10 × 6\n\n| <!--/--> | Ozone &lt;int&gt; | Solar.R &lt;int&gt; | Wind &lt;dbl&gt; | Temp &lt;int&gt; | Month &lt;int&gt; | Day &lt;int&gt; |\n|---|---|---|---|---|---|---|\n| 69 |  97 | 267 | 6.3 | 92 | 7 |  8 |\n| 70 |  97 | 272 | 5.7 | 92 | 7 |  9 |\n| 120 |  76 | 203 | 9.7 | 97 | 8 | 28 |\n| 121 | 118 | 225 | 2.3 | 94 | 8 | 29 |\n| 122 |  84 | 237 | 6.3 | 96 | 8 | 30 |\n| 123 |  85 | 188 | 6.3 | 94 | 8 | 31 |\n| 124 |  96 | 167 | 6.9 | 91 | 9 |  1 |\n| 125 |  78 | 197 | 5.1 | 92 | 9 |  2 |\n| 126 |  73 | 183 | 2.8 | 93 | 9 |  3 |\n| 127 |  91 | 189 | 4.6 | 93 | 9 |  4 |\n\n",
            "text/latex": "A data.frame: 10 × 6\n\\begin{tabular}{r|llllll}\n  & Ozone & Solar.R & Wind & Temp & Month & Day\\\\\n  & <int> & <int> & <dbl> & <int> & <int> & <int>\\\\\n\\hline\n\t69 &  97 & 267 & 6.3 & 92 & 7 &  8\\\\\n\t70 &  97 & 272 & 5.7 & 92 & 7 &  9\\\\\n\t120 &  76 & 203 & 9.7 & 97 & 8 & 28\\\\\n\t121 & 118 & 225 & 2.3 & 94 & 8 & 29\\\\\n\t122 &  84 & 237 & 6.3 & 96 & 8 & 30\\\\\n\t123 &  85 & 188 & 6.3 & 94 & 8 & 31\\\\\n\t124 &  96 & 167 & 6.9 & 91 & 9 &  1\\\\\n\t125 &  78 & 197 & 5.1 & 92 & 9 &  2\\\\\n\t126 &  73 & 183 & 2.8 & 93 & 9 &  3\\\\\n\t127 &  91 & 189 & 4.6 & 93 & 9 &  4\\\\\n\\end{tabular}\n",
            "text/plain": [
              "    Ozone Solar.R Wind Temp Month Day\n",
              "69   97   267     6.3  92   7      8 \n",
              "70   97   272     5.7  92   7      9 \n",
              "120  76   203     9.7  97   8     28 \n",
              "121 118   225     2.3  94   8     29 \n",
              "122  84   237     6.3  96   8     30 \n",
              "123  85   188     6.3  94   8     31 \n",
              "124  96   167     6.9  91   9      1 \n",
              "125  78   197     5.1  92   9      2 \n",
              "126  73   183     2.8  93   9      3 \n",
              "127  91   189     4.6  93   9      4 "
            ]
          },
          "metadata": {}
        }
      ]
    },
    {
      "cell_type": "code",
      "source": [
        "print(paste(\" Mean Solar.R in this subset = \", mean(s$Solar.R)))"
      ],
      "metadata": {
        "colab": {
          "base_uri": "https://localhost:8080/"
        },
        "id": "00vc8xZylNAr",
        "outputId": "97dc1136-d5a3-4ba4-cbf5-980241ad3875"
      },
      "execution_count": 27,
      "outputs": [
        {
          "output_type": "stream",
          "name": "stdout",
          "text": [
            "[1] \" Mean Solar.R in this subset =  212.8\"\n"
          ]
        }
      ]
    },
    {
      "cell_type": "markdown",
      "source": [
        "8. Яке середнє значення (mean) для «Temp» для червня («Month» дорівнює 6)?\n"
      ],
      "metadata": {
        "id": "PXUxeC7_jHlf"
      }
    },
    {
      "cell_type": "code",
      "source": [
        "mean(df[df$Month == 6, 'Temp'])\n"
      ],
      "metadata": {
        "colab": {
          "base_uri": "https://localhost:8080/",
          "height": 34
        },
        "id": "Xtk66PoRjK7R",
        "outputId": "ca1ef123-79df-434c-9ba3-772365b46002"
      },
      "execution_count": 31,
      "outputs": [
        {
          "output_type": "display_data",
          "data": {
            "text/html": [
              "79.1"
            ],
            "text/markdown": "79.1",
            "text/latex": "79.1",
            "text/plain": [
              "[1] 79.1"
            ]
          },
          "metadata": {}
        }
      ]
    },
    {
      "cell_type": "markdown",
      "source": [
        "9. Яке максимальне значення «Ozone» для травня («Month» дорівнює 5)?\n"
      ],
      "metadata": {
        "id": "YmEvLPuFjLQO"
      }
    },
    {
      "cell_type": "code",
      "source": [
        "max(df[df$Month == 5, 'Ozone'])"
      ],
      "metadata": {
        "colab": {
          "base_uri": "https://localhost:8080/",
          "height": 34
        },
        "id": "ry5bvvsPjNRE",
        "outputId": "fde0d83a-1412-481e-c059-42a7436cc9d1"
      },
      "execution_count": 32,
      "outputs": [
        {
          "output_type": "display_data",
          "data": {
            "text/html": [
              "&lt;NA&gt;"
            ],
            "text/markdown": "&lt;NA&gt;",
            "text/latex": "<NA>",
            "text/plain": [
              "[1] NA"
            ]
          },
          "metadata": {}
        }
      ]
    },
    {
      "cell_type": "code",
      "source": [
        "max(df[df$Month == 5, 'Ozone'], na.rm = TRUE)"
      ],
      "metadata": {
        "colab": {
          "base_uri": "https://localhost:8080/",
          "height": 34
        },
        "id": "MQQE1IkemDrN",
        "outputId": "ba9a119d-25a3-438a-96c7-ed4d3dff4e92"
      },
      "execution_count": 33,
      "outputs": [
        {
          "output_type": "display_data",
          "data": {
            "text/html": [
              "115"
            ],
            "text/markdown": "115",
            "text/latex": "115",
            "text/plain": [
              "[1] 115"
            ]
          },
          "metadata": {}
        }
      ]
    },
    {
      "cell_type": "code",
      "source": [],
      "metadata": {
        "id": "QL2sOechmIp9"
      },
      "execution_count": null,
      "outputs": []
    }
  ]
}