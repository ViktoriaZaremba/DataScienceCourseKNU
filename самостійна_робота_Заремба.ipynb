{
  "cells": [
    {
      "cell_type": "markdown",
      "metadata": {
        "id": "view-in-github",
        "colab_type": "text"
      },
      "source": [
        "<a href=\"https://colab.research.google.com/github/ViktoriaZaremba/DataScienceCourseKNU/blob/main/%D1%81%D0%B0%D0%BC%D0%BE%D1%81%D1%82%D1%96%D0%B9%D0%BD%D0%B0_%D1%80%D0%BE%D0%B1%D0%BE%D1%82%D0%B0_%D0%97%D0%B0%D1%80%D0%B5%D0%BC%D0%B1%D0%B0.ipynb\" target=\"_parent\"><img src=\"https://colab.research.google.com/assets/colab-badge.svg\" alt=\"Open In Colab\"/></a>"
      ]
    },
    {
      "cell_type": "markdown",
      "source": [
        "<div style=\"text-align: center\">\n",
        "    <div style=\"height: 0px\">\n",
        "        </div>\n",
        "    <font size=2 color='black'>\n",
        "        Київський національний університет імені Тараса Шевченка\n",
        "    </font>\n",
        "    <div style=\"height: 100px\">\n",
        "        </div>\n",
        "    <img src=\"https://www.digitalmedia.com.ua/wp-content/uploads/2022/07/logo.png\" width=\"250\" height=\"250\">\n",
        "    <div style=\"height: 50px\">\n",
        "    </div>\n",
        "    <font size=6 color='black'>\n",
        "        Самостійна робота\n",
        "    </font>\n",
        "    <br>\n",
        "    <font size=3 color='black'>\n",
        "        З Прикладної аналітики при розробці ІТ\n",
        "    </font>\n",
        "</div>\n",
        "<div style=\"height: 200px\">\n",
        "    </div>\n",
        "<div style=\"text-align: right\">\n",
        "    <font size=3 color='black'>\n",
        "        Виконала:<br>\n",
        "        студентка групи УП-11<br>\n",
        "        Заремба Вікторія<br>\n",
        "        Викладач:<br>\n",
        "        Єгорченков О.В.,<br>\n",
        "    </font>\n",
        "</div>\n",
        "<div style=\"height: 100px\">\n",
        "    </div>\n",
        "<div style=\"text-align: center\">\n",
        "    <font size=3 color='black'>\n",
        "        <b>Київ 2022</b>\n",
        "    </font>\n",
        "</div>\n",
        "<div style=\"height: 00px\">\n",
        "    </div>"
      ],
      "metadata": {
        "id": "Ct5m68bw826W"
      }
    },
    {
      "cell_type": "code",
      "source": [],
      "metadata": {
        "id": "sOQ5VtxO9kBS"
      },
      "execution_count": null,
      "outputs": []
    },
    {
      "cell_type": "code",
      "execution_count": 1,
      "metadata": {
        "collapsed": true,
        "pycharm": {
          "name": "#%%\n"
        },
        "id": "NRcMD4DqJOnx"
      },
      "outputs": [],
      "source": [
        "import pandas as pd\n",
        "import matplotlib.pyplot as plt\n",
        "import numpy as np\n",
        "import seaborn as sns\n",
        "from math import isnan \n",
        "from statistics import mean\n"
      ]
    },
    {
      "cell_type": "markdown",
      "source": [
        "# 1. Dataset description\n",
        "\n",
        "У датасеті відображені дані спостереження за погодніми умовами.\n",
        "Дані записувались кожні пів години вродовж 19 днів.\n",
        "\n",
        "Датасет містить такі стовпці:\n",
        "* day/month - День та місяць\n",
        "* Time - час спостереження\n",
        "* Temperature - Температура\n",
        "* Dew Point - точка роси\n",
        "* Humidity - вологість\n",
        "* Wind - Тип вітру (напрямок/штиль)\n",
        "* Wind Speed - швидкість вітру\n",
        "* Wind Gust - Пориви вітру\n",
        "* Pressure - атмофсерний тиск\n",
        "* Precip.\t- опади\n",
        "* Precip Accum - накопичені опади\n",
        "* Condition - погодні умови/хмарність"
      ],
      "metadata": {
        "id": "0Ps2II225_fb"
      }
    },
    {
      "cell_type": "markdown",
      "source": [
        "# 2. Data reading\n",
        "\n",
        "\n"
      ],
      "metadata": {
        "id": "MkjQIuc9JsWz"
      }
    },
    {
      "cell_type": "code",
      "source": [
        "#Підклбючення до гугл-диску\n",
        "from google.colab import drive\n",
        "drive.mount('/content/drive')"
      ],
      "metadata": {
        "colab": {
          "base_uri": "https://localhost:8080/"
        },
        "id": "YtAj6QLuLe4f",
        "outputId": "de0436a3-b7b8-4fc4-ce47-dfc5ae33bc29"
      },
      "execution_count": 2,
      "outputs": [
        {
          "output_type": "stream",
          "name": "stdout",
          "text": [
            "Drive already mounted at /content/drive; to attempt to forcibly remount, call drive.mount(\"/content/drive\", force_remount=True).\n"
          ]
        }
      ]
    },
    {
      "cell_type": "code",
      "execution_count": 3,
      "outputs": [
        {
          "output_type": "execute_result",
          "data": {
            "text/plain": [
              "  day/month      Time  Temperature  Dew Point Humidity  Wind Wind Speed  \\\n",
              "0    16.Jul  12:20 AM         72.0         57      60%   VAR      1 mph   \n",
              "1    16.Jul  12:50 AM         73.0         57      57%     W      3 mph   \n",
              "2    16.Jul   1:20 AM         75.0         57      53%  CALM      0 mph   \n",
              "3    16.Jul   1:50 AM         72.0         57      60%  CALM      0 mph   \n",
              "4    16.Jul   2:20 AM         72.0         57      60%  CALM      0 mph   \n",
              "\n",
              "  Wind Gust  Pressure  Precip.  Precip Accum Condition  \n",
              "0     0 mph      29.6        0           0.0      Fair  \n",
              "1     0 mph      29.6        0           0.0      Fair  \n",
              "2     0 mph      29.6        0           0.0      Fair  \n",
              "3     0 mph      29.6        0           0.0      Fair  \n",
              "4     0 mph      29.5        0           0.0      Fair  "
            ],
            "text/html": [
              "\n",
              "  <div id=\"df-2ae3e4b9-1c63-4b6c-9f7d-18564467caca\">\n",
              "    <div class=\"colab-df-container\">\n",
              "      <div>\n",
              "<style scoped>\n",
              "    .dataframe tbody tr th:only-of-type {\n",
              "        vertical-align: middle;\n",
              "    }\n",
              "\n",
              "    .dataframe tbody tr th {\n",
              "        vertical-align: top;\n",
              "    }\n",
              "\n",
              "    .dataframe thead th {\n",
              "        text-align: right;\n",
              "    }\n",
              "</style>\n",
              "<table border=\"1\" class=\"dataframe\">\n",
              "  <thead>\n",
              "    <tr style=\"text-align: right;\">\n",
              "      <th></th>\n",
              "      <th>day/month</th>\n",
              "      <th>Time</th>\n",
              "      <th>Temperature</th>\n",
              "      <th>Dew Point</th>\n",
              "      <th>Humidity</th>\n",
              "      <th>Wind</th>\n",
              "      <th>Wind Speed</th>\n",
              "      <th>Wind Gust</th>\n",
              "      <th>Pressure</th>\n",
              "      <th>Precip.</th>\n",
              "      <th>Precip Accum</th>\n",
              "      <th>Condition</th>\n",
              "    </tr>\n",
              "  </thead>\n",
              "  <tbody>\n",
              "    <tr>\n",
              "      <th>0</th>\n",
              "      <td>16.Jul</td>\n",
              "      <td>12:20 AM</td>\n",
              "      <td>72.0</td>\n",
              "      <td>57</td>\n",
              "      <td>60%</td>\n",
              "      <td>VAR</td>\n",
              "      <td>1 mph</td>\n",
              "      <td>0 mph</td>\n",
              "      <td>29.6</td>\n",
              "      <td>0</td>\n",
              "      <td>0.0</td>\n",
              "      <td>Fair</td>\n",
              "    </tr>\n",
              "    <tr>\n",
              "      <th>1</th>\n",
              "      <td>16.Jul</td>\n",
              "      <td>12:50 AM</td>\n",
              "      <td>73.0</td>\n",
              "      <td>57</td>\n",
              "      <td>57%</td>\n",
              "      <td>W</td>\n",
              "      <td>3 mph</td>\n",
              "      <td>0 mph</td>\n",
              "      <td>29.6</td>\n",
              "      <td>0</td>\n",
              "      <td>0.0</td>\n",
              "      <td>Fair</td>\n",
              "    </tr>\n",
              "    <tr>\n",
              "      <th>2</th>\n",
              "      <td>16.Jul</td>\n",
              "      <td>1:20 AM</td>\n",
              "      <td>75.0</td>\n",
              "      <td>57</td>\n",
              "      <td>53%</td>\n",
              "      <td>CALM</td>\n",
              "      <td>0 mph</td>\n",
              "      <td>0 mph</td>\n",
              "      <td>29.6</td>\n",
              "      <td>0</td>\n",
              "      <td>0.0</td>\n",
              "      <td>Fair</td>\n",
              "    </tr>\n",
              "    <tr>\n",
              "      <th>3</th>\n",
              "      <td>16.Jul</td>\n",
              "      <td>1:50 AM</td>\n",
              "      <td>72.0</td>\n",
              "      <td>57</td>\n",
              "      <td>60%</td>\n",
              "      <td>CALM</td>\n",
              "      <td>0 mph</td>\n",
              "      <td>0 mph</td>\n",
              "      <td>29.6</td>\n",
              "      <td>0</td>\n",
              "      <td>0.0</td>\n",
              "      <td>Fair</td>\n",
              "    </tr>\n",
              "    <tr>\n",
              "      <th>4</th>\n",
              "      <td>16.Jul</td>\n",
              "      <td>2:20 AM</td>\n",
              "      <td>72.0</td>\n",
              "      <td>57</td>\n",
              "      <td>60%</td>\n",
              "      <td>CALM</td>\n",
              "      <td>0 mph</td>\n",
              "      <td>0 mph</td>\n",
              "      <td>29.5</td>\n",
              "      <td>0</td>\n",
              "      <td>0.0</td>\n",
              "      <td>Fair</td>\n",
              "    </tr>\n",
              "  </tbody>\n",
              "</table>\n",
              "</div>\n",
              "      <button class=\"colab-df-convert\" onclick=\"convertToInteractive('df-2ae3e4b9-1c63-4b6c-9f7d-18564467caca')\"\n",
              "              title=\"Convert this dataframe to an interactive table.\"\n",
              "              style=\"display:none;\">\n",
              "        \n",
              "  <svg xmlns=\"http://www.w3.org/2000/svg\" height=\"24px\"viewBox=\"0 0 24 24\"\n",
              "       width=\"24px\">\n",
              "    <path d=\"M0 0h24v24H0V0z\" fill=\"none\"/>\n",
              "    <path d=\"M18.56 5.44l.94 2.06.94-2.06 2.06-.94-2.06-.94-.94-2.06-.94 2.06-2.06.94zm-11 1L8.5 8.5l.94-2.06 2.06-.94-2.06-.94L8.5 2.5l-.94 2.06-2.06.94zm10 10l.94 2.06.94-2.06 2.06-.94-2.06-.94-.94-2.06-.94 2.06-2.06.94z\"/><path d=\"M17.41 7.96l-1.37-1.37c-.4-.4-.92-.59-1.43-.59-.52 0-1.04.2-1.43.59L10.3 9.45l-7.72 7.72c-.78.78-.78 2.05 0 2.83L4 21.41c.39.39.9.59 1.41.59.51 0 1.02-.2 1.41-.59l7.78-7.78 2.81-2.81c.8-.78.8-2.07 0-2.86zM5.41 20L4 18.59l7.72-7.72 1.47 1.35L5.41 20z\"/>\n",
              "  </svg>\n",
              "      </button>\n",
              "      \n",
              "  <style>\n",
              "    .colab-df-container {\n",
              "      display:flex;\n",
              "      flex-wrap:wrap;\n",
              "      gap: 12px;\n",
              "    }\n",
              "\n",
              "    .colab-df-convert {\n",
              "      background-color: #E8F0FE;\n",
              "      border: none;\n",
              "      border-radius: 50%;\n",
              "      cursor: pointer;\n",
              "      display: none;\n",
              "      fill: #1967D2;\n",
              "      height: 32px;\n",
              "      padding: 0 0 0 0;\n",
              "      width: 32px;\n",
              "    }\n",
              "\n",
              "    .colab-df-convert:hover {\n",
              "      background-color: #E2EBFA;\n",
              "      box-shadow: 0px 1px 2px rgba(60, 64, 67, 0.3), 0px 1px 3px 1px rgba(60, 64, 67, 0.15);\n",
              "      fill: #174EA6;\n",
              "    }\n",
              "\n",
              "    [theme=dark] .colab-df-convert {\n",
              "      background-color: #3B4455;\n",
              "      fill: #D2E3FC;\n",
              "    }\n",
              "\n",
              "    [theme=dark] .colab-df-convert:hover {\n",
              "      background-color: #434B5C;\n",
              "      box-shadow: 0px 1px 3px 1px rgba(0, 0, 0, 0.15);\n",
              "      filter: drop-shadow(0px 1px 2px rgba(0, 0, 0, 0.3));\n",
              "      fill: #FFFFFF;\n",
              "    }\n",
              "  </style>\n",
              "\n",
              "      <script>\n",
              "        const buttonEl =\n",
              "          document.querySelector('#df-2ae3e4b9-1c63-4b6c-9f7d-18564467caca button.colab-df-convert');\n",
              "        buttonEl.style.display =\n",
              "          google.colab.kernel.accessAllowed ? 'block' : 'none';\n",
              "\n",
              "        async function convertToInteractive(key) {\n",
              "          const element = document.querySelector('#df-2ae3e4b9-1c63-4b6c-9f7d-18564467caca');\n",
              "          const dataTable =\n",
              "            await google.colab.kernel.invokeFunction('convertToInteractive',\n",
              "                                                     [key], {});\n",
              "          if (!dataTable) return;\n",
              "\n",
              "          const docLinkHtml = 'Like what you see? Visit the ' +\n",
              "            '<a target=\"_blank\" href=https://colab.research.google.com/notebooks/data_table.ipynb>data table notebook</a>'\n",
              "            + ' to learn more about interactive tables.';\n",
              "          element.innerHTML = '';\n",
              "          dataTable['output_type'] = 'display_data';\n",
              "          await google.colab.output.renderOutput(dataTable, element);\n",
              "          const docLink = document.createElement('div');\n",
              "          docLink.innerHTML = docLinkHtml;\n",
              "          element.appendChild(docLink);\n",
              "        }\n",
              "      </script>\n",
              "    </div>\n",
              "  </div>\n",
              "  "
            ]
          },
          "metadata": {},
          "execution_count": 3
        }
      ],
      "source": [
        "#Зчитуємо дані\n",
        "df = pd.read_csv(\"/content/drive/MyDrive/ШЕВА/Аналіз даних/DATABASE_weather.csv\", sep = ';', decimal=',')\n",
        "df.head()"
      ],
      "metadata": {
        "pycharm": {
          "name": "#%%\n"
        },
        "colab": {
          "base_uri": "https://localhost:8080/",
          "height": 206
        },
        "id": "u92SpcG_JOny",
        "outputId": "1ad8521b-fd7e-494f-aad4-1cd9a59440bc"
      }
    },
    {
      "cell_type": "markdown",
      "source": [
        "# 3. Data tidying."
      ],
      "metadata": {
        "id": "ZxtrDSbwN7QX"
      }
    },
    {
      "cell_type": "markdown",
      "source": [
        "Переглянемо підсумок датасету"
      ],
      "metadata": {
        "id": "ygHlplCqba6J"
      }
    },
    {
      "cell_type": "code",
      "source": [
        "df.describe()"
      ],
      "metadata": {
        "colab": {
          "base_uri": "https://localhost:8080/",
          "height": 300
        },
        "id": "ZnOB_QW0dpl-",
        "outputId": "01e4a2ec-35c6-4990-c1f7-7a5f08387e10"
      },
      "execution_count": 4,
      "outputs": [
        {
          "output_type": "execute_result",
          "data": {
            "text/plain": [
              "       Temperature    Dew Point     Pressure  Precip.  Precip Accum\n",
              "count  1368.000000  1380.000000  1380.000000   1380.0        1188.0\n",
              "mean     81.912281    58.879710    29.515362      0.0           0.0\n",
              "std       6.237407     5.730472     0.096247      0.0           0.0\n",
              "min      64.000000    41.000000    29.300000      0.0           0.0\n",
              "25%      77.000000    55.000000    29.400000      0.0           0.0\n",
              "50%      82.000000    59.000000    29.500000      0.0           0.0\n",
              "75%      86.000000    64.000000    29.600000      0.0           0.0\n",
              "max     100.000000    70.000000    29.700000      0.0           0.0"
            ],
            "text/html": [
              "\n",
              "  <div id=\"df-db4664fd-5738-499f-bdb7-b7e2ea4350d9\">\n",
              "    <div class=\"colab-df-container\">\n",
              "      <div>\n",
              "<style scoped>\n",
              "    .dataframe tbody tr th:only-of-type {\n",
              "        vertical-align: middle;\n",
              "    }\n",
              "\n",
              "    .dataframe tbody tr th {\n",
              "        vertical-align: top;\n",
              "    }\n",
              "\n",
              "    .dataframe thead th {\n",
              "        text-align: right;\n",
              "    }\n",
              "</style>\n",
              "<table border=\"1\" class=\"dataframe\">\n",
              "  <thead>\n",
              "    <tr style=\"text-align: right;\">\n",
              "      <th></th>\n",
              "      <th>Temperature</th>\n",
              "      <th>Dew Point</th>\n",
              "      <th>Pressure</th>\n",
              "      <th>Precip.</th>\n",
              "      <th>Precip Accum</th>\n",
              "    </tr>\n",
              "  </thead>\n",
              "  <tbody>\n",
              "    <tr>\n",
              "      <th>count</th>\n",
              "      <td>1368.000000</td>\n",
              "      <td>1380.000000</td>\n",
              "      <td>1380.000000</td>\n",
              "      <td>1380.0</td>\n",
              "      <td>1188.0</td>\n",
              "    </tr>\n",
              "    <tr>\n",
              "      <th>mean</th>\n",
              "      <td>81.912281</td>\n",
              "      <td>58.879710</td>\n",
              "      <td>29.515362</td>\n",
              "      <td>0.0</td>\n",
              "      <td>0.0</td>\n",
              "    </tr>\n",
              "    <tr>\n",
              "      <th>std</th>\n",
              "      <td>6.237407</td>\n",
              "      <td>5.730472</td>\n",
              "      <td>0.096247</td>\n",
              "      <td>0.0</td>\n",
              "      <td>0.0</td>\n",
              "    </tr>\n",
              "    <tr>\n",
              "      <th>min</th>\n",
              "      <td>64.000000</td>\n",
              "      <td>41.000000</td>\n",
              "      <td>29.300000</td>\n",
              "      <td>0.0</td>\n",
              "      <td>0.0</td>\n",
              "    </tr>\n",
              "    <tr>\n",
              "      <th>25%</th>\n",
              "      <td>77.000000</td>\n",
              "      <td>55.000000</td>\n",
              "      <td>29.400000</td>\n",
              "      <td>0.0</td>\n",
              "      <td>0.0</td>\n",
              "    </tr>\n",
              "    <tr>\n",
              "      <th>50%</th>\n",
              "      <td>82.000000</td>\n",
              "      <td>59.000000</td>\n",
              "      <td>29.500000</td>\n",
              "      <td>0.0</td>\n",
              "      <td>0.0</td>\n",
              "    </tr>\n",
              "    <tr>\n",
              "      <th>75%</th>\n",
              "      <td>86.000000</td>\n",
              "      <td>64.000000</td>\n",
              "      <td>29.600000</td>\n",
              "      <td>0.0</td>\n",
              "      <td>0.0</td>\n",
              "    </tr>\n",
              "    <tr>\n",
              "      <th>max</th>\n",
              "      <td>100.000000</td>\n",
              "      <td>70.000000</td>\n",
              "      <td>29.700000</td>\n",
              "      <td>0.0</td>\n",
              "      <td>0.0</td>\n",
              "    </tr>\n",
              "  </tbody>\n",
              "</table>\n",
              "</div>\n",
              "      <button class=\"colab-df-convert\" onclick=\"convertToInteractive('df-db4664fd-5738-499f-bdb7-b7e2ea4350d9')\"\n",
              "              title=\"Convert this dataframe to an interactive table.\"\n",
              "              style=\"display:none;\">\n",
              "        \n",
              "  <svg xmlns=\"http://www.w3.org/2000/svg\" height=\"24px\"viewBox=\"0 0 24 24\"\n",
              "       width=\"24px\">\n",
              "    <path d=\"M0 0h24v24H0V0z\" fill=\"none\"/>\n",
              "    <path d=\"M18.56 5.44l.94 2.06.94-2.06 2.06-.94-2.06-.94-.94-2.06-.94 2.06-2.06.94zm-11 1L8.5 8.5l.94-2.06 2.06-.94-2.06-.94L8.5 2.5l-.94 2.06-2.06.94zm10 10l.94 2.06.94-2.06 2.06-.94-2.06-.94-.94-2.06-.94 2.06-2.06.94z\"/><path d=\"M17.41 7.96l-1.37-1.37c-.4-.4-.92-.59-1.43-.59-.52 0-1.04.2-1.43.59L10.3 9.45l-7.72 7.72c-.78.78-.78 2.05 0 2.83L4 21.41c.39.39.9.59 1.41.59.51 0 1.02-.2 1.41-.59l7.78-7.78 2.81-2.81c.8-.78.8-2.07 0-2.86zM5.41 20L4 18.59l7.72-7.72 1.47 1.35L5.41 20z\"/>\n",
              "  </svg>\n",
              "      </button>\n",
              "      \n",
              "  <style>\n",
              "    .colab-df-container {\n",
              "      display:flex;\n",
              "      flex-wrap:wrap;\n",
              "      gap: 12px;\n",
              "    }\n",
              "\n",
              "    .colab-df-convert {\n",
              "      background-color: #E8F0FE;\n",
              "      border: none;\n",
              "      border-radius: 50%;\n",
              "      cursor: pointer;\n",
              "      display: none;\n",
              "      fill: #1967D2;\n",
              "      height: 32px;\n",
              "      padding: 0 0 0 0;\n",
              "      width: 32px;\n",
              "    }\n",
              "\n",
              "    .colab-df-convert:hover {\n",
              "      background-color: #E2EBFA;\n",
              "      box-shadow: 0px 1px 2px rgba(60, 64, 67, 0.3), 0px 1px 3px 1px rgba(60, 64, 67, 0.15);\n",
              "      fill: #174EA6;\n",
              "    }\n",
              "\n",
              "    [theme=dark] .colab-df-convert {\n",
              "      background-color: #3B4455;\n",
              "      fill: #D2E3FC;\n",
              "    }\n",
              "\n",
              "    [theme=dark] .colab-df-convert:hover {\n",
              "      background-color: #434B5C;\n",
              "      box-shadow: 0px 1px 3px 1px rgba(0, 0, 0, 0.15);\n",
              "      filter: drop-shadow(0px 1px 2px rgba(0, 0, 0, 0.3));\n",
              "      fill: #FFFFFF;\n",
              "    }\n",
              "  </style>\n",
              "\n",
              "      <script>\n",
              "        const buttonEl =\n",
              "          document.querySelector('#df-db4664fd-5738-499f-bdb7-b7e2ea4350d9 button.colab-df-convert');\n",
              "        buttonEl.style.display =\n",
              "          google.colab.kernel.accessAllowed ? 'block' : 'none';\n",
              "\n",
              "        async function convertToInteractive(key) {\n",
              "          const element = document.querySelector('#df-db4664fd-5738-499f-bdb7-b7e2ea4350d9');\n",
              "          const dataTable =\n",
              "            await google.colab.kernel.invokeFunction('convertToInteractive',\n",
              "                                                     [key], {});\n",
              "          if (!dataTable) return;\n",
              "\n",
              "          const docLinkHtml = 'Like what you see? Visit the ' +\n",
              "            '<a target=\"_blank\" href=https://colab.research.google.com/notebooks/data_table.ipynb>data table notebook</a>'\n",
              "            + ' to learn more about interactive tables.';\n",
              "          element.innerHTML = '';\n",
              "          dataTable['output_type'] = 'display_data';\n",
              "          await google.colab.output.renderOutput(dataTable, element);\n",
              "          const docLink = document.createElement('div');\n",
              "          docLink.innerHTML = docLinkHtml;\n",
              "          element.appendChild(docLink);\n",
              "        }\n",
              "      </script>\n",
              "    </div>\n",
              "  </div>\n",
              "  "
            ]
          },
          "metadata": {},
          "execution_count": 4
        }
      ]
    },
    {
      "cell_type": "markdown",
      "source": [
        "перевіряємо на наявність Nan значень\n"
      ],
      "metadata": {
        "id": "i9eg-OPSUYM2"
      }
    },
    {
      "cell_type": "code",
      "source": [
        "df.isna().sum()"
      ],
      "metadata": {
        "colab": {
          "base_uri": "https://localhost:8080/"
        },
        "id": "U9eNKRqoNAnu",
        "outputId": "e85dfca4-2060-4d4f-a3b6-798fda9f96e7"
      },
      "execution_count": 5,
      "outputs": [
        {
          "output_type": "execute_result",
          "data": {
            "text/plain": [
              "day/month         0\n",
              "Time              0\n",
              "Temperature      12\n",
              "Dew Point         0\n",
              "Humidity          0\n",
              "Wind              0\n",
              "Wind Speed        0\n",
              "Wind Gust         0\n",
              "Pressure          0\n",
              "Precip.           0\n",
              "Precip Accum    192\n",
              "Condition         0\n",
              "dtype: int64"
            ]
          },
          "metadata": {},
          "execution_count": 5
        }
      ]
    },
    {
      "cell_type": "code",
      "source": [
        "df.dtypes"
      ],
      "metadata": {
        "colab": {
          "base_uri": "https://localhost:8080/"
        },
        "id": "QhmafoRnetJX",
        "outputId": "5f16fb87-36a0-4f75-a413-0f12392f4172"
      },
      "execution_count": 6,
      "outputs": [
        {
          "output_type": "execute_result",
          "data": {
            "text/plain": [
              "day/month        object\n",
              "Time             object\n",
              "Temperature     float64\n",
              "Dew Point         int64\n",
              "Humidity         object\n",
              "Wind             object\n",
              "Wind Speed       object\n",
              "Wind Gust        object\n",
              "Pressure        float64\n",
              "Precip.           int64\n",
              "Precip Accum    float64\n",
              "Condition        object\n",
              "dtype: object"
            ]
          },
          "metadata": {},
          "execution_count": 6
        }
      ]
    },
    {
      "cell_type": "markdown",
      "source": [
        "Nanʼи є в 2 колонках з температурою та накопиченої вологою. \n",
        "В колонці з температурою замінимо пропущені значення на середню температуру до і після замірів, тобто пів години до і пів години після"
      ],
      "metadata": {
        "id": "nozlYUNaUcL4"
      }
    },
    {
      "cell_type": "code",
      "source": [
        "for i in range(df.shape[0]):\n",
        "  if isnan(df['Temperature'][i]):\n",
        "    if i == 0:\n",
        "      df['Temperature'][i] = df['Temperature'][i+1]\n",
        "    elif i == df.shape[0]-1:\n",
        "      df['Temperature'][i] = df['Temperature'][i-1]\n",
        "    else:\n",
        "      df['Temperature'][i] = (df['Temperature'][i-1] + df['Temperature'][i+1])/2\n",
        "\n"
      ],
      "metadata": {
        "colab": {
          "base_uri": "https://localhost:8080/"
        },
        "id": "24YZM5YrUCSU",
        "outputId": "f15a3c5d-0d59-41d3-d5c6-23426e1afbe2"
      },
      "execution_count": 7,
      "outputs": [
        {
          "output_type": "stream",
          "name": "stderr",
          "text": [
            "/usr/local/lib/python3.7/dist-packages/ipykernel_launcher.py:8: SettingWithCopyWarning: \n",
            "A value is trying to be set on a copy of a slice from a DataFrame\n",
            "\n",
            "See the caveats in the documentation: https://pandas.pydata.org/pandas-docs/stable/user_guide/indexing.html#returning-a-view-versus-a-copy\n",
            "  \n"
          ]
        }
      ]
    },
    {
      "cell_type": "markdown",
      "source": [
        "Перевіряємо чи залишились пусті значення"
      ],
      "metadata": {
        "id": "WGkFjRmGa5TH"
      }
    },
    {
      "cell_type": "code",
      "source": [
        "df['Temperature'].isna().sum()"
      ],
      "metadata": {
        "colab": {
          "base_uri": "https://localhost:8080/"
        },
        "id": "ZGEEghluadwY",
        "outputId": "4d2b60f8-444c-4442-a226-e842f6ff1c64"
      },
      "execution_count": 8,
      "outputs": [
        {
          "output_type": "execute_result",
          "data": {
            "text/plain": [
              "0"
            ]
          },
          "metadata": {},
          "execution_count": 8
        }
      ]
    },
    {
      "cell_type": "markdown",
      "source": [
        "З опису датафрейму бачимо, що в стовпці \"Precip Accum\" лише нулі.\n",
        "Тому усі пусті значення можемо також замунити на 0\n"
      ],
      "metadata": {
        "id": "PYXcaROibBwf"
      }
    },
    {
      "cell_type": "code",
      "source": [
        "df['Precip Accum'] = df['Precip Accum'].fillna(0)"
      ],
      "metadata": {
        "id": "woSRzKYpbBZF"
      },
      "execution_count": 9,
      "outputs": []
    },
    {
      "cell_type": "code",
      "source": [
        "df.isna().sum()"
      ],
      "metadata": {
        "colab": {
          "base_uri": "https://localhost:8080/"
        },
        "id": "PrcEC9-Jckl9",
        "outputId": "d4d6015d-cfb3-49f6-fb19-74529206000c"
      },
      "execution_count": 10,
      "outputs": [
        {
          "output_type": "execute_result",
          "data": {
            "text/plain": [
              "day/month       0\n",
              "Time            0\n",
              "Temperature     0\n",
              "Dew Point       0\n",
              "Humidity        0\n",
              "Wind            0\n",
              "Wind Speed      0\n",
              "Wind Gust       0\n",
              "Pressure        0\n",
              "Precip.         0\n",
              "Precip Accum    0\n",
              "Condition       0\n",
              "dtype: int64"
            ]
          },
          "metadata": {},
          "execution_count": 10
        }
      ]
    },
    {
      "cell_type": "markdown",
      "source": [
        "Перейменовуємо колонку день і місяць на повну дату\n"
      ],
      "metadata": {
        "id": "rH8s5mzictBO"
      }
    },
    {
      "cell_type": "code",
      "source": [
        "df = df.rename(columns={\"day/month\": \"Date\"})"
      ],
      "metadata": {
        "id": "vpOtRke7N6ss"
      },
      "execution_count": 11,
      "outputs": []
    },
    {
      "cell_type": "markdown",
      "source": [
        "Перетворюємо усі одиниці вимірбвання в більш звичні для нас:\n",
        "*   Додамо до дати ще й рік\n",
        "*   Час перетворимо в формат год:хв\n",
        "\n"
      ],
      "metadata": {
        "id": "K0fygoeec1Y2"
      }
    },
    {
      "cell_type": "code",
      "source": [
        "df['Date'] = pd.to_datetime(df[\"Date\"] + \".2019\")\n",
        "df['Time'] = pd.to_datetime(df['Time']).dt.strftime('%H:%M')"
      ],
      "metadata": {
        "id": "9E4YmkIieSPz"
      },
      "execution_count": 12,
      "outputs": []
    },
    {
      "cell_type": "markdown",
      "source": [
        "Усі можливі значення перетворимо в числові (швидкість вітру та вологість)"
      ],
      "metadata": {
        "id": "AdlMXxpCeW2S"
      }
    },
    {
      "cell_type": "code",
      "execution_count": 13,
      "outputs": [
        {
          "output_type": "execute_result",
          "data": {
            "text/plain": [
              "           Date   Time  Temperature  Dew Point  Humidity  Wind  Wind Speed  \\\n",
              "0    2019-07-16  00:20         72.0         57        60   VAR           1   \n",
              "1    2019-07-16  00:50         73.0         57        57     W           3   \n",
              "2    2019-07-16  01:20         75.0         57        53  CALM           0   \n",
              "3    2019-07-16  01:50         72.0         57        60  CALM           0   \n",
              "4    2019-07-16  02:20         72.0         57        60  CALM           0   \n",
              "...         ...    ...          ...        ...       ...   ...         ...   \n",
              "1375 2019-08-13  21:50         77.0         50        39   VAR           2   \n",
              "1376 2019-08-13  22:20         77.0         48        36   VAR           1   \n",
              "1377 2019-08-13  22:50         73.0         50        44     N          13   \n",
              "1378 2019-08-13  23:20         73.0         50        44     N           7   \n",
              "1379 2019-08-13  23:50         73.0         50        44   NNW           6   \n",
              "\n",
              "      Wind Gust  Pressure  Precip.  Precip Accum Condition  \n",
              "0             0      29.6        0           0.0      Fair  \n",
              "1             0      29.6        0           0.0      Fair  \n",
              "2             0      29.6        0           0.0      Fair  \n",
              "3             0      29.6        0           0.0      Fair  \n",
              "4             0      29.5        0           0.0      Fair  \n",
              "...         ...       ...      ...           ...       ...  \n",
              "1375          0      29.6        0           0.0      Fair  \n",
              "1376          0      29.6        0           0.0      Fair  \n",
              "1377          0      29.6        0           0.0      Fair  \n",
              "1378          0      29.6        0           0.0      Fair  \n",
              "1379          0      29.6        0           0.0      Fair  \n",
              "\n",
              "[1380 rows x 12 columns]"
            ],
            "text/html": [
              "\n",
              "  <div id=\"df-d862ce65-a471-4ac2-85d4-beda7c7a1b7b\">\n",
              "    <div class=\"colab-df-container\">\n",
              "      <div>\n",
              "<style scoped>\n",
              "    .dataframe tbody tr th:only-of-type {\n",
              "        vertical-align: middle;\n",
              "    }\n",
              "\n",
              "    .dataframe tbody tr th {\n",
              "        vertical-align: top;\n",
              "    }\n",
              "\n",
              "    .dataframe thead th {\n",
              "        text-align: right;\n",
              "    }\n",
              "</style>\n",
              "<table border=\"1\" class=\"dataframe\">\n",
              "  <thead>\n",
              "    <tr style=\"text-align: right;\">\n",
              "      <th></th>\n",
              "      <th>Date</th>\n",
              "      <th>Time</th>\n",
              "      <th>Temperature</th>\n",
              "      <th>Dew Point</th>\n",
              "      <th>Humidity</th>\n",
              "      <th>Wind</th>\n",
              "      <th>Wind Speed</th>\n",
              "      <th>Wind Gust</th>\n",
              "      <th>Pressure</th>\n",
              "      <th>Precip.</th>\n",
              "      <th>Precip Accum</th>\n",
              "      <th>Condition</th>\n",
              "    </tr>\n",
              "  </thead>\n",
              "  <tbody>\n",
              "    <tr>\n",
              "      <th>0</th>\n",
              "      <td>2019-07-16</td>\n",
              "      <td>00:20</td>\n",
              "      <td>72.0</td>\n",
              "      <td>57</td>\n",
              "      <td>60</td>\n",
              "      <td>VAR</td>\n",
              "      <td>1</td>\n",
              "      <td>0</td>\n",
              "      <td>29.6</td>\n",
              "      <td>0</td>\n",
              "      <td>0.0</td>\n",
              "      <td>Fair</td>\n",
              "    </tr>\n",
              "    <tr>\n",
              "      <th>1</th>\n",
              "      <td>2019-07-16</td>\n",
              "      <td>00:50</td>\n",
              "      <td>73.0</td>\n",
              "      <td>57</td>\n",
              "      <td>57</td>\n",
              "      <td>W</td>\n",
              "      <td>3</td>\n",
              "      <td>0</td>\n",
              "      <td>29.6</td>\n",
              "      <td>0</td>\n",
              "      <td>0.0</td>\n",
              "      <td>Fair</td>\n",
              "    </tr>\n",
              "    <tr>\n",
              "      <th>2</th>\n",
              "      <td>2019-07-16</td>\n",
              "      <td>01:20</td>\n",
              "      <td>75.0</td>\n",
              "      <td>57</td>\n",
              "      <td>53</td>\n",
              "      <td>CALM</td>\n",
              "      <td>0</td>\n",
              "      <td>0</td>\n",
              "      <td>29.6</td>\n",
              "      <td>0</td>\n",
              "      <td>0.0</td>\n",
              "      <td>Fair</td>\n",
              "    </tr>\n",
              "    <tr>\n",
              "      <th>3</th>\n",
              "      <td>2019-07-16</td>\n",
              "      <td>01:50</td>\n",
              "      <td>72.0</td>\n",
              "      <td>57</td>\n",
              "      <td>60</td>\n",
              "      <td>CALM</td>\n",
              "      <td>0</td>\n",
              "      <td>0</td>\n",
              "      <td>29.6</td>\n",
              "      <td>0</td>\n",
              "      <td>0.0</td>\n",
              "      <td>Fair</td>\n",
              "    </tr>\n",
              "    <tr>\n",
              "      <th>4</th>\n",
              "      <td>2019-07-16</td>\n",
              "      <td>02:20</td>\n",
              "      <td>72.0</td>\n",
              "      <td>57</td>\n",
              "      <td>60</td>\n",
              "      <td>CALM</td>\n",
              "      <td>0</td>\n",
              "      <td>0</td>\n",
              "      <td>29.5</td>\n",
              "      <td>0</td>\n",
              "      <td>0.0</td>\n",
              "      <td>Fair</td>\n",
              "    </tr>\n",
              "    <tr>\n",
              "      <th>...</th>\n",
              "      <td>...</td>\n",
              "      <td>...</td>\n",
              "      <td>...</td>\n",
              "      <td>...</td>\n",
              "      <td>...</td>\n",
              "      <td>...</td>\n",
              "      <td>...</td>\n",
              "      <td>...</td>\n",
              "      <td>...</td>\n",
              "      <td>...</td>\n",
              "      <td>...</td>\n",
              "      <td>...</td>\n",
              "    </tr>\n",
              "    <tr>\n",
              "      <th>1375</th>\n",
              "      <td>2019-08-13</td>\n",
              "      <td>21:50</td>\n",
              "      <td>77.0</td>\n",
              "      <td>50</td>\n",
              "      <td>39</td>\n",
              "      <td>VAR</td>\n",
              "      <td>2</td>\n",
              "      <td>0</td>\n",
              "      <td>29.6</td>\n",
              "      <td>0</td>\n",
              "      <td>0.0</td>\n",
              "      <td>Fair</td>\n",
              "    </tr>\n",
              "    <tr>\n",
              "      <th>1376</th>\n",
              "      <td>2019-08-13</td>\n",
              "      <td>22:20</td>\n",
              "      <td>77.0</td>\n",
              "      <td>48</td>\n",
              "      <td>36</td>\n",
              "      <td>VAR</td>\n",
              "      <td>1</td>\n",
              "      <td>0</td>\n",
              "      <td>29.6</td>\n",
              "      <td>0</td>\n",
              "      <td>0.0</td>\n",
              "      <td>Fair</td>\n",
              "    </tr>\n",
              "    <tr>\n",
              "      <th>1377</th>\n",
              "      <td>2019-08-13</td>\n",
              "      <td>22:50</td>\n",
              "      <td>73.0</td>\n",
              "      <td>50</td>\n",
              "      <td>44</td>\n",
              "      <td>N</td>\n",
              "      <td>13</td>\n",
              "      <td>0</td>\n",
              "      <td>29.6</td>\n",
              "      <td>0</td>\n",
              "      <td>0.0</td>\n",
              "      <td>Fair</td>\n",
              "    </tr>\n",
              "    <tr>\n",
              "      <th>1378</th>\n",
              "      <td>2019-08-13</td>\n",
              "      <td>23:20</td>\n",
              "      <td>73.0</td>\n",
              "      <td>50</td>\n",
              "      <td>44</td>\n",
              "      <td>N</td>\n",
              "      <td>7</td>\n",
              "      <td>0</td>\n",
              "      <td>29.6</td>\n",
              "      <td>0</td>\n",
              "      <td>0.0</td>\n",
              "      <td>Fair</td>\n",
              "    </tr>\n",
              "    <tr>\n",
              "      <th>1379</th>\n",
              "      <td>2019-08-13</td>\n",
              "      <td>23:50</td>\n",
              "      <td>73.0</td>\n",
              "      <td>50</td>\n",
              "      <td>44</td>\n",
              "      <td>NNW</td>\n",
              "      <td>6</td>\n",
              "      <td>0</td>\n",
              "      <td>29.6</td>\n",
              "      <td>0</td>\n",
              "      <td>0.0</td>\n",
              "      <td>Fair</td>\n",
              "    </tr>\n",
              "  </tbody>\n",
              "</table>\n",
              "<p>1380 rows × 12 columns</p>\n",
              "</div>\n",
              "      <button class=\"colab-df-convert\" onclick=\"convertToInteractive('df-d862ce65-a471-4ac2-85d4-beda7c7a1b7b')\"\n",
              "              title=\"Convert this dataframe to an interactive table.\"\n",
              "              style=\"display:none;\">\n",
              "        \n",
              "  <svg xmlns=\"http://www.w3.org/2000/svg\" height=\"24px\"viewBox=\"0 0 24 24\"\n",
              "       width=\"24px\">\n",
              "    <path d=\"M0 0h24v24H0V0z\" fill=\"none\"/>\n",
              "    <path d=\"M18.56 5.44l.94 2.06.94-2.06 2.06-.94-2.06-.94-.94-2.06-.94 2.06-2.06.94zm-11 1L8.5 8.5l.94-2.06 2.06-.94-2.06-.94L8.5 2.5l-.94 2.06-2.06.94zm10 10l.94 2.06.94-2.06 2.06-.94-2.06-.94-.94-2.06-.94 2.06-2.06.94z\"/><path d=\"M17.41 7.96l-1.37-1.37c-.4-.4-.92-.59-1.43-.59-.52 0-1.04.2-1.43.59L10.3 9.45l-7.72 7.72c-.78.78-.78 2.05 0 2.83L4 21.41c.39.39.9.59 1.41.59.51 0 1.02-.2 1.41-.59l7.78-7.78 2.81-2.81c.8-.78.8-2.07 0-2.86zM5.41 20L4 18.59l7.72-7.72 1.47 1.35L5.41 20z\"/>\n",
              "  </svg>\n",
              "      </button>\n",
              "      \n",
              "  <style>\n",
              "    .colab-df-container {\n",
              "      display:flex;\n",
              "      flex-wrap:wrap;\n",
              "      gap: 12px;\n",
              "    }\n",
              "\n",
              "    .colab-df-convert {\n",
              "      background-color: #E8F0FE;\n",
              "      border: none;\n",
              "      border-radius: 50%;\n",
              "      cursor: pointer;\n",
              "      display: none;\n",
              "      fill: #1967D2;\n",
              "      height: 32px;\n",
              "      padding: 0 0 0 0;\n",
              "      width: 32px;\n",
              "    }\n",
              "\n",
              "    .colab-df-convert:hover {\n",
              "      background-color: #E2EBFA;\n",
              "      box-shadow: 0px 1px 2px rgba(60, 64, 67, 0.3), 0px 1px 3px 1px rgba(60, 64, 67, 0.15);\n",
              "      fill: #174EA6;\n",
              "    }\n",
              "\n",
              "    [theme=dark] .colab-df-convert {\n",
              "      background-color: #3B4455;\n",
              "      fill: #D2E3FC;\n",
              "    }\n",
              "\n",
              "    [theme=dark] .colab-df-convert:hover {\n",
              "      background-color: #434B5C;\n",
              "      box-shadow: 0px 1px 3px 1px rgba(0, 0, 0, 0.15);\n",
              "      filter: drop-shadow(0px 1px 2px rgba(0, 0, 0, 0.3));\n",
              "      fill: #FFFFFF;\n",
              "    }\n",
              "  </style>\n",
              "\n",
              "      <script>\n",
              "        const buttonEl =\n",
              "          document.querySelector('#df-d862ce65-a471-4ac2-85d4-beda7c7a1b7b button.colab-df-convert');\n",
              "        buttonEl.style.display =\n",
              "          google.colab.kernel.accessAllowed ? 'block' : 'none';\n",
              "\n",
              "        async function convertToInteractive(key) {\n",
              "          const element = document.querySelector('#df-d862ce65-a471-4ac2-85d4-beda7c7a1b7b');\n",
              "          const dataTable =\n",
              "            await google.colab.kernel.invokeFunction('convertToInteractive',\n",
              "                                                     [key], {});\n",
              "          if (!dataTable) return;\n",
              "\n",
              "          const docLinkHtml = 'Like what you see? Visit the ' +\n",
              "            '<a target=\"_blank\" href=https://colab.research.google.com/notebooks/data_table.ipynb>data table notebook</a>'\n",
              "            + ' to learn more about interactive tables.';\n",
              "          element.innerHTML = '';\n",
              "          dataTable['output_type'] = 'display_data';\n",
              "          await google.colab.output.renderOutput(dataTable, element);\n",
              "          const docLink = document.createElement('div');\n",
              "          docLink.innerHTML = docLinkHtml;\n",
              "          element.appendChild(docLink);\n",
              "        }\n",
              "      </script>\n",
              "    </div>\n",
              "  </div>\n",
              "  "
            ]
          },
          "metadata": {},
          "execution_count": 13
        }
      ],
      "source": [
        "colums = ['Wind Speed', 'Wind Gust','Humidity']\n",
        "for c in colums:\n",
        "  df[c] = df[c].map(lambda x: x.strip(' mph%'))\n",
        "  df[c] = df[c].astype(int)\n",
        "df\n"
      ],
      "metadata": {
        "pycharm": {
          "name": "#%%\n"
        },
        "colab": {
          "base_uri": "https://localhost:8080/",
          "height": 424
        },
        "id": "8HZIX1GKJOny",
        "outputId": "c93e5b4c-511d-4afb-eaa0-1888092ab0a7"
      }
    },
    {
      "cell_type": "markdown",
      "source": [
        "Для подальшої візуалізації перетворюємо дату в індекс"
      ],
      "metadata": {
        "id": "zGsSDrL_fJES"
      }
    },
    {
      "cell_type": "code",
      "source": [
        "df.set_index('Date')"
      ],
      "metadata": {
        "colab": {
          "base_uri": "https://localhost:8080/",
          "height": 455
        },
        "id": "MjY1XP50fR_r",
        "outputId": "02320a2f-ca27-45be-e4c4-f9676b7e4837"
      },
      "execution_count": 14,
      "outputs": [
        {
          "output_type": "execute_result",
          "data": {
            "text/plain": [
              "             Time  Temperature  Dew Point  Humidity  Wind  Wind Speed  \\\n",
              "Date                                                                    \n",
              "2019-07-16  00:20         72.0         57        60   VAR           1   \n",
              "2019-07-16  00:50         73.0         57        57     W           3   \n",
              "2019-07-16  01:20         75.0         57        53  CALM           0   \n",
              "2019-07-16  01:50         72.0         57        60  CALM           0   \n",
              "2019-07-16  02:20         72.0         57        60  CALM           0   \n",
              "...           ...          ...        ...       ...   ...         ...   \n",
              "2019-08-13  21:50         77.0         50        39   VAR           2   \n",
              "2019-08-13  22:20         77.0         48        36   VAR           1   \n",
              "2019-08-13  22:50         73.0         50        44     N          13   \n",
              "2019-08-13  23:20         73.0         50        44     N           7   \n",
              "2019-08-13  23:50         73.0         50        44   NNW           6   \n",
              "\n",
              "            Wind Gust  Pressure  Precip.  Precip Accum Condition  \n",
              "Date                                                              \n",
              "2019-07-16          0      29.6        0           0.0      Fair  \n",
              "2019-07-16          0      29.6        0           0.0      Fair  \n",
              "2019-07-16          0      29.6        0           0.0      Fair  \n",
              "2019-07-16          0      29.6        0           0.0      Fair  \n",
              "2019-07-16          0      29.5        0           0.0      Fair  \n",
              "...               ...       ...      ...           ...       ...  \n",
              "2019-08-13          0      29.6        0           0.0      Fair  \n",
              "2019-08-13          0      29.6        0           0.0      Fair  \n",
              "2019-08-13          0      29.6        0           0.0      Fair  \n",
              "2019-08-13          0      29.6        0           0.0      Fair  \n",
              "2019-08-13          0      29.6        0           0.0      Fair  \n",
              "\n",
              "[1380 rows x 11 columns]"
            ],
            "text/html": [
              "\n",
              "  <div id=\"df-15936354-0537-45f2-8a84-413bcd4494ca\">\n",
              "    <div class=\"colab-df-container\">\n",
              "      <div>\n",
              "<style scoped>\n",
              "    .dataframe tbody tr th:only-of-type {\n",
              "        vertical-align: middle;\n",
              "    }\n",
              "\n",
              "    .dataframe tbody tr th {\n",
              "        vertical-align: top;\n",
              "    }\n",
              "\n",
              "    .dataframe thead th {\n",
              "        text-align: right;\n",
              "    }\n",
              "</style>\n",
              "<table border=\"1\" class=\"dataframe\">\n",
              "  <thead>\n",
              "    <tr style=\"text-align: right;\">\n",
              "      <th></th>\n",
              "      <th>Time</th>\n",
              "      <th>Temperature</th>\n",
              "      <th>Dew Point</th>\n",
              "      <th>Humidity</th>\n",
              "      <th>Wind</th>\n",
              "      <th>Wind Speed</th>\n",
              "      <th>Wind Gust</th>\n",
              "      <th>Pressure</th>\n",
              "      <th>Precip.</th>\n",
              "      <th>Precip Accum</th>\n",
              "      <th>Condition</th>\n",
              "    </tr>\n",
              "    <tr>\n",
              "      <th>Date</th>\n",
              "      <th></th>\n",
              "      <th></th>\n",
              "      <th></th>\n",
              "      <th></th>\n",
              "      <th></th>\n",
              "      <th></th>\n",
              "      <th></th>\n",
              "      <th></th>\n",
              "      <th></th>\n",
              "      <th></th>\n",
              "      <th></th>\n",
              "    </tr>\n",
              "  </thead>\n",
              "  <tbody>\n",
              "    <tr>\n",
              "      <th>2019-07-16</th>\n",
              "      <td>00:20</td>\n",
              "      <td>72.0</td>\n",
              "      <td>57</td>\n",
              "      <td>60</td>\n",
              "      <td>VAR</td>\n",
              "      <td>1</td>\n",
              "      <td>0</td>\n",
              "      <td>29.6</td>\n",
              "      <td>0</td>\n",
              "      <td>0.0</td>\n",
              "      <td>Fair</td>\n",
              "    </tr>\n",
              "    <tr>\n",
              "      <th>2019-07-16</th>\n",
              "      <td>00:50</td>\n",
              "      <td>73.0</td>\n",
              "      <td>57</td>\n",
              "      <td>57</td>\n",
              "      <td>W</td>\n",
              "      <td>3</td>\n",
              "      <td>0</td>\n",
              "      <td>29.6</td>\n",
              "      <td>0</td>\n",
              "      <td>0.0</td>\n",
              "      <td>Fair</td>\n",
              "    </tr>\n",
              "    <tr>\n",
              "      <th>2019-07-16</th>\n",
              "      <td>01:20</td>\n",
              "      <td>75.0</td>\n",
              "      <td>57</td>\n",
              "      <td>53</td>\n",
              "      <td>CALM</td>\n",
              "      <td>0</td>\n",
              "      <td>0</td>\n",
              "      <td>29.6</td>\n",
              "      <td>0</td>\n",
              "      <td>0.0</td>\n",
              "      <td>Fair</td>\n",
              "    </tr>\n",
              "    <tr>\n",
              "      <th>2019-07-16</th>\n",
              "      <td>01:50</td>\n",
              "      <td>72.0</td>\n",
              "      <td>57</td>\n",
              "      <td>60</td>\n",
              "      <td>CALM</td>\n",
              "      <td>0</td>\n",
              "      <td>0</td>\n",
              "      <td>29.6</td>\n",
              "      <td>0</td>\n",
              "      <td>0.0</td>\n",
              "      <td>Fair</td>\n",
              "    </tr>\n",
              "    <tr>\n",
              "      <th>2019-07-16</th>\n",
              "      <td>02:20</td>\n",
              "      <td>72.0</td>\n",
              "      <td>57</td>\n",
              "      <td>60</td>\n",
              "      <td>CALM</td>\n",
              "      <td>0</td>\n",
              "      <td>0</td>\n",
              "      <td>29.5</td>\n",
              "      <td>0</td>\n",
              "      <td>0.0</td>\n",
              "      <td>Fair</td>\n",
              "    </tr>\n",
              "    <tr>\n",
              "      <th>...</th>\n",
              "      <td>...</td>\n",
              "      <td>...</td>\n",
              "      <td>...</td>\n",
              "      <td>...</td>\n",
              "      <td>...</td>\n",
              "      <td>...</td>\n",
              "      <td>...</td>\n",
              "      <td>...</td>\n",
              "      <td>...</td>\n",
              "      <td>...</td>\n",
              "      <td>...</td>\n",
              "    </tr>\n",
              "    <tr>\n",
              "      <th>2019-08-13</th>\n",
              "      <td>21:50</td>\n",
              "      <td>77.0</td>\n",
              "      <td>50</td>\n",
              "      <td>39</td>\n",
              "      <td>VAR</td>\n",
              "      <td>2</td>\n",
              "      <td>0</td>\n",
              "      <td>29.6</td>\n",
              "      <td>0</td>\n",
              "      <td>0.0</td>\n",
              "      <td>Fair</td>\n",
              "    </tr>\n",
              "    <tr>\n",
              "      <th>2019-08-13</th>\n",
              "      <td>22:20</td>\n",
              "      <td>77.0</td>\n",
              "      <td>48</td>\n",
              "      <td>36</td>\n",
              "      <td>VAR</td>\n",
              "      <td>1</td>\n",
              "      <td>0</td>\n",
              "      <td>29.6</td>\n",
              "      <td>0</td>\n",
              "      <td>0.0</td>\n",
              "      <td>Fair</td>\n",
              "    </tr>\n",
              "    <tr>\n",
              "      <th>2019-08-13</th>\n",
              "      <td>22:50</td>\n",
              "      <td>73.0</td>\n",
              "      <td>50</td>\n",
              "      <td>44</td>\n",
              "      <td>N</td>\n",
              "      <td>13</td>\n",
              "      <td>0</td>\n",
              "      <td>29.6</td>\n",
              "      <td>0</td>\n",
              "      <td>0.0</td>\n",
              "      <td>Fair</td>\n",
              "    </tr>\n",
              "    <tr>\n",
              "      <th>2019-08-13</th>\n",
              "      <td>23:20</td>\n",
              "      <td>73.0</td>\n",
              "      <td>50</td>\n",
              "      <td>44</td>\n",
              "      <td>N</td>\n",
              "      <td>7</td>\n",
              "      <td>0</td>\n",
              "      <td>29.6</td>\n",
              "      <td>0</td>\n",
              "      <td>0.0</td>\n",
              "      <td>Fair</td>\n",
              "    </tr>\n",
              "    <tr>\n",
              "      <th>2019-08-13</th>\n",
              "      <td>23:50</td>\n",
              "      <td>73.0</td>\n",
              "      <td>50</td>\n",
              "      <td>44</td>\n",
              "      <td>NNW</td>\n",
              "      <td>6</td>\n",
              "      <td>0</td>\n",
              "      <td>29.6</td>\n",
              "      <td>0</td>\n",
              "      <td>0.0</td>\n",
              "      <td>Fair</td>\n",
              "    </tr>\n",
              "  </tbody>\n",
              "</table>\n",
              "<p>1380 rows × 11 columns</p>\n",
              "</div>\n",
              "      <button class=\"colab-df-convert\" onclick=\"convertToInteractive('df-15936354-0537-45f2-8a84-413bcd4494ca')\"\n",
              "              title=\"Convert this dataframe to an interactive table.\"\n",
              "              style=\"display:none;\">\n",
              "        \n",
              "  <svg xmlns=\"http://www.w3.org/2000/svg\" height=\"24px\"viewBox=\"0 0 24 24\"\n",
              "       width=\"24px\">\n",
              "    <path d=\"M0 0h24v24H0V0z\" fill=\"none\"/>\n",
              "    <path d=\"M18.56 5.44l.94 2.06.94-2.06 2.06-.94-2.06-.94-.94-2.06-.94 2.06-2.06.94zm-11 1L8.5 8.5l.94-2.06 2.06-.94-2.06-.94L8.5 2.5l-.94 2.06-2.06.94zm10 10l.94 2.06.94-2.06 2.06-.94-2.06-.94-.94-2.06-.94 2.06-2.06.94z\"/><path d=\"M17.41 7.96l-1.37-1.37c-.4-.4-.92-.59-1.43-.59-.52 0-1.04.2-1.43.59L10.3 9.45l-7.72 7.72c-.78.78-.78 2.05 0 2.83L4 21.41c.39.39.9.59 1.41.59.51 0 1.02-.2 1.41-.59l7.78-7.78 2.81-2.81c.8-.78.8-2.07 0-2.86zM5.41 20L4 18.59l7.72-7.72 1.47 1.35L5.41 20z\"/>\n",
              "  </svg>\n",
              "      </button>\n",
              "      \n",
              "  <style>\n",
              "    .colab-df-container {\n",
              "      display:flex;\n",
              "      flex-wrap:wrap;\n",
              "      gap: 12px;\n",
              "    }\n",
              "\n",
              "    .colab-df-convert {\n",
              "      background-color: #E8F0FE;\n",
              "      border: none;\n",
              "      border-radius: 50%;\n",
              "      cursor: pointer;\n",
              "      display: none;\n",
              "      fill: #1967D2;\n",
              "      height: 32px;\n",
              "      padding: 0 0 0 0;\n",
              "      width: 32px;\n",
              "    }\n",
              "\n",
              "    .colab-df-convert:hover {\n",
              "      background-color: #E2EBFA;\n",
              "      box-shadow: 0px 1px 2px rgba(60, 64, 67, 0.3), 0px 1px 3px 1px rgba(60, 64, 67, 0.15);\n",
              "      fill: #174EA6;\n",
              "    }\n",
              "\n",
              "    [theme=dark] .colab-df-convert {\n",
              "      background-color: #3B4455;\n",
              "      fill: #D2E3FC;\n",
              "    }\n",
              "\n",
              "    [theme=dark] .colab-df-convert:hover {\n",
              "      background-color: #434B5C;\n",
              "      box-shadow: 0px 1px 3px 1px rgba(0, 0, 0, 0.15);\n",
              "      filter: drop-shadow(0px 1px 2px rgba(0, 0, 0, 0.3));\n",
              "      fill: #FFFFFF;\n",
              "    }\n",
              "  </style>\n",
              "\n",
              "      <script>\n",
              "        const buttonEl =\n",
              "          document.querySelector('#df-15936354-0537-45f2-8a84-413bcd4494ca button.colab-df-convert');\n",
              "        buttonEl.style.display =\n",
              "          google.colab.kernel.accessAllowed ? 'block' : 'none';\n",
              "\n",
              "        async function convertToInteractive(key) {\n",
              "          const element = document.querySelector('#df-15936354-0537-45f2-8a84-413bcd4494ca');\n",
              "          const dataTable =\n",
              "            await google.colab.kernel.invokeFunction('convertToInteractive',\n",
              "                                                     [key], {});\n",
              "          if (!dataTable) return;\n",
              "\n",
              "          const docLinkHtml = 'Like what you see? Visit the ' +\n",
              "            '<a target=\"_blank\" href=https://colab.research.google.com/notebooks/data_table.ipynb>data table notebook</a>'\n",
              "            + ' to learn more about interactive tables.';\n",
              "          element.innerHTML = '';\n",
              "          dataTable['output_type'] = 'display_data';\n",
              "          await google.colab.output.renderOutput(dataTable, element);\n",
              "          const docLink = document.createElement('div');\n",
              "          docLink.innerHTML = docLinkHtml;\n",
              "          element.appendChild(docLink);\n",
              "        }\n",
              "      </script>\n",
              "    </div>\n",
              "  </div>\n",
              "  "
            ]
          },
          "metadata": {},
          "execution_count": 14
        }
      ]
    },
    {
      "cell_type": "code",
      "source": [
        "df.describe()"
      ],
      "metadata": {
        "colab": {
          "base_uri": "https://localhost:8080/",
          "height": 300
        },
        "id": "lO0KinyjrKTL",
        "outputId": "5ccefcf2-2b79-44f2-ccfb-1ccb39522731"
      },
      "execution_count": 15,
      "outputs": [
        {
          "output_type": "execute_result",
          "data": {
            "text/plain": [
              "       Temperature    Dew Point     Humidity   Wind Speed    Wind Gust  \\\n",
              "count  1380.000000  1380.000000  1380.000000  1380.000000  1380.000000   \n",
              "mean     81.904710    58.879710    48.086232    10.133333     2.004348   \n",
              "std       6.250379     5.730472    15.832580     7.663115     8.349333   \n",
              "min      64.000000    41.000000    13.000000     0.000000     0.000000   \n",
              "25%      77.000000    55.000000    35.000000     3.000000     0.000000   \n",
              "50%      82.000000    59.000000    47.000000     9.000000     0.000000   \n",
              "75%      86.000000    64.000000    58.000000    15.000000     0.000000   \n",
              "max     100.000000    70.000000    88.000000    37.000000    55.000000   \n",
              "\n",
              "          Pressure  Precip.  Precip Accum  \n",
              "count  1380.000000   1380.0        1380.0  \n",
              "mean     29.515362      0.0           0.0  \n",
              "std       0.096247      0.0           0.0  \n",
              "min      29.300000      0.0           0.0  \n",
              "25%      29.400000      0.0           0.0  \n",
              "50%      29.500000      0.0           0.0  \n",
              "75%      29.600000      0.0           0.0  \n",
              "max      29.700000      0.0           0.0  "
            ],
            "text/html": [
              "\n",
              "  <div id=\"df-c237f509-9e4a-4de6-aec6-1792afea08ee\">\n",
              "    <div class=\"colab-df-container\">\n",
              "      <div>\n",
              "<style scoped>\n",
              "    .dataframe tbody tr th:only-of-type {\n",
              "        vertical-align: middle;\n",
              "    }\n",
              "\n",
              "    .dataframe tbody tr th {\n",
              "        vertical-align: top;\n",
              "    }\n",
              "\n",
              "    .dataframe thead th {\n",
              "        text-align: right;\n",
              "    }\n",
              "</style>\n",
              "<table border=\"1\" class=\"dataframe\">\n",
              "  <thead>\n",
              "    <tr style=\"text-align: right;\">\n",
              "      <th></th>\n",
              "      <th>Temperature</th>\n",
              "      <th>Dew Point</th>\n",
              "      <th>Humidity</th>\n",
              "      <th>Wind Speed</th>\n",
              "      <th>Wind Gust</th>\n",
              "      <th>Pressure</th>\n",
              "      <th>Precip.</th>\n",
              "      <th>Precip Accum</th>\n",
              "    </tr>\n",
              "  </thead>\n",
              "  <tbody>\n",
              "    <tr>\n",
              "      <th>count</th>\n",
              "      <td>1380.000000</td>\n",
              "      <td>1380.000000</td>\n",
              "      <td>1380.000000</td>\n",
              "      <td>1380.000000</td>\n",
              "      <td>1380.000000</td>\n",
              "      <td>1380.000000</td>\n",
              "      <td>1380.0</td>\n",
              "      <td>1380.0</td>\n",
              "    </tr>\n",
              "    <tr>\n",
              "      <th>mean</th>\n",
              "      <td>81.904710</td>\n",
              "      <td>58.879710</td>\n",
              "      <td>48.086232</td>\n",
              "      <td>10.133333</td>\n",
              "      <td>2.004348</td>\n",
              "      <td>29.515362</td>\n",
              "      <td>0.0</td>\n",
              "      <td>0.0</td>\n",
              "    </tr>\n",
              "    <tr>\n",
              "      <th>std</th>\n",
              "      <td>6.250379</td>\n",
              "      <td>5.730472</td>\n",
              "      <td>15.832580</td>\n",
              "      <td>7.663115</td>\n",
              "      <td>8.349333</td>\n",
              "      <td>0.096247</td>\n",
              "      <td>0.0</td>\n",
              "      <td>0.0</td>\n",
              "    </tr>\n",
              "    <tr>\n",
              "      <th>min</th>\n",
              "      <td>64.000000</td>\n",
              "      <td>41.000000</td>\n",
              "      <td>13.000000</td>\n",
              "      <td>0.000000</td>\n",
              "      <td>0.000000</td>\n",
              "      <td>29.300000</td>\n",
              "      <td>0.0</td>\n",
              "      <td>0.0</td>\n",
              "    </tr>\n",
              "    <tr>\n",
              "      <th>25%</th>\n",
              "      <td>77.000000</td>\n",
              "      <td>55.000000</td>\n",
              "      <td>35.000000</td>\n",
              "      <td>3.000000</td>\n",
              "      <td>0.000000</td>\n",
              "      <td>29.400000</td>\n",
              "      <td>0.0</td>\n",
              "      <td>0.0</td>\n",
              "    </tr>\n",
              "    <tr>\n",
              "      <th>50%</th>\n",
              "      <td>82.000000</td>\n",
              "      <td>59.000000</td>\n",
              "      <td>47.000000</td>\n",
              "      <td>9.000000</td>\n",
              "      <td>0.000000</td>\n",
              "      <td>29.500000</td>\n",
              "      <td>0.0</td>\n",
              "      <td>0.0</td>\n",
              "    </tr>\n",
              "    <tr>\n",
              "      <th>75%</th>\n",
              "      <td>86.000000</td>\n",
              "      <td>64.000000</td>\n",
              "      <td>58.000000</td>\n",
              "      <td>15.000000</td>\n",
              "      <td>0.000000</td>\n",
              "      <td>29.600000</td>\n",
              "      <td>0.0</td>\n",
              "      <td>0.0</td>\n",
              "    </tr>\n",
              "    <tr>\n",
              "      <th>max</th>\n",
              "      <td>100.000000</td>\n",
              "      <td>70.000000</td>\n",
              "      <td>88.000000</td>\n",
              "      <td>37.000000</td>\n",
              "      <td>55.000000</td>\n",
              "      <td>29.700000</td>\n",
              "      <td>0.0</td>\n",
              "      <td>0.0</td>\n",
              "    </tr>\n",
              "  </tbody>\n",
              "</table>\n",
              "</div>\n",
              "      <button class=\"colab-df-convert\" onclick=\"convertToInteractive('df-c237f509-9e4a-4de6-aec6-1792afea08ee')\"\n",
              "              title=\"Convert this dataframe to an interactive table.\"\n",
              "              style=\"display:none;\">\n",
              "        \n",
              "  <svg xmlns=\"http://www.w3.org/2000/svg\" height=\"24px\"viewBox=\"0 0 24 24\"\n",
              "       width=\"24px\">\n",
              "    <path d=\"M0 0h24v24H0V0z\" fill=\"none\"/>\n",
              "    <path d=\"M18.56 5.44l.94 2.06.94-2.06 2.06-.94-2.06-.94-.94-2.06-.94 2.06-2.06.94zm-11 1L8.5 8.5l.94-2.06 2.06-.94-2.06-.94L8.5 2.5l-.94 2.06-2.06.94zm10 10l.94 2.06.94-2.06 2.06-.94-2.06-.94-.94-2.06-.94 2.06-2.06.94z\"/><path d=\"M17.41 7.96l-1.37-1.37c-.4-.4-.92-.59-1.43-.59-.52 0-1.04.2-1.43.59L10.3 9.45l-7.72 7.72c-.78.78-.78 2.05 0 2.83L4 21.41c.39.39.9.59 1.41.59.51 0 1.02-.2 1.41-.59l7.78-7.78 2.81-2.81c.8-.78.8-2.07 0-2.86zM5.41 20L4 18.59l7.72-7.72 1.47 1.35L5.41 20z\"/>\n",
              "  </svg>\n",
              "      </button>\n",
              "      \n",
              "  <style>\n",
              "    .colab-df-container {\n",
              "      display:flex;\n",
              "      flex-wrap:wrap;\n",
              "      gap: 12px;\n",
              "    }\n",
              "\n",
              "    .colab-df-convert {\n",
              "      background-color: #E8F0FE;\n",
              "      border: none;\n",
              "      border-radius: 50%;\n",
              "      cursor: pointer;\n",
              "      display: none;\n",
              "      fill: #1967D2;\n",
              "      height: 32px;\n",
              "      padding: 0 0 0 0;\n",
              "      width: 32px;\n",
              "    }\n",
              "\n",
              "    .colab-df-convert:hover {\n",
              "      background-color: #E2EBFA;\n",
              "      box-shadow: 0px 1px 2px rgba(60, 64, 67, 0.3), 0px 1px 3px 1px rgba(60, 64, 67, 0.15);\n",
              "      fill: #174EA6;\n",
              "    }\n",
              "\n",
              "    [theme=dark] .colab-df-convert {\n",
              "      background-color: #3B4455;\n",
              "      fill: #D2E3FC;\n",
              "    }\n",
              "\n",
              "    [theme=dark] .colab-df-convert:hover {\n",
              "      background-color: #434B5C;\n",
              "      box-shadow: 0px 1px 3px 1px rgba(0, 0, 0, 0.15);\n",
              "      filter: drop-shadow(0px 1px 2px rgba(0, 0, 0, 0.3));\n",
              "      fill: #FFFFFF;\n",
              "    }\n",
              "  </style>\n",
              "\n",
              "      <script>\n",
              "        const buttonEl =\n",
              "          document.querySelector('#df-c237f509-9e4a-4de6-aec6-1792afea08ee button.colab-df-convert');\n",
              "        buttonEl.style.display =\n",
              "          google.colab.kernel.accessAllowed ? 'block' : 'none';\n",
              "\n",
              "        async function convertToInteractive(key) {\n",
              "          const element = document.querySelector('#df-c237f509-9e4a-4de6-aec6-1792afea08ee');\n",
              "          const dataTable =\n",
              "            await google.colab.kernel.invokeFunction('convertToInteractive',\n",
              "                                                     [key], {});\n",
              "          if (!dataTable) return;\n",
              "\n",
              "          const docLinkHtml = 'Like what you see? Visit the ' +\n",
              "            '<a target=\"_blank\" href=https://colab.research.google.com/notebooks/data_table.ipynb>data table notebook</a>'\n",
              "            + ' to learn more about interactive tables.';\n",
              "          element.innerHTML = '';\n",
              "          dataTable['output_type'] = 'display_data';\n",
              "          await google.colab.output.renderOutput(dataTable, element);\n",
              "          const docLink = document.createElement('div');\n",
              "          docLink.innerHTML = docLinkHtml;\n",
              "          element.appendChild(docLink);\n",
              "        }\n",
              "      </script>\n",
              "    </div>\n",
              "  </div>\n",
              "  "
            ]
          },
          "metadata": {},
          "execution_count": 15
        }
      ]
    },
    {
      "cell_type": "markdown",
      "source": [
        "# 4. Data analyzing with graphics."
      ],
      "metadata": {
        "id": "CgbpOKstfUpv"
      }
    },
    {
      "cell_type": "markdown",
      "source": [
        "Співвідношення швидкості вітру та поривів вітру.\n",
        "Також виділимо на графіку оптимальний вітер для польотів на параплані. Як бачимо це лише 2 дні за весь період"
      ],
      "metadata": {
        "id": "mGh2Q6Frfvkm"
      }
    },
    {
      "cell_type": "code",
      "execution_count": 16,
      "outputs": [
        {
          "output_type": "execute_result",
          "data": {
            "text/plain": [
              "<matplotlib.legend.Legend at 0x7fa16c197950>"
            ]
          },
          "metadata": {},
          "execution_count": 16
        },
        {
          "output_type": "display_data",
          "data": {
            "text/plain": [
              "<Figure size 432x288 with 1 Axes>"
            ],
            "image/png": "[encoded data removed]"
          },
          "metadata": {
            "needs_background": "light"
          }
        }
      ],
      "source": [
        "fig, ax = plt.subplots()\n",
        "ax.set_xlabel('Wind Speed')\n",
        "ax.set_ylabel('Wind Gust')\n",
        "ax.set_title('Wind')\n",
        "ax.broken_barh([(7,7),(18,0)],(18,7), facecolors = 'tab:green', alpha = 0.5, label = 'optimal wind')\n",
        "ax.scatter(df['Wind Speed'], df['Wind Gust'], label = 'conditions')\n",
        "ax.legend()\n"
      ],
      "metadata": {
        "pycharm": {
          "name": "#%% візуалізація стабільного і поривчастого вітру,виділенння оптимально вітру для польотів\n"
        },
        "colab": {
          "base_uri": "https://localhost:8080/",
          "height": 312
        },
        "id": "kcykwPslJOnz",
        "outputId": "d164711c-52e8-4d9c-c1e6-7510ea98809a"
      }
    },
    {
      "cell_type": "markdown",
      "source": [
        "Відобразимо максимальні і мінімальні температури за період"
      ],
      "metadata": {
        "id": "7pPpfFQUh786"
      }
    },
    {
      "cell_type": "code",
      "execution_count": 17,
      "outputs": [
        {
          "output_type": "execute_result",
          "data": {
            "text/plain": [
              "<matplotlib.legend.Legend at 0x7fa169926950>"
            ]
          },
          "metadata": {},
          "execution_count": 17
        },
        {
          "output_type": "display_data",
          "data": {
            "text/plain": [
              "<Figure size 720x432 with 1 Axes>"
            ],
            "image/png": "[encoded data removed]"
          },
          "metadata": {
            "needs_background": "light"
          }
        }
      ],
      "source": [
        "t_max = df.groupby('Date').agg({'Temperature':'max'})\n",
        "t_min = df.groupby('Date').agg({'Temperature':'min'})\n",
        "col = [t_max, t_min]\n",
        "fig, ax = plt.subplots(figsize=(10, 6))\n",
        "ax.plot(t_max, color = 'red', label = 'Max temperatures')\n",
        "ax.plot(t_min, color = 'blue', label = 'Min temperatures')\n",
        "ax.set_title('Max and Min temperature of the day')\n",
        "ax.set_xlabel('Dates')\n",
        "ax.set_ylabel('Temperature')\n",
        "ax.tick_params(labelrotation=45)\n",
        "ax.legend()"
      ],
      "metadata": {
        "pycharm": {
          "name": "#%% максимальна і мінімальна температура\n"
        },
        "colab": {
          "base_uri": "https://localhost:8080/",
          "height": 459
        },
        "id": "hfzAkXsSJOnz",
        "outputId": "374b56b6-629c-4871-93b0-bb6058530ff5"
      }
    },
    {
      "cell_type": "markdown",
      "source": [
        "Відобразимо макимальні показники у вигляді згрупованого барплоту"
      ],
      "metadata": {
        "id": "Sw5QeTAMj78d"
      }
    },
    {
      "cell_type": "code",
      "execution_count": 18,
      "outputs": [
        {
          "output_type": "execute_result",
          "data": {
            "text/plain": [
              "Text(0.5, 1.0, 'Порівняння вимірів')"
            ]
          },
          "metadata": {},
          "execution_count": 18
        },
        {
          "output_type": "display_data",
          "data": {
            "text/plain": [
              "<Figure size 1440x504 with 1 Axes>"
            ],
            "image/png": "[encoded data removed]"
          },
          "metadata": {
            "needs_background": "light"
          }
        }
      ],
      "source": [
        "col2 = [df['Temperature'], df['Dew Point'], df['Humidity'], df['Pressure'], df['Precip.'], df['Precip Accum']]\n",
        "vol = df.groupby('Date').agg({'Temperature':'max', 'Dew Point':'max', 'Humidity':'max', 'Pressure':'max', 'Precip.':'max', 'Precip Accum':'min'})\n",
        "vol.plot.bar(colormap='hsv', width = 0.9, figsize = (20,7))\n",
        "plt.title('Порівняння вимірів')"
      ],
      "metadata": {
        "pycharm": {
          "name": "#%%\n"
        },
        "colab": {
          "base_uri": "https://localhost:8080/",
          "height": 571
        },
        "id": "wcoBcngNJOn0",
        "outputId": "12205e73-de7c-466a-f45e-50be65b5107f"
      }
    },
    {
      "cell_type": "markdown",
      "source": [
        "Відобразимо \"розу вітрів\" у вигляді барплоту. Покажемо на графіку частоту різних напрямків вітру"
      ],
      "metadata": {
        "id": "YDyIZOv6mKk0"
      }
    },
    {
      "cell_type": "code",
      "execution_count": 19,
      "outputs": [
        {
          "output_type": "execute_result",
          "data": {
            "text/plain": [
              "Text(0, 0.5, 'frequency')"
            ]
          },
          "metadata": {},
          "execution_count": 19
        },
        {
          "output_type": "display_data",
          "data": {
            "text/plain": [
              "<Figure size 432x288 with 1 Axes>"
            ],
            "image/png": "[encoded data removed]"
          },
          "metadata": {
            "needs_background": "light"
          }
        }
      ],
      "source": [
        "w = df.groupby('Wind').agg({'Wind':'count'})\n",
        "ax = w.plot.bar(color = 'orange')\n",
        "ax.set_title('Wind')\n",
        "ax.set_ylabel('frequency')"
      ],
      "metadata": {
        "pycharm": {
          "name": "#%%\n"
        },
        "colab": {
          "base_uri": "https://localhost:8080/",
          "height": 330
        },
        "id": "aFeLFn0kJOn0",
        "outputId": "0d21c993-a4e6-47b0-cfef-c66bd311e089"
      }
    },
    {
      "cell_type": "markdown",
      "source": [
        "Створимо діаграму-пиріг (pie plot) щоб відобразити кількість днів з різними погодними умовами. Як бачимо переважає хороша погода."
      ],
      "metadata": {
        "id": "GOMKO27amaha"
      }
    },
    {
      "cell_type": "code",
      "execution_count": 20,
      "outputs": [
        {
          "output_type": "execute_result",
          "data": {
            "text/plain": [
              "<matplotlib.axes._subplots.AxesSubplot at 0x7fa1690218d0>"
            ]
          },
          "metadata": {},
          "execution_count": 20
        },
        {
          "output_type": "display_data",
          "data": {
            "text/plain": [
              "<Figure size 720x720 with 1 Axes>"
            ],
            "image/png": "[encoded data removed]"
          },
          "metadata": {}
        }
      ],
      "source": [
        "cond = df.groupby('Condition').agg({'Condition':'count'})\n",
        "cond.plot.pie(y = 'Condition', figsize = (10,10))"
      ],
      "metadata": {
        "pycharm": {
          "name": "#%%\n"
        },
        "colab": {
          "base_uri": "https://localhost:8080/",
          "height": 592
        },
        "id": "TZTG9rohJOn0",
        "outputId": "74034724-f193-4322-879a-10bbdf41f7b2"
      }
    },
    {
      "cell_type": "markdown",
      "source": [
        "Скористуємось іншоб бібліотекою для створення точкової діаграми. Відобразимо задежність між швидкістю і поривами вітру. Різними кольорами позначений різний вітер, а різний розмір відповідає за різну темиературу."
      ],
      "metadata": {
        "id": "g5Kzz-_xutq7"
      }
    },
    {
      "cell_type": "code",
      "execution_count": 21,
      "outputs": [
        {
          "output_type": "execute_result",
          "data": {
            "text/plain": [
              "<matplotlib.legend.Legend at 0x7fa168f64ed0>"
            ]
          },
          "metadata": {},
          "execution_count": 21
        },
        {
          "output_type": "display_data",
          "data": {
            "text/plain": [
              "<Figure size 432x288 with 1 Axes>"
            ],
            "image/png": "[encoded data removed]"
          },
          "metadata": {
            "needs_background": "light"
          }
        }
      ],
      "source": [
        "ax = sns.scatterplot(x = df['Wind Speed'], y = df['Wind Gust'], alpha = 0.5, hue = df['Wind'], size = df['Temperature'])\n",
        "plt.legend(bbox_to_anchor=(1.02, 1), loc='upper left', borderaxespad=0)\n"
      ],
      "metadata": {
        "pycharm": {
          "name": "#%%\n"
        },
        "colab": {
          "base_uri": "https://localhost:8080/",
          "height": 441
        },
        "id": "baTGHoKQJOn2",
        "outputId": "c76a9228-e0b9-4540-ca3e-5553e6fc1fcb"
      }
    },
    {
      "cell_type": "markdown",
      "source": [
        "Створимо ще один подібний графік, але скористаємось цікавішою бібліотекою. Тут графіки більш інтерактивні і при наведенні відображають усю інформацію про конкрутку \"крапку\". \n",
        "\n",
        "Також якщо на цьому графіку відображати оусі запити - багато інформації накладається. Тому створимо ще один графік де згрупуємо інформацію по днях.\n",
        "\n",
        "![image.png](data:image/png;base64,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)"
      ],
      "metadata": {
        "id": "sO-_R59Xv8HS"
      }
    },
    {
      "cell_type": "code",
      "source": [
        "import plotly.express as px\n",
        "\n",
        "\n",
        "\n",
        "fig = px.scatter(df, x='Temperature', y=\"Humidity\",\n",
        "\t         size=\"Wind Speed\", color=\"Condition\", size_max=60)\n",
        "fig.show()\n",
        "\n"
      ],
      "metadata": {
        "colab": {
          "base_uri": "https://localhost:8080/",
          "height": 542
        },
        "id": "aiKO8HVL0ycz",
        "outputId": "6e1f779d-37cc-435a-d71f-e0961c263dfb"
      },
      "execution_count": 22,
      "outputs": [
        {
          "output_type": "display_data",
          "data": {
            "text/html": [
              "<html>\n",
              "<head><meta charset=\"utf-8\" /></head>\n",
              "<body>\n",
              "    <div>            <script src=\"https://cdnjs.cloudflare.com/ajax/libs/mathjax/2.7.5/MathJax.js?config=TeX-AMS-MML_SVG\"></script><script type=\"text/javascript\">if (window.MathJax) {MathJax.Hub.Config({SVG: {font: \"STIX-Web\"}});}</script>                <script type=\"text/javascript\">window.PlotlyConfig = {MathJaxConfig: 'local'};</script>\n",
              "        <script src=\"https://cdn.plot.ly/plotly-2.8.3.min.js\"></script>                <div id=\"c7a9b1ca-3205-4f34-aacc-8129b4fdd9b8\" class=\"plotly-graph-div\" style=\"height:525px; width:100%;\"></div>            <script type=\"text/javascript\">                                    window.PLOTLYENV=window.PLOTLYENV || {};                                    if (document.getElementById(\"c7a9b1ca-3205-4f34-aacc-8129b4fdd9b8\")) {                    Plotly.newPlot(                        \"c7a9b1ca-3205-4f34-aacc-8129b4fdd9b8\",                        [{\"hovertemplate\":\"Condition=Fair<br>Temperature=%{x}<br>Humidity=%{y}<br>Wind Speed=%{marker.size}<extra></extra>\",\"legendgroup\":\"Fair\",\"marker\":{\"color\":\"#636efa\",\"size\":[1,3,0,0,0,0,2,5,2,0,2,0,0,3,1,0,0,2,3,5,5,10,10,7,6,10,9,10,6,7,6,8,6,8,10,12,8,8,7,8,8,7,3,3,2,2,1,0,0,1,1,3,2,5,5,2,0,0,1,0,0,3,3,3,0,0,5,1,3,5,3,6,3,9,13,9,9,20,20,20,18,16,18,18,14,16,12,13,9,7,8,8,0,8,5,10,14,6,8,2,2,0,1,1,3,0,3,9,6,0,6,5,10,9,15,14,14,15,14,13,10,10,13,12,12,8,8,7,5,7,8,7,0,5,6,3,0,0,0,2,6,8,8,6,7,7,2,3,1,2,8,10,8,8,9,8,6,8,8,6,8,5,10,12,13,14,13,2,2,5,1,3,1,2,2,3,6,8,10,10,13,14,13,12,12,9,9,7,5,7,7,6,1,5,0,1,2,1,1,1,1,1,0,3,0,0,0,0,0,3,0,2,1,2,2,1,2,6,7,9,9,8,12,12,10,10,8,10,9,9,10,10,10,10,8,7,6,3,2,1,5,3,2,2,3,5,5,0,1,1,1,1,5,1,0,0,2,5,2,2,1,2,2,3,3,3,7,8,8,8,10,9,7,9,10,15,17,18,18,15,17,17,15,13,12,13,15,14,15,15,6,2,6,5,1,2,5,3,3,3,2,5,3,2,9,5,3,3,1,2,1,2,2,2,5,13,16,18,17,14,15,15,9,3,2,3,3,3,2,2,2,1,3,2,5,5,3,1,1,2,0,0,1,2,0,3,2,0,2,2,2,2,1,2,1,2,1,1,1,1,2,2,2,5,3,8,8,8,7,6,6,5,5,3,0,2,2,2,5,2,3,0,1,3,0,0,0,0,3,3,1,2,1,2,2,2,2,8,6,8,7,7,6,6,6,8,7,6,2,2,3,5,2,3,0,3,2,3,3,2,2,0,3,0,0,0,1,2,1,1,3,10,13,14,12,12,10,13,1,0,5,0,3,3,1,5,6,3,2,1,5,2,5,2,3,2,3,2,3,2,0,0,5,3,0,0,5,3,3,3,3,9,10,10,18,16,14,12,8,5,2,3,1,3,1,3,1,3,2,0,1,1,2,1,3,6,5,2,0,0,2,9,5,1,8,12,12,12,10,9,12,8,8,6,9,8,5,5,0,0,0,2,3,0,0,1,0,0,2,0,0,0,0,5,2,2,5,5,6,9,9,8,8,6,2,1,3,0,2,1,3,2,2,2,1,3,2,5,1,0,2,1,5,9,7,6,7,8,14,15,14,20,20,16,18,18,18,17,18,18,15,17,12,8,1,12,12,15,13,13,13,9,13,13,12,12,13,14,14,14,17,18,20,17,20,20,16,14,12,13,12,13,10,12,12,12,12,12,12,9,12,14,14,14,12,9,10,10,9,8,12,15,14,14,18,20,20,20,20,16,17,17,14,12,13,10,12,10,12,9,10,10,15,16,15,12,13,6,7,10,14,14,16,16,9,10,13,15,16,20,20,20,20,18,17,18,15,13,7,6,6,8,5,6,8,8,8,7,9,12,12,12,13,10,9,9,9,9,10,12,12,14,12,15,14,15,14,17,16,20,17,17,17,14,14,9,12,8,7,7,8,6,8,7,7,6,3,3,6,6,6,7,7,5,5,3,3,7,5,2,2,9,12,10,10,12,18,17,20,17,15,12,10,8,6,5,5,6,6,6,6,6,3,1,3,1,2,7,6,5,3,5,5,7,2,6,12,14,13,12,13,20,20,20,17,18,14,9,12,9,6,9,9,14,12,12,13,13,12,13,17,17,15,16,17,18,17,15,17,13,15,20,17,17,20,20,18,16,13,13,12,13,13,16,15,20,17,16,17,16,12,15,13,17,18,18,17,18,16,12,13,12,17,18,16,20,18,17,20,18,20,17,20,20,15,17,20,18,16,20,17,13,12,12,12,14,13,13,16,18,15,10,13,13,12,13,16,10,10,9,8,8,12,12,13,16,17,18,20,20,18,14,9,8,6,6,6,8,7,12,13,13,12,12,12,12,13,7,6,8,8,9,6,5,5,12,12,14,17,17,20,18,17,15,13,10,2,1,13,7,6],\"sizemode\":\"area\",\"sizeref\":0.010277777777777778,\"symbol\":\"circle\"},\"mode\":\"markers\",\"name\":\"Fair\",\"showlegend\":true,\"x\":[72.0,73.0,75.0,72.0,72.0,72.0,72.0,70.0,70.0,70.0,68.0,68.0,66.0,73.0,73.0,77.0,81.0,81.0,84.0,86.0,84.0,88.0,88.0,88.0,90.0,90.0,91.0,91.0,91.0,93.0,93.0,91.0,93.0,93.0,91.0,91.0,90.0,88.0,88.0,86.0,84.0,83.0,82.0,82.0,81.0,81.0,81.0,79.0,79.0,77.0,79.0,77.0,77.0,77.0,77.0,77.0,77.0,75.0,73.0,73.0,73.0,75.0,77.0,81.0,84.0,86.0,86.0,88.0,90.0,91.0,93.0,93.0,93.0,93.0,95.0,99.0,99.0,99.0,95.0,95.0,93.0,93.0,91.0,90.0,90.0,90.0,88.0,88.0,84.0,84.0,82.0,88.0,82.0,84.0,84.0,86.0,84.0,82.0,81.0,82.0,79.0,79.0,77.0,77.0,77.0,79.0,79.0,77.0,81.0,81.0,81.0,82.0,82.0,84.0,86.0,88.0,88.0,90.0,90.0,90.0,90.0,90.0,91.0,90.0,90.0,88.0,88.0,86.0,86.0,82.0,81.0,81.0,79.0,79.0,79.0,77.0,75.0,75.0,73.0,77.0,79.0,81.0,81.0,81.0,81.0,81.0,79.0,81.0,82.0,82.0,83.0,84.0,86.0,86.0,88.0,90.0,90.0,90.0,91.0,90.0,90.0,90.0,90.0,90.0,90.0,88.0,86.0,75.0,73.0,75.0,79.0,77.0,77.0,77.0,75.0,77.0,79.0,81.0,82.0,82.0,84.0,84.0,86.0,86.0,86.0,86.0,86.0,86.0,84.0,84.0,81.0,79.0,79.0,79.0,79.0,77.0,77.0,73.0,73.0,73.0,72.0,73.0,72.0,70.0,70.0,72.0,73.0,72.0,68.0,68.0,73.0,75.0,77.0,79.0,82.0,84.0,86.0,86.0,88.0,88.0,90.0,91.0,91.0,91.0,90.0,91.0,91.0,91.0,93.0,92.0,91.0,90.0,90.0,88.0,88.0,88.0,86.0,84.0,82.0,82.0,81.0,81.0,81.0,81.0,81.0,81.0,79.0,77.0,77.0,75.0,72.0,72.0,72.0,72.0,70.0,68.0,70.0,73.0,75.0,77.0,81.0,84.0,86.0,88.0,90.0,91.0,93.0,93.0,93.0,95.0,97.0,97.0,99.0,99.0,100.0,99.0,95.0,95.0,93.0,91.0,91.0,90.0,88.0,86.0,84.0,82.0,82.0,88.0,88.0,88.0,88.0,90.0,90.0,90.0,88.0,88.0,88.0,82.0,82.0,81.0,82.0,84.0,84.0,84.0,82.0,84.0,84.0,84.0,86.0,90.0,90.0,91.0,95.0,97.0,99.0,100.0,99.0,99.0,97.0,95.0,99.0,99.0,86.0,84.0,82.0,81.0,81.0,75.0,73.0,72.0,72.0,73.0,75.0,73.0,73.0,73.0,72.0,72.0,72.0,72.0,70.0,70.0,68.0,68.0,68.0,73.0,75.0,77.0,77.0,81.0,81.0,75.0,73.0,72.0,64.0,70.0,72.0,73.0,75.0,77.0,79.0,81.0,81.0,82.0,82.0,84.0,82.0,81.0,79.0,79.0,79.0,77.0,77.0,77.0,77.0,77.0,77.0,75.0,73.0,73.0,75.0,73.0,73.0,73.0,73.0,68.0,68.0,68.0,73.0,73.0,75.0,78.0,81.0,82.0,84.0,86.0,84.0,84.0,86.0,86.0,84.0,84.0,84.0,84.0,82.0,81.0,79.0,77.0,77.0,75.0,77.0,77.0,77.0,77.0,77.0,77.0,75.0,73.0,73.0,73.0,72.0,72.0,72.0,72.0,70.0,73.0,73.0,77.0,81.0,81.0,82.0,84.0,84.0,84.0,86.0,84.0,86.0,88.0,73.0,77.0,79.0,79.0,77.0,79.0,77.0,79.0,79.0,77.0,77.0,77.0,75.0,77.0,75.0,75.0,75.0,75.0,75.0,75.0,75.0,75.0,75.0,75.0,73.0,73.0,73.0,73.0,73.0,75.0,77.0,79.0,81.0,81.0,82.0,82.0,86.0,86.0,86.0,84.0,84.0,82.0,82.0,82.0,82.0,81.0,77.0,79.0,79.0,79.0,77.0,75.0,75.0,75.0,75.0,75.0,75.0,73.0,73.0,73.0,73.0,75.0,79.0,77.0,79.0,79.0,82.0,84.0,86.0,86.0,86.0,88.0,88.0,84.0,84.0,82.0,82.0,81.0,79.0,79.0,75.0,79.0,77.0,77.0,75.0,75.0,75.0,73.0,73.0,73.0,73.0,72.0,72.0,72.0,72.0,77.0,79.0,81.0,82.0,84.0,84.0,84.0,82.0,82.0,81.0,81.0,81.0,77.0,77.0,75.0,75.0,73.0,73.0,73.0,73.0,73.0,73.0,72.0,72.0,70.0,72.0,72.0,72.0,75.0,79.0,81.0,82.0,84.0,86.0,86.0,88.0,88.0,90.0,90.0,90.0,90.0,90.0,88.0,86.0,86.0,84.0,84.0,82.0,82.0,82.0,82.0,82.0,82.0,82.0,82.0,82.0,81.0,81.0,81.0,81.0,81.0,81.0,79.0,81.0,79.0,79.0,79.0,81.0,81.0,82.0,84.0,84.0,86.0,86.0,84.0,84.0,84.0,84.0,84.0,84.0,84.0,82.0,81.0,81.0,81.0,81.0,81.0,79.0,81.0,79.0,79.0,79.0,79.0,77.0,79.0,79.0,79.0,79.0,81.0,81.0,82.0,82.0,84.0,88.0,88.0,86.0,86.0,86.0,84.0,84.0,84.0,84.0,84.0,84.0,82.0,82.0,81.0,81.0,81.0,81.0,81.0,81.0,81.0,79.0,79.0,79.0,79.0,77.0,77.0,77.0,77.0,77.0,79.0,79.0,81.0,82.0,82.0,82.0,84.0,86.0,86.0,86.0,84.0,84.0,82.0,82.0,82.0,82.0,81.0,81.0,81.0,79.0,81.0,79.0,81.0,81.0,81.0,81.0,81.0,81.0,81.0,79.0,79.0,77.0,77.0,81.0,81.0,82.0,82.0,84.0,86.0,86.0,88.0,88.0,90.0,90.0,90.0,90.0,88.0,88.0,86.0,86.0,84.0,84.0,84.0,81.0,82.0,79.0,77.0,77.0,79.0,77.0,79.0,79.0,79.0,79.0,79.0,77.0,77.0,77.0,75.0,75.0,73.0,77.0,77.0,81.0,82.0,84.0,86.0,86.0,86.0,88.0,90.0,91.0,90.0,90.0,88.0,88.0,86.0,86.0,84.0,84.0,82.0,82.0,79.0,75.0,77.0,75.0,79.0,77.0,75.0,75.0,75.0,72.0,75.0,77.0,75.0,79.0,75.0,75.0,79.0,81.0,81.0,82.0,84.0,84.0,86.0,88.0,91.0,91.0,91.0,90.0,90.0,88.0,86.0,86.0,84.0,84.0,84.0,84.0,84.0,82.0,82.0,82.0,82.0,82.0,82.0,82.0,81.0,81.0,81.0,81.0,81.0,79.0,79.0,79.0,79.0,79.0,81.0,81.0,82.0,86.0,84.0,84.0,84.0,82.0,82.0,82.0,82.0,82.0,81.0,81.0,81.0,81.0,81.0,81.0,79.0,79.0,79.0,79.0,77.0,77.0,77.0,77.0,77.0,77.0,77.0,77.0,77.0,79.0,81.0,81.0,82.0,82.0,81.0,81.0,81.0,81.0,81.0,79.0,79.0,79.0,77.0,77.0,75.0,75.0,82.0,82.0,81.0,81.0,81.0,79.0,79.0,79.0,79.0,79.0,79.0,77.0,77.0,77.0,77.0,77.0,77.0,75.0,75.0,75.0,73.0,73.0,73.0,73.0,73.0,75.0,75.0,76.0,79.0,82.0,81.0,81.0,79.0,77.0,77.0,77.0,79.0,79.0,77.0,77.0,77.0,77.0,77.0,77.0,77.0,75.0,75.0,75.0,73.0,73.0,75.0,75.0,75.0,75.0,75.0,77.0,77.0,79.0,81.0,81.0,82.0,84.0,81.0,81.0,79.0,79.0,79.0,77.0,77.0,73.0,73.0,73.0],\"xaxis\":\"x\",\"y\":[60,57,53,60,60,64,64,68,64,64,68,73,73,57,61,50,45,45,37,33,42,27,31,29,27,26,23,24,24,24,26,28,26,28,29,29,33,35,35,35,37,42,42,39,39,39,34,42,42,44,44,50,50,50,50,41,47,50,53,53,53,50,47,48,42,37,43,35,33,31,36,32,34,32,30,24,27,24,28,26,30,30,36,38,36,36,40,38,51,55,54,35,48,45,37,33,40,48,51,45,54,51,57,61,57,51,47,54,48,54,58,54,54,51,40,33,33,31,31,31,31,29,29,29,26,24,24,29,27,51,61,61,65,61,61,65,69,69,69,54,42,34,32,34,34,34,36,34,32,35,32,33,31,31,29,27,26,24,24,29,26,27,27,33,29,29,33,57,61,53,44,50,50,50,57,54,47,48,42,42,40,40,37,37,37,40,40,40,45,48,61,65,61,65,65,69,65,69,69,69,69,69,69,73,73,73,69,69,78,78,65,61,57,57,48,42,43,43,38,35,33,31,31,29,31,31,31,31,30,30,31,33,33,35,33,33,37,40,42,45,65,61,61,54,54,51,54,57,57,65,69,69,69,69,73,73,73,65,57,57,51,42,37,33,29,28,26,30,30,25,23,23,21,24,21,27,28,30,34,36,38,40,43,55,58,66,62,35,33,33,27,24,22,20,21,22,22,28,28,32,30,28,28,27,28,28,28,28,27,26,24,23,19,18,17,13,17,18,22,23,21,19,27,33,35,37,37,69,73,78,78,73,65,73,73,73,73,73,73,78,83,78,78,78,73,65,61,57,57,48,48,69,73,73,88,78,73,69,65,61,57,54,54,54,54,48,58,58,61,61,61,69,69,69,69,69,69,73,78,78,73,73,73,73,73,83,88,88,73,73,69,69,58,54,48,45,55,51,48,55,58,58,58,58,62,65,69,78,78,78,74,69,69,69,69,69,73,78,78,73,78,78,78,83,83,73,73,65,61,58,58,55,55,51,48,51,48,49,83,74,61,65,69,65,74,65,65,69,69,69,78,69,73,73,73,73,73,73,73,73,73,73,73,73,73,73,73,69,65,61,58,58,54,54,48,48,45,48,48,51,51,54,51,54,61,57,57,57,61,65,65,65,65,65,65,69,69,69,69,65,57,65,61,65,54,48,45,45,45,46,46,48,51,51,51,58,65,69,78,69,74,74,78,78,78,83,83,83,83,88,88,83,83,65,61,58,54,51,51,51,54,54,58,58,58,69,69,73,73,78,78,78,78,78,73,83,83,83,78,78,78,65,61,58,54,51,45,48,46,46,46,46,46,46,46,49,48,51,58,55,58,58,54,54,54,58,58,58,54,61,61,61,61,58,58,54,51,54,54,51,48,48,42,40,40,37,33,35,35,35,35,35,35,35,39,45,48,48,48,51,54,51,57,57,61,61,65,57,51,51,44,42,42,37,37,37,33,33,37,40,40,42,40,40,40,37,35,39,42,45,45,45,45,45,48,48,51,47,47,44,47,47,47,47,47,44,47,45,42,42,42,40,35,35,35,35,37,39,37,37,35,37,39,39,42,39,42,39,39,37,37,39,39,39,39,42,41,44,37,37,37,37,35,31,31,31,29,27,27,27,26,25,27,29,29,28,25,27,30,28,30,32,32,32,34,32,34,34,34,34,39,39,39,44,44,47,41,41,37,37,35,33,33,35,31,33,26,26,26,29,27,29,27,28,28,32,30,34,38,34,38,34,36,41,41,41,50,41,39,44,39,44,47,44,42,42,42,40,37,35,31,31,29,26,27,29,31,33,33,37,37,40,40,42,45,48,45,48,48,48,48,54,54,54,54,54,57,54,54,51,54,51,51,45,40,42,40,40,42,42,42,42,42,48,48,51,51,51,51,54,54,47,47,50,50,47,47,47,47,47,50,54,54,51,48,48,48,48,48,48,51,48,54,54,54,57,54,61,57,39,37,39,39,39,44,42,44,44,44,47,50,50,50,54,54,57,61,61,57,57,61,57,61,57,53,53,50,47,32,30,30,30,36,39,39,36,36,41,41,41,41,41,41,41,44,47,47,50,57,53,53,50,50,50,47,50,47,45,48,42,33,42,34,34,36,36,39,36,44,44,44],\"yaxis\":\"y\",\"type\":\"scattergl\"},{\"hovertemplate\":\"Condition=Fair / Windy<br>Temperature=%{x}<br>Humidity=%{y}<br>Wind Speed=%{marker.size}<extra></extra>\",\"legendgroup\":\"Fair / Windy\",\"marker\":{\"color\":\"#EF553B\",\"size\":[21,21,21,21,31,37,30,21,22,21,21,21,21,24,24,23,23,25,28,28,30,28,29,24,24,23,21,21,21,23,23,23,22,22,22,29,30,28,25,26,30,21,24,22,26,24,22,24,21,23,22,22,21,21,23,22,22,21,22,23,23,23,22,23,21,23,22,22,21,21,21,23,21,22,21,23,23,24,25,24,22,22,24,23,23,24,23,21,22,21,23,25,28,25,24,26,28,26,22,23,25,23,24,25,25,22,23,30,30,31,29,28,28,26,24,23,23,23,26,21,22,22,21,23,21,23,21,21,22,22,25,23,24,25,30,26,28,25,26,22,21,22,21,24,24,28,25,23,23,23,24,25,24,23,22,23,21,22,23,21,21,22,24,21,23,24,23,21,21,21,24,22,22,22],\"sizemode\":\"area\",\"sizeref\":0.010277777777777778,\"symbol\":\"circle\"},\"mode\":\"markers\",\"name\":\"Fair / Windy\",\"showlegend\":true,\"x\":[95.0,99.0,99.0,93.0,95.0,93.0,91.0,90.0,90.0,91.0,86.0,86.0,86.0,86.0,88.0,88.0,88.0,90.0,88.0,90.0,90.0,90.0,90.0,88.0,88.0,86.0,86.0,82.0,84.0,86.0,86.0,86.0,88.0,88.0,88.0,90.0,90.0,88.0,88.0,88.0,88.0,84.0,86.0,86.0,86.0,88.0,88.0,88.0,88.0,88.0,88.0,88.0,88.0,88.0,88.0,90.0,90.0,91.0,90.0,91.0,91.0,91.0,91.0,91.0,91.0,91.0,93.0,91.0,91.0,90.0,90.0,90.0,90.0,90.0,90.0,91.0,91.0,91.0,91.0,91.0,90.0,84.0,84.0,86.0,86.0,86.0,86.0,86.0,86.0,86.0,88.0,88.0,88.0,88.0,88.0,88.0,88.0,88.0,86.0,81.0,82.0,84.0,84.0,84.0,84.0,84.0,86.0,86.0,86.0,88.0,86.0,86.0,86.0,84.0,86.0,84.0,84.0,84.0,84.0,81.0,81.0,81.0,79.0,77.0,77.0,77.0,77.0,75.0,75.0,77.0,79.0,79.0,79.0,79.0,81.0,84.0,84.0,84.0,84.0,82.0,82.0,77.0,81.0,81.0,82.0,82.0,82.0,82.0,82.0,82.0,82.0,84.0,84.0,84.0,84.0,84.0,82.0,81.0,81.0,82.0,82.0,82.0,82.0,82.0,84.0,84.0,86.0,86.0,84.0,84.0,86.0,82.0,82.0,82.0],\"xaxis\":\"x\",\"y\":[28,17,21,24,19,20,23,43,43,43,37,37,35,40,35,33,35,36,38,31,29,29,29,29,31,35,33,42,40,35,37,33,31,33,31,31,29,31,31,33,35,40,37,37,37,33,31,33,35,35,35,35,35,35,31,27,26,23,22,23,23,23,23,23,23,24,23,26,24,27,27,29,29,29,31,29,31,31,29,26,29,37,35,31,33,33,35,35,35,37,35,35,38,38,38,35,38,35,40,48,48,42,42,42,42,42,43,43,43,40,45,45,45,45,45,48,48,45,45,48,51,51,54,57,57,57,57,61,61,50,44,47,47,47,42,35,37,37,37,39,39,50,45,45,39,42,39,39,37,39,39,35,35,35,33,33,32,37,48,42,45,48,45,48,42,40,37,40,42,35,33,37,37,37],\"yaxis\":\"y\",\"type\":\"scattergl\"},{\"hovertemplate\":\"Condition=Partly Cloudy<br>Temperature=%{x}<br>Humidity=%{y}<br>Wind Speed=%{marker.size}<extra></extra>\",\"legendgroup\":\"Partly Cloudy\",\"marker\":{\"color\":\"#00cc96\",\"size\":[13,8,15,20,15,10,10,12,10,12,14,13,13,1,2,2,2,3,8,7,14,14,14,13,10,9,9,9,8,6,7,7,10,20,18,8,10,3,6,1,0,0,3,3,8,3,3,6,8,8,5,8,7,3,3,12,3,7,3,3,1,2,2,3,1,1,2,1,6,2,8,5,10,6,6,0,1,2,3,0,1,3,3,3,2,3,1,1,1,3,0,2,0,7,9,7,6,9,7,3,5,6,12,10,12,7,6,3,6,2,16,12,12,9,14,14,16,18,17,13,17,18,18,18,12,13,8,2,10,10,12,13,13,15,14,13,13,12,14,12,15,13,14,20,18,18,20],\"sizemode\":\"area\",\"sizeref\":0.010277777777777778,\"symbol\":\"circle\"},\"mode\":\"markers\",\"name\":\"Partly Cloudy\",\"showlegend\":true,\"x\":[90.0,91.0,90.0,88.0,90.0,91.0,91.0,91.0,91.0,91.0,91.0,90.0,84.0,82.0,81.0,77.0,75.0,75.0,86.0,86.0,86.0,88.0,88.0,90.0,88.0,88.0,88.0,88.0,88.0,88.0,88.0,90.0,97.0,88.0,88.0,79.0,77.0,77.0,77.0,75.0,75.0,73.0,75.0,75.0,75.0,82.0,86.0,84.0,86.0,86.0,84.0,86.0,88.0,86.0,86.0,84.0,81.0,81.0,79.0,79.0,79.0,79.0,70.0,73.0,75.0,77.0,79.0,81.0,82.0,84.0,84.0,77.0,79.0,81.0,79.0,79.0,75.0,75.0,75.0,77.0,70.0,70.0,72.0,70.0,69.0,68.0,68.0,66.0,68.0,68.0,68.0,68.0,66.0,82.0,84.0,84.0,81.0,84.0,84.0,84.0,84.0,86.0,86.0,84.0,84.0,86.0,86.0,81.0,84.0,86.0,86.0,84.0,84.0,84.0,90.0,90.0,90.0,90.0,86.0,86.0,88.0,88.0,88.0,88.0,86.0,86.0,81.0,79.0,86.0,86.0,86.0,88.0,88.0,86.0,86.0,86.0,84.0,88.0,88.0,90.0,82.0,82.0,90.0,91.0,90.0,91.0,91.0],\"xaxis\":\"x\",\"y\":[29,29,36,38,33,29,24,24,26,24,31,31,42,48,54,57,57,57,37,37,37,38,35,36,35,38,38,38,43,40,38,33,22,25,25,54,65,69,69,69,69,73,73,73,69,48,40,45,43,43,45,40,38,43,43,51,58,58,65,69,69,69,88,73,69,65,61,58,51,48,45,74,61,54,54,51,65,69,61,61,83,83,73,78,83,83,83,83,83,83,83,83,88,58,51,51,70,55,51,51,51,45,48,48,48,48,48,65,58,51,51,48,48,51,46,43,40,43,48,48,49,49,46,49,48,45,58,69,48,48,48,49,49,48,48,48,48,46,49,46,54,58,31,29,29,26,31],\"yaxis\":\"y\",\"type\":\"scattergl\"},{\"hovertemplate\":\"Condition=Mostly Cloudy<br>Temperature=%{x}<br>Humidity=%{y}<br>Wind Speed=%{marker.size}<extra></extra>\",\"legendgroup\":\"Mostly Cloudy\",\"marker\":{\"color\":\"#ab63fa\",\"size\":[12,7,5,10,3,3,9,3,1,0,5,8,8,3,0,1,3,5,8,10,9,5,15,15,16,14,14,14,12,10,8,7,8,6,2,6,2,12,12,8,5,5,3,2,2,1,1,2,2,3,1,3,3,2,3,1,3,5,6,9,10,13,3,2,2,2,5,13,10,12,15,14,17,17,15,15,18,13,13,9,10,14,15,15,15,16,14,17,15,14,12],\"sizemode\":\"area\",\"sizeref\":0.010277777777777778,\"symbol\":\"circle\"},\"mode\":\"markers\",\"name\":\"Mostly Cloudy\",\"showlegend\":true,\"x\":[88.0,90.0,91.0,84.0,82.0,79.0,79.0,81.0,81.0,79.0,77.0,77.0,77.0,77.0,77.0,79.0,79.0,79.0,79.0,81.0,81.0,79.0,79.0,82.0,82.0,81.0,82.0,81.0,81.0,81.0,81.0,81.0,81.0,81.0,81.0,81.0,79.0,86.0,79.0,79.0,84.0,81.0,81.0,79.0,77.0,75.0,75.0,73.0,73.0,73.0,73.0,72.0,72.0,72.0,70.0,70.0,70.0,82.0,86.0,86.0,86.0,82.0,81.0,82.0,82.0,81.0,82.0,86.0,88.0,88.0,88.0,88.0,88.0,88.0,90.0,90.0,86.0,86.0,84.0,84.0,88.0,88.0,88.0,88.0,88.0,88.0,88.0,90.0,88.0,90.0,88.0],\"xaxis\":\"x\",\"y\":[35,29,29,42,48,54,61,45,51,54,57,69,69,69,69,61,61,65,54,54,48,61,57,48,48,54,51,54,51,51,48,51,51,51,51,51,54,43,74,69,48,58,54,69,74,78,78,83,83,83,83,83,78,83,88,88,88,51,43,45,43,54,61,58,58,61,58,48,43,43,46,43,43,43,40,40,51,51,55,51,46,49,49,49,46,49,46,46,46,43,49],\"yaxis\":\"y\",\"type\":\"scattergl\"},{\"hovertemplate\":\"Condition=Partly Cloudy / Windy<br>Temperature=%{x}<br>Humidity=%{y}<br>Wind Speed=%{marker.size}<extra></extra>\",\"legendgroup\":\"Partly Cloudy / Windy\",\"marker\":{\"color\":\"#FFA15A\",\"size\":[29,35,25,23,23,21,22,21,21,21],\"sizemode\":\"area\",\"sizeref\":0.010277777777777778,\"symbol\":\"circle\"},\"mode\":\"markers\",\"name\":\"Partly Cloudy / Windy\",\"showlegend\":true,\"x\":[95.0,90.0,91.0,90.0,90.0,88.0,90.0,90.0,91.0,93.0],\"xaxis\":\"x\",\"y\":[23,27,20,22,24,52,46,46,29,24],\"yaxis\":\"y\",\"type\":\"scattergl\"},{\"hovertemplate\":\"Condition=Drizzle / Windy<br>Temperature=%{x}<br>Humidity=%{y}<br>Wind Speed=%{marker.size}<extra></extra>\",\"legendgroup\":\"Drizzle / Windy\",\"marker\":{\"color\":\"#19d3f3\",\"size\":[31,26],\"sizemode\":\"area\",\"sizeref\":0.010277777777777778,\"symbol\":\"circle\"},\"mode\":\"markers\",\"name\":\"Drizzle / Windy\",\"showlegend\":true,\"x\":[90.0,90.5],\"xaxis\":\"x\",\"y\":[24,22],\"yaxis\":\"y\",\"type\":\"scattergl\"},{\"hovertemplate\":\"Condition=Drizzle<br>Temperature=%{x}<br>Humidity=%{y}<br>Wind Speed=%{marker.size}<extra></extra>\",\"legendgroup\":\"Drizzle\",\"marker\":{\"color\":\"#FF6692\",\"size\":[15,5],\"sizemode\":\"area\",\"sizeref\":0.010277777777777778,\"symbol\":\"circle\"},\"mode\":\"markers\",\"name\":\"Drizzle\",\"showlegend\":true,\"x\":[79.0,81.0],\"xaxis\":\"x\",\"y\":[57,51],\"yaxis\":\"y\",\"type\":\"scattergl\"},{\"hovertemplate\":\"Condition=Thunder<br>Temperature=%{x}<br>Humidity=%{y}<br>Wind Speed=%{marker.size}<extra></extra>\",\"legendgroup\":\"Thunder\",\"marker\":{\"color\":\"#B6E880\",\"size\":[6,2,3,2,10,18],\"sizemode\":\"area\",\"sizeref\":0.010277777777777778,\"symbol\":\"circle\"},\"mode\":\"markers\",\"name\":\"Thunder\",\"showlegend\":true,\"x\":[79.0,77.0,73.0,73.0,84.0,84.0],\"xaxis\":\"x\",\"y\":[54,65,78,78,51,55],\"yaxis\":\"y\",\"type\":\"scattergl\"},{\"hovertemplate\":\"Condition=Light Rain<br>Temperature=%{x}<br>Humidity=%{y}<br>Wind Speed=%{marker.size}<extra></extra>\",\"legendgroup\":\"Light Rain\",\"marker\":{\"color\":\"#FF97FF\",\"size\":[5,6,7],\"sizemode\":\"area\",\"sizeref\":0.010277777777777778,\"symbol\":\"circle\"},\"mode\":\"markers\",\"name\":\"Light Rain\",\"showlegend\":true,\"x\":[82.0,79.0,70.0],\"xaxis\":\"x\",\"y\":[58,65,88],\"yaxis\":\"y\",\"type\":\"scattergl\"},{\"hovertemplate\":\"Condition=Light Rain with Thunder<br>Temperature=%{x}<br>Humidity=%{y}<br>Wind Speed=%{marker.size}<extra></extra>\",\"legendgroup\":\"Light Rain with Thunder\",\"marker\":{\"color\":\"#FECB52\",\"size\":[7,8,9,10,9,10,6,9],\"sizemode\":\"area\",\"sizeref\":0.010277777777777778,\"symbol\":\"circle\"},\"mode\":\"markers\",\"name\":\"Light Rain with Thunder\",\"showlegend\":true,\"x\":[79.0,82.0,79.0,82.0,81.0,79.0,75.0,70.0],\"xaxis\":\"x\",\"y\":[69,51,61,54,58,65,73,88],\"yaxis\":\"y\",\"type\":\"scattergl\"},{\"hovertemplate\":\"Condition=T-Storm<br>Temperature=%{x}<br>Humidity=%{y}<br>Wind Speed=%{marker.size}<extra></extra>\",\"legendgroup\":\"T-Storm\",\"marker\":{\"color\":\"#636efa\",\"size\":[6,9,13],\"sizemode\":\"area\",\"sizeref\":0.010277777777777778,\"symbol\":\"circle\"},\"mode\":\"markers\",\"name\":\"T-Storm\",\"showlegend\":true,\"x\":[70.0,73.0,82.0],\"xaxis\":\"x\",\"y\":[83,83,62],\"yaxis\":\"y\",\"type\":\"scattergl\"},{\"hovertemplate\":\"Condition=Thunder the Vicinity<br>Temperature=%{x}<br>Humidity=%{y}<br>Wind Speed=%{marker.size}<extra></extra>\",\"legendgroup\":\"Thunder the Vicinity\",\"marker\":{\"color\":\"#EF553B\",\"size\":[10,7],\"sizemode\":\"area\",\"sizeref\":0.010277777777777778,\"symbol\":\"circle\"},\"mode\":\"markers\",\"name\":\"Thunder the Vicinity\",\"showlegend\":true,\"x\":[82.0,77.0],\"xaxis\":\"x\",\"y\":[58,78],\"yaxis\":\"y\",\"type\":\"scattergl\"},{\"hovertemplate\":\"Condition=Heavy T-Storm / Windy<br>Temperature=%{x}<br>Humidity=%{y}<br>Wind Speed=%{marker.size}<extra></extra>\",\"legendgroup\":\"Heavy T-Storm / Windy\",\"marker\":{\"color\":\"#00cc96\",\"size\":[22],\"sizemode\":\"area\",\"sizeref\":0.010277777777777778,\"symbol\":\"circle\"},\"mode\":\"markers\",\"name\":\"Heavy T-Storm / Windy\",\"showlegend\":true,\"x\":[68.0],\"xaxis\":\"x\",\"y\":[88],\"yaxis\":\"y\",\"type\":\"scattergl\"}],                        {\"template\":{\"data\":{\"bar\":[{\"error_x\":{\"color\":\"#2a3f5f\"},\"error_y\":{\"color\":\"#2a3f5f\"},\"marker\":{\"line\":{\"color\":\"#E5ECF6\",\"width\":0.5},\"pattern\":{\"fillmode\":\"overlay\",\"size\":10,\"solidity\":0.2}},\"type\":\"bar\"}],\"barpolar\":[{\"marker\":{\"line\":{\"color\":\"#E5ECF6\",\"width\":0.5},\"pattern\":{\"fillmode\":\"overlay\",\"size\":10,\"solidity\":0.2}},\"type\":\"barpolar\"}],\"carpet\":[{\"aaxis\":{\"endlinecolor\":\"#2a3f5f\",\"gridcolor\":\"white\",\"linecolor\":\"white\",\"minorgridcolor\":\"white\",\"startlinecolor\":\"#2a3f5f\"},\"baxis\":{\"endlinecolor\":\"#2a3f5f\",\"gridcolor\":\"white\",\"linecolor\":\"white\",\"minorgridcolor\":\"white\",\"startlinecolor\":\"#2a3f5f\"},\"type\":\"carpet\"}],\"choropleth\":[{\"colorbar\":{\"outlinewidth\":0,\"ticks\":\"\"},\"type\":\"choropleth\"}],\"contour\":[{\"colorbar\":{\"outlinewidth\":0,\"ticks\":\"\"},\"colorscale\":[[0.0,\"#0d0887\"],[0.1111111111111111,\"#46039f\"],[0.2222222222222222,\"#7201a8\"],[0.3333333333333333,\"#9c179e\"],[0.4444444444444444,\"#bd3786\"],[0.5555555555555556,\"#d8576b\"],[0.6666666666666666,\"#ed7953\"],[0.7777777777777778,\"#fb9f3a\"],[0.8888888888888888,\"#fdca26\"],[1.0,\"#f0f921\"]],\"type\":\"contour\"}],\"contourcarpet\":[{\"colorbar\":{\"outlinewidth\":0,\"ticks\":\"\"},\"type\":\"contourcarpet\"}],\"heatmap\":[{\"colorbar\":{\"outlinewidth\":0,\"ticks\":\"\"},\"colorscale\":[[0.0,\"#0d0887\"],[0.1111111111111111,\"#46039f\"],[0.2222222222222222,\"#7201a8\"],[0.3333333333333333,\"#9c179e\"],[0.4444444444444444,\"#bd3786\"],[0.5555555555555556,\"#d8576b\"],[0.6666666666666666,\"#ed7953\"],[0.7777777777777778,\"#fb9f3a\"],[0.8888888888888888,\"#fdca26\"],[1.0,\"#f0f921\"]],\"type\":\"heatmap\"}],\"heatmapgl\":[{\"colorbar\":{\"outlinewidth\":0,\"ticks\":\"\"},\"colorscale\":[[0.0,\"#0d0887\"],[0.1111111111111111,\"#46039f\"],[0.2222222222222222,\"#7201a8\"],[0.3333333333333333,\"#9c179e\"],[0.4444444444444444,\"#bd3786\"],[0.5555555555555556,\"#d8576b\"],[0.6666666666666666,\"#ed7953\"],[0.7777777777777778,\"#fb9f3a\"],[0.8888888888888888,\"#fdca26\"],[1.0,\"#f0f921\"]],\"type\":\"heatmapgl\"}],\"histogram\":[{\"marker\":{\"pattern\":{\"fillmode\":\"overlay\",\"size\":10,\"solidity\":0.2}},\"type\":\"histogram\"}],\"histogram2d\":[{\"colorbar\":{\"outlinewidth\":0,\"ticks\":\"\"},\"colorscale\":[[0.0,\"#0d0887\"],[0.1111111111111111,\"#46039f\"],[0.2222222222222222,\"#7201a8\"],[0.3333333333333333,\"#9c179e\"],[0.4444444444444444,\"#bd3786\"],[0.5555555555555556,\"#d8576b\"],[0.6666666666666666,\"#ed7953\"],[0.7777777777777778,\"#fb9f3a\"],[0.8888888888888888,\"#fdca26\"],[1.0,\"#f0f921\"]],\"type\":\"histogram2d\"}],\"histogram2dcontour\":[{\"colorbar\":{\"outlinewidth\":0,\"ticks\":\"\"},\"colorscale\":[[0.0,\"#0d0887\"],[0.1111111111111111,\"#46039f\"],[0.2222222222222222,\"#7201a8\"],[0.3333333333333333,\"#9c179e\"],[0.4444444444444444,\"#bd3786\"],[0.5555555555555556,\"#d8576b\"],[0.6666666666666666,\"#ed7953\"],[0.7777777777777778,\"#fb9f3a\"],[0.8888888888888888,\"#fdca26\"],[1.0,\"#f0f921\"]],\"type\":\"histogram2dcontour\"}],\"mesh3d\":[{\"colorbar\":{\"outlinewidth\":0,\"ticks\":\"\"},\"type\":\"mesh3d\"}],\"parcoords\":[{\"line\":{\"colorbar\":{\"outlinewidth\":0,\"ticks\":\"\"}},\"type\":\"parcoords\"}],\"pie\":[{\"automargin\":true,\"type\":\"pie\"}],\"scatter\":[{\"marker\":{\"colorbar\":{\"outlinewidth\":0,\"ticks\":\"\"}},\"type\":\"scatter\"}],\"scatter3d\":[{\"line\":{\"colorbar\":{\"outlinewidth\":0,\"ticks\":\"\"}},\"marker\":{\"colorbar\":{\"outlinewidth\":0,\"ticks\":\"\"}},\"type\":\"scatter3d\"}],\"scattercarpet\":[{\"marker\":{\"colorbar\":{\"outlinewidth\":0,\"ticks\":\"\"}},\"type\":\"scattercarpet\"}],\"scattergeo\":[{\"marker\":{\"colorbar\":{\"outlinewidth\":0,\"ticks\":\"\"}},\"type\":\"scattergeo\"}],\"scattergl\":[{\"marker\":{\"colorbar\":{\"outlinewidth\":0,\"ticks\":\"\"}},\"type\":\"scattergl\"}],\"scattermapbox\":[{\"marker\":{\"colorbar\":{\"outlinewidth\":0,\"ticks\":\"\"}},\"type\":\"scattermapbox\"}],\"scatterpolar\":[{\"marker\":{\"colorbar\":{\"outlinewidth\":0,\"ticks\":\"\"}},\"type\":\"scatterpolar\"}],\"scatterpolargl\":[{\"marker\":{\"colorbar\":{\"outlinewidth\":0,\"ticks\":\"\"}},\"type\":\"scatterpolargl\"}],\"scatterternary\":[{\"marker\":{\"colorbar\":{\"outlinewidth\":0,\"ticks\":\"\"}},\"type\":\"scatterternary\"}],\"surface\":[{\"colorbar\":{\"outlinewidth\":0,\"ticks\":\"\"},\"colorscale\":[[0.0,\"#0d0887\"],[0.1111111111111111,\"#46039f\"],[0.2222222222222222,\"#7201a8\"],[0.3333333333333333,\"#9c179e\"],[0.4444444444444444,\"#bd3786\"],[0.5555555555555556,\"#d8576b\"],[0.6666666666666666,\"#ed7953\"],[0.7777777777777778,\"#fb9f3a\"],[0.8888888888888888,\"#fdca26\"],[1.0,\"#f0f921\"]],\"type\":\"surface\"}],\"table\":[{\"cells\":{\"fill\":{\"color\":\"#EBF0F8\"},\"line\":{\"color\":\"white\"}},\"header\":{\"fill\":{\"color\":\"#C8D4E3\"},\"line\":{\"color\":\"white\"}},\"type\":\"table\"}]},\"layout\":{\"annotationdefaults\":{\"arrowcolor\":\"#2a3f5f\",\"arrowhead\":0,\"arrowwidth\":1},\"autotypenumbers\":\"strict\",\"coloraxis\":{\"colorbar\":{\"outlinewidth\":0,\"ticks\":\"\"}},\"colorscale\":{\"diverging\":[[0,\"#8e0152\"],[0.1,\"#c51b7d\"],[0.2,\"#de77ae\"],[0.3,\"#f1b6da\"],[0.4,\"#fde0ef\"],[0.5,\"#f7f7f7\"],[0.6,\"#e6f5d0\"],[0.7,\"#b8e186\"],[0.8,\"#7fbc41\"],[0.9,\"#4d9221\"],[1,\"#276419\"]],\"sequential\":[[0.0,\"#0d0887\"],[0.1111111111111111,\"#46039f\"],[0.2222222222222222,\"#7201a8\"],[0.3333333333333333,\"#9c179e\"],[0.4444444444444444,\"#bd3786\"],[0.5555555555555556,\"#d8576b\"],[0.6666666666666666,\"#ed7953\"],[0.7777777777777778,\"#fb9f3a\"],[0.8888888888888888,\"#fdca26\"],[1.0,\"#f0f921\"]],\"sequentialminus\":[[0.0,\"#0d0887\"],[0.1111111111111111,\"#46039f\"],[0.2222222222222222,\"#7201a8\"],[0.3333333333333333,\"#9c179e\"],[0.4444444444444444,\"#bd3786\"],[0.5555555555555556,\"#d8576b\"],[0.6666666666666666,\"#ed7953\"],[0.7777777777777778,\"#fb9f3a\"],[0.8888888888888888,\"#fdca26\"],[1.0,\"#f0f921\"]]},\"colorway\":[\"#636efa\",\"#EF553B\",\"#00cc96\",\"#ab63fa\",\"#FFA15A\",\"#19d3f3\",\"#FF6692\",\"#B6E880\",\"#FF97FF\",\"#FECB52\"],\"font\":{\"color\":\"#2a3f5f\"},\"geo\":{\"bgcolor\":\"white\",\"lakecolor\":\"white\",\"landcolor\":\"#E5ECF6\",\"showlakes\":true,\"showland\":true,\"subunitcolor\":\"white\"},\"hoverlabel\":{\"align\":\"left\"},\"hovermode\":\"closest\",\"mapbox\":{\"style\":\"light\"},\"paper_bgcolor\":\"white\",\"plot_bgcolor\":\"#E5ECF6\",\"polar\":{\"angularaxis\":{\"gridcolor\":\"white\",\"linecolor\":\"white\",\"ticks\":\"\"},\"bgcolor\":\"#E5ECF6\",\"radialaxis\":{\"gridcolor\":\"white\",\"linecolor\":\"white\",\"ticks\":\"\"}},\"scene\":{\"xaxis\":{\"backgroundcolor\":\"#E5ECF6\",\"gridcolor\":\"white\",\"gridwidth\":2,\"linecolor\":\"white\",\"showbackground\":true,\"ticks\":\"\",\"zerolinecolor\":\"white\"},\"yaxis\":{\"backgroundcolor\":\"#E5ECF6\",\"gridcolor\":\"white\",\"gridwidth\":2,\"linecolor\":\"white\",\"showbackground\":true,\"ticks\":\"\",\"zerolinecolor\":\"white\"},\"zaxis\":{\"backgroundcolor\":\"#E5ECF6\",\"gridcolor\":\"white\",\"gridwidth\":2,\"linecolor\":\"white\",\"showbackground\":true,\"ticks\":\"\",\"zerolinecolor\":\"white\"}},\"shapedefaults\":{\"line\":{\"color\":\"#2a3f5f\"}},\"ternary\":{\"aaxis\":{\"gridcolor\":\"white\",\"linecolor\":\"white\",\"ticks\":\"\"},\"baxis\":{\"gridcolor\":\"white\",\"linecolor\":\"white\",\"ticks\":\"\"},\"bgcolor\":\"#E5ECF6\",\"caxis\":{\"gridcolor\":\"white\",\"linecolor\":\"white\",\"ticks\":\"\"}},\"title\":{\"x\":0.05},\"xaxis\":{\"automargin\":true,\"gridcolor\":\"white\",\"linecolor\":\"white\",\"ticks\":\"\",\"title\":{\"standoff\":15},\"zerolinecolor\":\"white\",\"zerolinewidth\":2},\"yaxis\":{\"automargin\":true,\"gridcolor\":\"white\",\"linecolor\":\"white\",\"ticks\":\"\",\"title\":{\"standoff\":15},\"zerolinecolor\":\"white\",\"zerolinewidth\":2}}},\"xaxis\":{\"anchor\":\"y\",\"domain\":[0.0,1.0],\"title\":{\"text\":\"Temperature\"}},\"yaxis\":{\"anchor\":\"x\",\"domain\":[0.0,1.0],\"title\":{\"text\":\"Humidity\"}},\"legend\":{\"title\":{\"text\":\"Condition\"},\"tracegroupgap\":0,\"itemsizing\":\"constant\"},\"margin\":{\"t\":60}},                        {\"responsive\": true}                    ).then(function(){\n",
              "                            \n",
              "var gd = document.getElementById('c7a9b1ca-3205-4f34-aacc-8129b4fdd9b8');\n",
              "var x = new MutationObserver(function (mutations, observer) {{\n",
              "        var display = window.getComputedStyle(gd).display;\n",
              "        if (!display || display === 'none') {{\n",
              "            console.log([gd, 'removed!']);\n",
              "            Plotly.purge(gd);\n",
              "            observer.disconnect();\n",
              "        }}\n",
              "}});\n",
              "\n",
              "// Listen for the removal of the full notebook cells\n",
              "var notebookContainer = gd.closest('#notebook-container');\n",
              "if (notebookContainer) {{\n",
              "    x.observe(notebookContainer, {childList: true});\n",
              "}}\n",
              "\n",
              "// Listen for the clearing of the current output cell\n",
              "var outputEl = gd.closest('.output');\n",
              "if (outputEl) {{\n",
              "    x.observe(outputEl, {childList: true});\n",
              "}}\n",
              "\n",
              "                        })                };                            </script>        </div>\n",
              "</body>\n",
              "</html>"
            ]
          },
          "metadata": {}
        }
      ]
    },
    {
      "cell_type": "code",
      "execution_count": 23,
      "outputs": [
        {
          "output_type": "display_data",
          "data": {
            "text/html": [
              "<html>\n",
              "<head><meta charset=\"utf-8\" /></head>\n",
              "<body>\n",
              "    <div>            <script src=\"https://cdnjs.cloudflare.com/ajax/libs/mathjax/2.7.5/MathJax.js?config=TeX-AMS-MML_SVG\"></script><script type=\"text/javascript\">if (window.MathJax) {MathJax.Hub.Config({SVG: {font: \"STIX-Web\"}});}</script>                <script type=\"text/javascript\">window.PlotlyConfig = {MathJaxConfig: 'local'};</script>\n",
              "        <script src=\"https://cdn.plot.ly/plotly-2.8.3.min.js\"></script>                <div id=\"c8f86d0d-8b16-41ca-b416-e82a33ecf3fb\" class=\"plotly-graph-div\" style=\"height:525px; width:100%;\"></div>            <script type=\"text/javascript\">                                    window.PLOTLYENV=window.PLOTLYENV || {};                                    if (document.getElementById(\"c8f86d0d-8b16-41ca-b416-e82a33ecf3fb\")) {                    Plotly.newPlot(                        \"c8f86d0d-8b16-41ca-b416-e82a33ecf3fb\",                        [{\"hovertemplate\":\"Condition=Fair<br>Temperature=%{x}<br>Humidity=%{y}<br>Wind Speed=%{marker.size}<extra></extra>\",\"legendgroup\":\"Fair\",\"marker\":{\"color\":\"#636efa\",\"size\":[12,21,20,14,14,12,18,37,12,13,22,18,21,17,22,30,30,26,23,23,25,28,31,28,24],\"sizemode\":\"area\",\"sizeref\":0.010277777777777778,\"symbol\":\"circle\"},\"mode\":\"markers\",\"name\":\"Fair\",\"orientation\":\"v\",\"showlegend\":true,\"x\":[93.0,99.0,91.0,91.0,90.0,93.0,100.0,100.0,88.0,86.0,88.0,90.0,88.0,90.0,91.0,90.0,90.0,88.0,91.0,93.0,91.0,88.0,88.0,84.0,86.0],\"xaxis\":\"x\",\"y\":[73,55,65,69,69,78,73,33,83,88,88,73,78,88,83,61,65,51,44,47,50,57,54,61,57],\"yaxis\":\"y\",\"type\":\"scatter\"},{\"hovertemplate\":\"Condition=Mostly Cloudy<br>Temperature=%{x}<br>Humidity=%{y}<br>Wind Speed=%{marker.size}<extra></extra>\",\"legendgroup\":\"Mostly Cloudy\",\"marker\":{\"color\":\"#EF553B\",\"size\":[16,13],\"sizemode\":\"area\",\"sizeref\":0.010277777777777778,\"symbol\":\"circle\"},\"mode\":\"markers\",\"name\":\"Mostly Cloudy\",\"orientation\":\"v\",\"showlegend\":true,\"x\":[82.0,86.0],\"xaxis\":\"x\",\"y\":[78,88],\"yaxis\":\"y\",\"type\":\"scatter\"},{\"hovertemplate\":\"Condition=Partly Cloudy<br>Temperature=%{x}<br>Humidity=%{y}<br>Wind Speed=%{marker.size}<extra></extra>\",\"legendgroup\":\"Partly Cloudy\",\"marker\":{\"color\":\"#00cc96\",\"size\":[12],\"sizemode\":\"area\",\"sizeref\":0.010277777777777778,\"symbol\":\"circle\"},\"mode\":\"markers\",\"name\":\"Partly Cloudy\",\"orientation\":\"v\",\"showlegend\":true,\"x\":[86.0],\"xaxis\":\"x\",\"y\":[88],\"yaxis\":\"y\",\"type\":\"scatter\"},{\"hovertemplate\":\"Condition=Fair / Windy<br>Temperature=%{x}<br>Humidity=%{y}<br>Wind Speed=%{marker.size}<extra></extra>\",\"legendgroup\":\"Fair / Windy\",\"marker\":{\"color\":\"#ab63fa\",\"size\":[30],\"sizemode\":\"area\",\"sizeref\":0.010277777777777778,\"symbol\":\"circle\"},\"mode\":\"markers\",\"name\":\"Fair / Windy\",\"orientation\":\"v\",\"showlegend\":true,\"x\":[84.0],\"xaxis\":\"x\",\"y\":[61],\"yaxis\":\"y\",\"type\":\"scatter\"}],                        {\"template\":{\"data\":{\"bar\":[{\"error_x\":{\"color\":\"#2a3f5f\"},\"error_y\":{\"color\":\"#2a3f5f\"},\"marker\":{\"line\":{\"color\":\"#E5ECF6\",\"width\":0.5},\"pattern\":{\"fillmode\":\"overlay\",\"size\":10,\"solidity\":0.2}},\"type\":\"bar\"}],\"barpolar\":[{\"marker\":{\"line\":{\"color\":\"#E5ECF6\",\"width\":0.5},\"pattern\":{\"fillmode\":\"overlay\",\"size\":10,\"solidity\":0.2}},\"type\":\"barpolar\"}],\"carpet\":[{\"aaxis\":{\"endlinecolor\":\"#2a3f5f\",\"gridcolor\":\"white\",\"linecolor\":\"white\",\"minorgridcolor\":\"white\",\"startlinecolor\":\"#2a3f5f\"},\"baxis\":{\"endlinecolor\":\"#2a3f5f\",\"gridcolor\":\"white\",\"linecolor\":\"white\",\"minorgridcolor\":\"white\",\"startlinecolor\":\"#2a3f5f\"},\"type\":\"carpet\"}],\"choropleth\":[{\"colorbar\":{\"outlinewidth\":0,\"ticks\":\"\"},\"type\":\"choropleth\"}],\"contour\":[{\"colorbar\":{\"outlinewidth\":0,\"ticks\":\"\"},\"colorscale\":[[0.0,\"#0d0887\"],[0.1111111111111111,\"#46039f\"],[0.2222222222222222,\"#7201a8\"],[0.3333333333333333,\"#9c179e\"],[0.4444444444444444,\"#bd3786\"],[0.5555555555555556,\"#d8576b\"],[0.6666666666666666,\"#ed7953\"],[0.7777777777777778,\"#fb9f3a\"],[0.8888888888888888,\"#fdca26\"],[1.0,\"#f0f921\"]],\"type\":\"contour\"}],\"contourcarpet\":[{\"colorbar\":{\"outlinewidth\":0,\"ticks\":\"\"},\"type\":\"contourcarpet\"}],\"heatmap\":[{\"colorbar\":{\"outlinewidth\":0,\"ticks\":\"\"},\"colorscale\":[[0.0,\"#0d0887\"],[0.1111111111111111,\"#46039f\"],[0.2222222222222222,\"#7201a8\"],[0.3333333333333333,\"#9c179e\"],[0.4444444444444444,\"#bd3786\"],[0.5555555555555556,\"#d8576b\"],[0.6666666666666666,\"#ed7953\"],[0.7777777777777778,\"#fb9f3a\"],[0.8888888888888888,\"#fdca26\"],[1.0,\"#f0f921\"]],\"type\":\"heatmap\"}],\"heatmapgl\":[{\"colorbar\":{\"outlinewidth\":0,\"ticks\":\"\"},\"colorscale\":[[0.0,\"#0d0887\"],[0.1111111111111111,\"#46039f\"],[0.2222222222222222,\"#7201a8\"],[0.3333333333333333,\"#9c179e\"],[0.4444444444444444,\"#bd3786\"],[0.5555555555555556,\"#d8576b\"],[0.6666666666666666,\"#ed7953\"],[0.7777777777777778,\"#fb9f3a\"],[0.8888888888888888,\"#fdca26\"],[1.0,\"#f0f921\"]],\"type\":\"heatmapgl\"}],\"histogram\":[{\"marker\":{\"pattern\":{\"fillmode\":\"overlay\",\"size\":10,\"solidity\":0.2}},\"type\":\"histogram\"}],\"histogram2d\":[{\"colorbar\":{\"outlinewidth\":0,\"ticks\":\"\"},\"colorscale\":[[0.0,\"#0d0887\"],[0.1111111111111111,\"#46039f\"],[0.2222222222222222,\"#7201a8\"],[0.3333333333333333,\"#9c179e\"],[0.4444444444444444,\"#bd3786\"],[0.5555555555555556,\"#d8576b\"],[0.6666666666666666,\"#ed7953\"],[0.7777777777777778,\"#fb9f3a\"],[0.8888888888888888,\"#fdca26\"],[1.0,\"#f0f921\"]],\"type\":\"histogram2d\"}],\"histogram2dcontour\":[{\"colorbar\":{\"outlinewidth\":0,\"ticks\":\"\"},\"colorscale\":[[0.0,\"#0d0887\"],[0.1111111111111111,\"#46039f\"],[0.2222222222222222,\"#7201a8\"],[0.3333333333333333,\"#9c179e\"],[0.4444444444444444,\"#bd3786\"],[0.5555555555555556,\"#d8576b\"],[0.6666666666666666,\"#ed7953\"],[0.7777777777777778,\"#fb9f3a\"],[0.8888888888888888,\"#fdca26\"],[1.0,\"#f0f921\"]],\"type\":\"histogram2dcontour\"}],\"mesh3d\":[{\"colorbar\":{\"outlinewidth\":0,\"ticks\":\"\"},\"type\":\"mesh3d\"}],\"parcoords\":[{\"line\":{\"colorbar\":{\"outlinewidth\":0,\"ticks\":\"\"}},\"type\":\"parcoords\"}],\"pie\":[{\"automargin\":true,\"type\":\"pie\"}],\"scatter\":[{\"marker\":{\"colorbar\":{\"outlinewidth\":0,\"ticks\":\"\"}},\"type\":\"scatter\"}],\"scatter3d\":[{\"line\":{\"colorbar\":{\"outlinewidth\":0,\"ticks\":\"\"}},\"marker\":{\"colorbar\":{\"outlinewidth\":0,\"ticks\":\"\"}},\"type\":\"scatter3d\"}],\"scattercarpet\":[{\"marker\":{\"colorbar\":{\"outlinewidth\":0,\"ticks\":\"\"}},\"type\":\"scattercarpet\"}],\"scattergeo\":[{\"marker\":{\"colorbar\":{\"outlinewidth\":0,\"ticks\":\"\"}},\"type\":\"scattergeo\"}],\"scattergl\":[{\"marker\":{\"colorbar\":{\"outlinewidth\":0,\"ticks\":\"\"}},\"type\":\"scattergl\"}],\"scattermapbox\":[{\"marker\":{\"colorbar\":{\"outlinewidth\":0,\"ticks\":\"\"}},\"type\":\"scattermapbox\"}],\"scatterpolar\":[{\"marker\":{\"colorbar\":{\"outlinewidth\":0,\"ticks\":\"\"}},\"type\":\"scatterpolar\"}],\"scatterpolargl\":[{\"marker\":{\"colorbar\":{\"outlinewidth\":0,\"ticks\":\"\"}},\"type\":\"scatterpolargl\"}],\"scatterternary\":[{\"marker\":{\"colorbar\":{\"outlinewidth\":0,\"ticks\":\"\"}},\"type\":\"scatterternary\"}],\"surface\":[{\"colorbar\":{\"outlinewidth\":0,\"ticks\":\"\"},\"colorscale\":[[0.0,\"#0d0887\"],[0.1111111111111111,\"#46039f\"],[0.2222222222222222,\"#7201a8\"],[0.3333333333333333,\"#9c179e\"],[0.4444444444444444,\"#bd3786\"],[0.5555555555555556,\"#d8576b\"],[0.6666666666666666,\"#ed7953\"],[0.7777777777777778,\"#fb9f3a\"],[0.8888888888888888,\"#fdca26\"],[1.0,\"#f0f921\"]],\"type\":\"surface\"}],\"table\":[{\"cells\":{\"fill\":{\"color\":\"#EBF0F8\"},\"line\":{\"color\":\"white\"}},\"header\":{\"fill\":{\"color\":\"#C8D4E3\"},\"line\":{\"color\":\"white\"}},\"type\":\"table\"}]},\"layout\":{\"annotationdefaults\":{\"arrowcolor\":\"#2a3f5f\",\"arrowhead\":0,\"arrowwidth\":1},\"autotypenumbers\":\"strict\",\"coloraxis\":{\"colorbar\":{\"outlinewidth\":0,\"ticks\":\"\"}},\"colorscale\":{\"diverging\":[[0,\"#8e0152\"],[0.1,\"#c51b7d\"],[0.2,\"#de77ae\"],[0.3,\"#f1b6da\"],[0.4,\"#fde0ef\"],[0.5,\"#f7f7f7\"],[0.6,\"#e6f5d0\"],[0.7,\"#b8e186\"],[0.8,\"#7fbc41\"],[0.9,\"#4d9221\"],[1,\"#276419\"]],\"sequential\":[[0.0,\"#0d0887\"],[0.1111111111111111,\"#46039f\"],[0.2222222222222222,\"#7201a8\"],[0.3333333333333333,\"#9c179e\"],[0.4444444444444444,\"#bd3786\"],[0.5555555555555556,\"#d8576b\"],[0.6666666666666666,\"#ed7953\"],[0.7777777777777778,\"#fb9f3a\"],[0.8888888888888888,\"#fdca26\"],[1.0,\"#f0f921\"]],\"sequentialminus\":[[0.0,\"#0d0887\"],[0.1111111111111111,\"#46039f\"],[0.2222222222222222,\"#7201a8\"],[0.3333333333333333,\"#9c179e\"],[0.4444444444444444,\"#bd3786\"],[0.5555555555555556,\"#d8576b\"],[0.6666666666666666,\"#ed7953\"],[0.7777777777777778,\"#fb9f3a\"],[0.8888888888888888,\"#fdca26\"],[1.0,\"#f0f921\"]]},\"colorway\":[\"#636efa\",\"#EF553B\",\"#00cc96\",\"#ab63fa\",\"#FFA15A\",\"#19d3f3\",\"#FF6692\",\"#B6E880\",\"#FF97FF\",\"#FECB52\"],\"font\":{\"color\":\"#2a3f5f\"},\"geo\":{\"bgcolor\":\"white\",\"lakecolor\":\"white\",\"landcolor\":\"#E5ECF6\",\"showlakes\":true,\"showland\":true,\"subunitcolor\":\"white\"},\"hoverlabel\":{\"align\":\"left\"},\"hovermode\":\"closest\",\"mapbox\":{\"style\":\"light\"},\"paper_bgcolor\":\"white\",\"plot_bgcolor\":\"#E5ECF6\",\"polar\":{\"angularaxis\":{\"gridcolor\":\"white\",\"linecolor\":\"white\",\"ticks\":\"\"},\"bgcolor\":\"#E5ECF6\",\"radialaxis\":{\"gridcolor\":\"white\",\"linecolor\":\"white\",\"ticks\":\"\"}},\"scene\":{\"xaxis\":{\"backgroundcolor\":\"#E5ECF6\",\"gridcolor\":\"white\",\"gridwidth\":2,\"linecolor\":\"white\",\"showbackground\":true,\"ticks\":\"\",\"zerolinecolor\":\"white\"},\"yaxis\":{\"backgroundcolor\":\"#E5ECF6\",\"gridcolor\":\"white\",\"gridwidth\":2,\"linecolor\":\"white\",\"showbackground\":true,\"ticks\":\"\",\"zerolinecolor\":\"white\"},\"zaxis\":{\"backgroundcolor\":\"#E5ECF6\",\"gridcolor\":\"white\",\"gridwidth\":2,\"linecolor\":\"white\",\"showbackground\":true,\"ticks\":\"\",\"zerolinecolor\":\"white\"}},\"shapedefaults\":{\"line\":{\"color\":\"#2a3f5f\"}},\"ternary\":{\"aaxis\":{\"gridcolor\":\"white\",\"linecolor\":\"white\",\"ticks\":\"\"},\"baxis\":{\"gridcolor\":\"white\",\"linecolor\":\"white\",\"ticks\":\"\"},\"bgcolor\":\"#E5ECF6\",\"caxis\":{\"gridcolor\":\"white\",\"linecolor\":\"white\",\"ticks\":\"\"}},\"title\":{\"x\":0.05},\"xaxis\":{\"automargin\":true,\"gridcolor\":\"white\",\"linecolor\":\"white\",\"ticks\":\"\",\"title\":{\"standoff\":15},\"zerolinecolor\":\"white\",\"zerolinewidth\":2},\"yaxis\":{\"automargin\":true,\"gridcolor\":\"white\",\"linecolor\":\"white\",\"ticks\":\"\",\"title\":{\"standoff\":15},\"zerolinecolor\":\"white\",\"zerolinewidth\":2}}},\"xaxis\":{\"anchor\":\"y\",\"domain\":[0.0,1.0],\"title\":{\"text\":\"Temperature\"}},\"yaxis\":{\"anchor\":\"x\",\"domain\":[0.0,1.0],\"title\":{\"text\":\"Humidity\"}},\"legend\":{\"title\":{\"text\":\"Condition\"},\"tracegroupgap\":0,\"itemsizing\":\"constant\"},\"margin\":{\"t\":60}},                        {\"responsive\": true}                    ).then(function(){\n",
              "                            \n",
              "var gd = document.getElementById('c8f86d0d-8b16-41ca-b416-e82a33ecf3fb');\n",
              "var x = new MutationObserver(function (mutations, observer) {{\n",
              "        var display = window.getComputedStyle(gd).display;\n",
              "        if (!display || display === 'none') {{\n",
              "            console.log([gd, 'removed!']);\n",
              "            Plotly.purge(gd);\n",
              "            observer.disconnect();\n",
              "        }}\n",
              "}});\n",
              "\n",
              "// Listen for the removal of the full notebook cells\n",
              "var notebookContainer = gd.closest('#notebook-container');\n",
              "if (notebookContainer) {{\n",
              "    x.observe(notebookContainer, {childList: true});\n",
              "}}\n",
              "\n",
              "// Listen for the clearing of the current output cell\n",
              "var outputEl = gd.closest('.output');\n",
              "if (outputEl) {{\n",
              "    x.observe(outputEl, {childList: true});\n",
              "}}\n",
              "\n",
              "                        })                };                            </script>        </div>\n",
              "</body>\n",
              "</html>"
            ]
          },
          "metadata": {}
        }
      ],
      "source": [
        "import plotly.express as px\n",
        "\n",
        "\n",
        "max_temp = df.groupby('Date').agg({'Temperature':'max'})\n",
        "max_hum = df.groupby('Date').agg({'Humidity':'max'})\n",
        "max_wind = df.groupby('Date').agg({'Wind Speed':'max'})\n",
        "max_cond = df.groupby('Date')['Condition'].agg(pd.Series.mode)\n",
        "\n",
        "fig = px.scatter(df, x=max_temp.iloc[:,-1], y=max_hum.iloc[:,-1],\n",
        "\t         size=max_wind.iloc[:,-1], color=max_cond, size_max=60, labels = {\"x\":'Temperature', \"y\":'Humidity', 'size':'Wind Speed', 'color':\"Condition\"})\n",
        "fig.show()\n",
        "\n"
      ],
      "metadata": {
        "pycharm": {
          "name": "#%%\n"
        },
        "colab": {
          "base_uri": "https://localhost:8080/",
          "height": 542
        },
        "outputId": "73210b5a-7d9c-4887-a401-70f1f7776f5b",
        "id": "2BIEIk9MpO3A"
      }
    },
    {
      "cell_type": "code",
      "source": [],
      "metadata": {
        "id": "zMcB0bBPyqb_"
      },
      "execution_count": 23,
      "outputs": []
    }
  ],
  "metadata": {
    "kernelspec": {
      "display_name": "Python 3",
      "language": "python",
      "name": "python3"
    },
    "language_info": {
      "codemirror_mode": {
        "name": "ipython",
        "version": 2
      },
      "file_extension": ".py",
      "mimetype": "text/x-python",
      "name": "python",
      "nbconvert_exporter": "python",
      "pygments_lexer": "ipython2",
      "version": "2.7.6"
    },
    "colab": {
      "provenance": [],
      "include_colab_link": true
    }
  },
  "nbformat": 4,
  "nbformat_minor": 0
}